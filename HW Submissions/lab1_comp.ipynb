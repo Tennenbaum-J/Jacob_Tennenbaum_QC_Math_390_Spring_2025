{
 "cells": [
  {
   "cell_type": "markdown",
   "metadata": {},
   "source": [
    "## Course Assignment Instructions\n",
    "You should have Python (version 3.8 or later) and Jupyter Notebook installed to complete this assignment. You will write code in the empty cell/cells below the problem. While most of this will be a programming assignment, some questions will ask you to \"write a few sentences\" in markdown cells. \n",
    "\n",
    "Submission Instructions:\n",
    "\n",
    "Create a labs directory in your personal class repository (e.g., located in your home directory)\n",
    "Clone the class repository\n",
    "Copy this Jupyter notebook file (.ipynb) into your repo/labs directory\n",
    "Make your edits, commit changes, and push to your repository\n",
    "All submissions must be pushed before the due date to avoid late penalties"
   ]
  },
  {
   "cell_type": "markdown",
   "metadata": {},
   "source": [
    "* Install the numpy, scipy, statsmodels, and pandas packages (we will be using these throughout the semester)"
   ]
  },
  {
   "cell_type": "code",
   "execution_count": 1,
   "metadata": {},
   "outputs": [
    {
     "name": "stdout",
     "output_type": "stream",
     "text": [
      "Requirement already satisfied: numpy in c:\\users\\jacob\\anaconda3\\lib\\site-packages (1.26.4)\n",
      "Requirement already satisfied: scipy in c:\\users\\jacob\\anaconda3\\lib\\site-packages (1.13.1)\n",
      "Requirement already satisfied: statsmodels in c:\\users\\jacob\\anaconda3\\lib\\site-packages (0.14.2)\n",
      "Requirement already satisfied: pandas in c:\\users\\jacob\\anaconda3\\lib\\site-packages (2.2.2)\n",
      "Requirement already satisfied: patsy>=0.5.6 in c:\\users\\jacob\\anaconda3\\lib\\site-packages (from statsmodels) (0.5.6)\n",
      "Requirement already satisfied: packaging>=21.3 in c:\\users\\jacob\\anaconda3\\lib\\site-packages (from statsmodels) (24.1)\n",
      "Requirement already satisfied: python-dateutil>=2.8.2 in c:\\users\\jacob\\anaconda3\\lib\\site-packages (from pandas) (2.9.0.post0)\n",
      "Requirement already satisfied: pytz>=2020.1 in c:\\users\\jacob\\anaconda3\\lib\\site-packages (from pandas) (2024.1)\n",
      "Requirement already satisfied: tzdata>=2022.7 in c:\\users\\jacob\\anaconda3\\lib\\site-packages (from pandas) (2023.3)\n",
      "Requirement already satisfied: six in c:\\users\\jacob\\anaconda3\\lib\\site-packages (from patsy>=0.5.6->statsmodels) (1.16.0)\n",
      "Note: you may need to restart the kernel to use updated packages.\n"
     ]
    }
   ],
   "source": [
    "pip install numpy scipy statsmodels pandas"
   ]
  },
  {
   "cell_type": "markdown",
   "metadata": {},
   "source": [
    "* Print out the numerical constant pi with ten digits after the decimal point using constant 'pi'. You will need to use the math module in python for this. "
   ]
  },
  {
   "cell_type": "code",
   "execution_count": 188,
   "metadata": {
    "colab": {
     "base_uri": "https://localhost:8080/"
    },
    "id": "bnvDOejmkGVm",
    "outputId": "4c897e58-b256-48ec-8dd4-6a6b1ba72114"
   },
   "outputs": [
    {
     "name": "stdout",
     "output_type": "stream",
     "text": [
      "3.1415926536\n"
     ]
    }
   ],
   "source": [
    "import math\n",
    "\n",
    "print(round(math.pi,10))"
   ]
  },
  {
   "cell_type": "markdown",
   "metadata": {
    "id": "Uavy5yJm7sLm"
   },
   "source": [
    "* Sum up the first 103 terms of the series 1 + 1/2 + 1/4 + 1/8 + ... use base python"
   ]
  },
  {
   "cell_type": "code",
   "execution_count": 190,
   "metadata": {
    "colab": {
     "base_uri": "https://localhost:8080/"
    },
    "id": "xRoIK9LW70-z",
    "outputId": "fb7d981e-d80e-4a2b-cb5a-9037d1a8bba9"
   },
   "outputs": [
    {
     "name": "stdout",
     "output_type": "stream",
     "text": [
      "2.0\n"
     ]
    }
   ],
   "source": [
    "sum = 0\n",
    "\n",
    "for num in range(0, 103):\n",
    "    sum += (0.5 ** num)\n",
    "\n",
    "print(sum)"
   ]
  },
  {
   "cell_type": "markdown",
   "metadata": {},
   "source": [
    "using numpy"
   ]
  },
  {
   "cell_type": "code",
   "execution_count": 1,
   "metadata": {
    "colab": {
     "base_uri": "https://localhost:8080/"
    },
    "id": "rn-pDnETQO7H",
    "outputId": "64add9d3-6314-46fc-a953-60e628a5dcf6"
   },
   "outputs": [
    {
     "name": "stdout",
     "output_type": "stream",
     "text": [
      "inf\n"
     ]
    },
    {
     "name": "stderr",
     "output_type": "stream",
     "text": [
      "C:\\Users\\Jacob\\AppData\\Local\\Temp\\ipykernel_7932\\2937037569.py:3: DeprecationWarning: Calling np.sum(generator) is deprecated, and in the future will give a different result. Use np.sum(np.fromiter(generator)) or the python sum builtin instead.\n",
      "  total = np.sum(1/(2 ** i) for i in np.arange(103))\n",
      "C:\\Users\\Jacob\\AppData\\Local\\Temp\\ipykernel_7932\\2937037569.py:3: RuntimeWarning: divide by zero encountered in scalar divide\n",
      "  total = np.sum(1/(2 ** i) for i in np.arange(103))\n"
     ]
    }
   ],
   "source": [
    "import numpy as np\n",
    "\n",
    "total = np.sum(1/(2 ** i) for i in np.arange(103))\n",
    "print(total)"
   ]
  },
  {
   "cell_type": "markdown",
   "metadata": {
    "id": "oQEj31GARHuP"
   },
   "source": [
    " * The issue here arises because NumPy's 2 ** np.arange(103) may overflow for very large exponents, leading to incorrect results. NumPy uses fixed-precision data types, which can cause problems when dealing with extremely large numbers.  * The issue here arises because NumPy's 2 ** np.arange(103) may overflow for very large exponents, leading to incorrect results. NumPy uses fixed-precision data types, which can cause problems when dealing with extremely large numbers."
   ]
  },
  {
   "cell_type": "code",
   "execution_count": 5,
   "metadata": {
    "colab": {
     "base_uri": "https://localhost:8080/"
    },
    "id": "4znUgZRjQwoD",
    "outputId": "d580e891-8291-4c4e-9abe-ff987a806201"
   },
   "outputs": [
    {
     "name": "stdout",
     "output_type": "stream",
     "text": [
      "2.0\n"
     ]
    },
    {
     "name": "stderr",
     "output_type": "stream",
     "text": [
      "C:\\Users\\Jacob\\AppData\\Local\\Temp\\ipykernel_15796\\326380725.py:1: DeprecationWarning: Calling np.sum(generator) is deprecated, and in the future will give a different result. Use np.sum(np.fromiter(generator)) or the python sum builtin instead.\n",
      "  total = np.sum(1/(2.0 ** i) for i in np.arange(103))\n"
     ]
    }
   ],
   "source": [
    "total = np.sum(1/(2.0 ** i) for i in np.arange(103))\n",
    "print(total)"
   ]
  },
  {
   "cell_type": "markdown",
   "metadata": {
    "id": "p7X2hTJWRtuo"
   },
   "source": [
    "* Find the product of the first 387 terms of `1 * 1/2 * 1/4 * 1/8 *` ..."
   ]
  },
  {
   "cell_type": "markdown",
   "metadata": {
    "id": "fy1ZDTxJSL7_"
   },
   "source": [
    "using base python"
   ]
  },
  {
   "cell_type": "code",
   "execution_count": 196,
   "metadata": {
    "colab": {
     "base_uri": "https://localhost:8080/"
    },
    "id": "jp0AKiCiRxB9",
    "outputId": "d025dd82-9434-463f-f228-9d42d15ef398"
   },
   "outputs": [
    {
     "name": "stdout",
     "output_type": "stream",
     "text": [
      "0.0\n"
     ]
    }
   ],
   "source": [
    "prod = 1\n",
    "\n",
    "for num in range(387):\n",
    "    prod *= 1/(2 ** num)\n",
    "\n",
    "print(prod)"
   ]
  },
  {
   "cell_type": "markdown",
   "metadata": {
    "id": "EPMSU8pySJtw"
   },
   "source": [
    "using numpy"
   ]
  },
  {
   "cell_type": "code",
   "execution_count": 198,
   "metadata": {
    "colab": {
     "base_uri": "https://localhost:8080/"
    },
    "id": "A2ctxQ1iRvG7",
    "outputId": "86d4b076-a029-4342-a1fb-6e1f0ac53c12"
   },
   "outputs": [
    {
     "name": "stdout",
     "output_type": "stream",
     "text": [
      "0.0\n"
     ]
    }
   ],
   "source": [
    "num = np.prod(1/(2.0 ** np.arange(387)))\n",
    "print(num)"
   ]
  },
  {
   "cell_type": "markdown",
   "metadata": {
    "id": "B4VQOLKYTPCj"
   },
   "source": [
    "Is this answer *exactly* correct?\n",
    "\n",
    "No, this answer is not exactly correct. The number should be positive although very small and the answer generated is a result of numerical underflow."
   ]
  },
  {
   "cell_type": "markdown",
   "metadata": {
    "id": "zFA5JJfzTJtX"
   },
   "source": [
    "* Figure out a means to express the answer more exactly. Not compute exactly, but express more exactly."
   ]
  },
  {
   "cell_type": "code",
   "execution_count": 7,
   "metadata": {
    "colab": {
     "base_uri": "https://localhost:8080/"
    },
    "id": "VIjX6xzAS-gf",
    "outputId": "9c704c4c-5656-4106-f969-0ebc7664222f"
   },
   "outputs": [
    {
     "name": "stdout",
     "output_type": "stream",
     "text": [
      "-51771.856063202875\n"
     ]
    }
   ],
   "source": [
    "import math as m\n",
    "\n",
    "total = -m.log(2) * sum(range(387))\n",
    "print(total)"
   ]
  },
  {
   "cell_type": "markdown",
   "metadata": {},
   "source": [
    "* using numpy ... Hint: use the `log` and `sum` functions in numpy"
   ]
  },
  {
   "cell_type": "code",
   "execution_count": 208,
   "metadata": {
    "colab": {
     "base_uri": "https://localhost:8080/"
    },
    "id": "GUqiwC3nS-oh",
    "outputId": "a98e5f2b-8391-40c6-a1a4-7535d1b971c9"
   },
   "outputs": [
    {
     "name": "stdout",
     "output_type": "stream",
     "text": [
      "-51771.856063202875\n"
     ]
    }
   ],
   "source": [
    "total = -np.log(2) * np.sum(np.arange(387))\n",
    "print(total)"
   ]
  },
  {
   "cell_type": "markdown",
   "metadata": {
    "id": "aykGSWDVVIkE"
   },
   "source": [
    "* Create the sequence `x = [Inf, 20, 18, ..., -20]`."
   ]
  },
  {
   "cell_type": "markdown",
   "metadata": {
    "id": "mLlQPD-VVCle"
   },
   "source": [
    "Pure python"
   ]
  },
  {
   "cell_type": "code",
   "execution_count": 210,
   "metadata": {
    "colab": {
     "base_uri": "https://localhost:8080/"
    },
    "id": "S8Mnf42kU5D3",
    "outputId": "b69d220c-b166-4f37-b013-067e1adaf73b"
   },
   "outputs": [
    {
     "name": "stdout",
     "output_type": "stream",
     "text": [
      "[inf, 20, 18, 16, 14, 12, 10, 8, 6, 4, 2, 0, -2, -4, -6, -8, -10, -12, -14, -16, -18, -20]\n"
     ]
    }
   ],
   "source": [
    "# Create the sequence\n",
    "x = [float('inf')] + list(range(20, -21, -2))\n",
    "\n",
    "# Print the result\n",
    "print(x)"
   ]
  },
  {
   "cell_type": "markdown",
   "metadata": {
    "id": "ANVsEVzkU_N6"
   },
   "source": [
    "Using numpy"
   ]
  },
  {
   "cell_type": "code",
   "execution_count": 212,
   "metadata": {
    "colab": {
     "base_uri": "https://localhost:8080/"
    },
    "id": "pi0uutpUU5NA",
    "outputId": "db7fab14-b6d7-4619-9527-3b2aee8be37a"
   },
   "outputs": [
    {
     "name": "stdout",
     "output_type": "stream",
     "text": [
      "[inf, 20, 18, 16, 14, 12, 10, 8, 6, 4, 2, 0, -2, -4, -6, -8, -10, -12, -14, -16, -18, -20]\n"
     ]
    }
   ],
   "source": [
    "# Create the sequence\n",
    "x = [float('inf')] + list(np.arange(20, -22, -2))\n",
    "\n",
    "# Print the result\n",
    "print(x)"
   ]
  },
  {
   "cell_type": "markdown",
   "metadata": {
    "id": "8cu3L5kJVNU3"
   },
   "source": [
    "*   Create the sequence `x = [log_3(Inf), log_3(100), log_3(98), ... log_3(-20)]` ... Use `log` from numpy."
   ]
  },
  {
   "cell_type": "code",
   "execution_count": 214,
   "metadata": {
    "colab": {
     "base_uri": "https://localhost:8080/"
    },
    "id": "vud6_UONVRH8",
    "outputId": "d659e652-a527-4661-d651-1c23b6b61e88"
   },
   "outputs": [
    {
     "name": "stdout",
     "output_type": "stream",
     "text": [
      "[       inf 4.19180655 4.17341725 4.15464877 4.13548513 4.11590934\n",
      " 4.09590327 4.0754476  4.05452164 4.03310326 4.01116872 3.98869254\n",
      " 3.96564727 3.94200337 3.91772888 3.89278926 3.86714702 3.84076143\n",
      " 3.81358809 3.78557852 3.75667961 3.72683303 3.69597451 3.66403301\n",
      " 3.63092975 3.59657703 3.5608768  3.52371901 3.48497958 3.44451785\n",
      " 3.4021735  3.35776278 3.31107361 3.26185951 3.20983168 3.15464877\n",
      " 3.09590327 3.03310326 2.96564727 2.89278926 2.81358809 2.72683303\n",
      " 2.63092975 2.52371901 2.4021735  2.26185951 2.09590327 1.89278926\n",
      " 1.63092975 1.26185951 0.63092975       -inf        nan        nan\n",
      "        nan        nan        nan        nan        nan        nan\n",
      "        nan        nan]\n"
     ]
    },
    {
     "name": "stderr",
     "output_type": "stream",
     "text": [
      "C:\\Users\\Jacob\\AppData\\Local\\Temp\\ipykernel_8516\\1696641289.py:1: RuntimeWarning: divide by zero encountered in log\n",
      "  x = np.log([float('inf')] + list(np.arange(100, -21, -2)))/np.log(3)\n",
      "C:\\Users\\Jacob\\AppData\\Local\\Temp\\ipykernel_8516\\1696641289.py:1: RuntimeWarning: invalid value encountered in log\n",
      "  x = np.log([float('inf')] + list(np.arange(100, -21, -2)))/np.log(3)\n"
     ]
    }
   ],
   "source": [
    "x = np.log([float('inf')] + list(np.arange(100, -21, -2)))/np.log(3)\n",
    "\n",
    "print(x)"
   ]
  },
  {
   "cell_type": "markdown",
   "metadata": {
    "id": "Zb1X0R2Nav9g"
   },
   "source": [
    "* Create a vector of booleans where the entry is true if `x[i]` is positive and finite. Use `&` from base python along with `isnan` and `isinfinite` from numpy"
   ]
  },
  {
   "cell_type": "code",
   "execution_count": 252,
   "metadata": {
    "colab": {
     "base_uri": "https://localhost:8080/"
    },
    "id": "4Q_oZqgGViSO",
    "outputId": "93139bc4-3567-4408-b40e-34fb7fccdc0b"
   },
   "outputs": [
    {
     "name": "stdout",
     "output_type": "stream",
     "text": [
      "[False  True  True  True  True  True  True  True  True  True  True  True\n",
      "  True  True  True  True  True  True  True  True  True  True  True  True\n",
      "  True  True  True  True  True  True  True  True  True  True  True  True\n",
      "  True  True  True  True  True  True  True  True  True  True  True  True\n",
      "  True  True  True False False False False False False False False False\n",
      " False False]\n"
     ]
    }
   ],
   "source": [
    "y = ~np.isnan(x) & np.isfinite(x) & (x > 0)\n",
    "\n",
    "print(y)"
   ]
  },
  {
   "cell_type": "markdown",
   "metadata": {
    "id": "9mtTSGAua4kJ"
   },
   "source": [
    "* Locate the indices of the non-real numbers in this vector. Numpy has a `where` function in lieu of R's `which`"
   ]
  },
  {
   "cell_type": "code",
   "execution_count": 256,
   "metadata": {
    "colab": {
     "base_uri": "https://localhost:8080/"
    },
    "id": "ROPylzDFaQ6C",
    "outputId": "dc23b4b7-acc9-49af-b2d0-19eb5ead974c"
   },
   "outputs": [
    {
     "name": "stdout",
     "output_type": "stream",
     "text": [
      "[ 0 51 52 53 54 55 56 57 58 59 60 61]\n"
     ]
    }
   ],
   "source": [
    "f_indices = np.where(y == False)[0]\n",
    "\n",
    "print(f_indices)"
   ]
  },
  {
   "cell_type": "markdown",
   "metadata": {
    "id": "b0UOuLWlbCrX"
   },
   "source": [
    "* Locate the indices of the infinite quantities in this vector using `where` and `isinf` from numpy."
   ]
  },
  {
   "cell_type": "code",
   "execution_count": 268,
   "metadata": {
    "colab": {
     "base_uri": "https://localhost:8080/"
    },
    "id": "qxleb46Kah7O",
    "outputId": "bebf0016-acce-4df3-9317-faa1613e8dad"
   },
   "outputs": [
    {
     "name": "stdout",
     "output_type": "stream",
     "text": [
      "[ 0 51]\n"
     ]
    }
   ],
   "source": [
    "print(np.where(np.isinf(x))[0])"
   ]
  },
  {
   "cell_type": "markdown",
   "metadata": {
    "id": "jy81AOKHbdtI"
   },
   "source": [
    "* Locate the indices of the min and max in this vector. Hint: use the `arg.min` and `arg.max` functions from numpy"
   ]
  },
  {
   "cell_type": "code",
   "execution_count": 270,
   "metadata": {
    "colab": {
     "base_uri": "https://localhost:8080/"
    },
    "id": "5aLvgov5bJ0D",
    "outputId": "880b4174-f433-47a3-bb1d-1caf83b97469"
   },
   "outputs": [
    {
     "name": "stdout",
     "output_type": "stream",
     "text": [
      "[0, 51]\n"
     ]
    }
   ],
   "source": [
    "xs = [i for i in x if (~np.isnan(i))]\n",
    "#print(xs)\n",
    "r = [np.argmax(xs), np.argmin(xs)]\n",
    "\n",
    "print(r)"
   ]
  },
  {
   "cell_type": "markdown",
   "metadata": {
    "id": "oRIpi-b2b9KD"
   },
   "source": [
    "* Count the number of unique values in `x`. Use `unique` from numpy."
   ]
  },
  {
   "cell_type": "code",
   "execution_count": 56,
   "metadata": {
    "colab": {
     "base_uri": "https://localhost:8080/"
    },
    "id": "no85_We5bry1",
    "outputId": "af1283fa-e34e-4472-bcb2-72210ff9eda6"
   },
   "outputs": [
    {
     "name": "stdout",
     "output_type": "stream",
     "text": [
      "53\n"
     ]
    }
   ],
   "source": [
    "print(np.unique(x).size)"
   ]
  },
  {
   "cell_type": "markdown",
   "metadata": {
    "id": "oHRN70mTcHsB"
   },
   "source": [
    "* Cast `x` to a factor. Do the number of levels make sense? Should be 53 unique values. Use `categorical` from pandas."
   ]
  },
  {
   "cell_type": "code",
   "execution_count": 65,
   "metadata": {
    "colab": {
     "base_uri": "https://localhost:8080/"
    },
    "id": "nduGObKldhd9",
    "outputId": "1abf3207-ffe6-4931-8c49-e1182162afa0"
   },
   "outputs": [
    {
     "name": "stdout",
     "output_type": "stream",
     "text": [
      "Factor levels: Index([              -inf, 0.6309297535714574, 1.2618595071429148,\n",
      "       1.6309297535714573,  1.892789260714372,  2.095903274289385,\n",
      "       2.2618595071429146,  2.402173502732879, 2.5237190142858297,\n",
      "        2.630929753571457, 2.7268330278608417, 2.8135880922155954,\n",
      "       2.8927892607143724,   2.96564727304425,  3.033103256304337,\n",
      "       3.0959032742893844,  3.154648767857287, 3.2098316767340234,\n",
      "       3.2618595071429146, 3.3110736128178324,  3.357762781432299,\n",
      "       3.4021735027328797, 3.4445178457870527, 3.4849795837717283,\n",
      "       3.5237190142858297, 3.5608767950073115, 3.5965770266157073,\n",
      "       3.6309297535714573, 3.6640330098757947, 3.6959745056821194,\n",
      "       3.7268330278608417,  3.756679610828472,  3.785578521428744,\n",
      "        3.813588092215595, 3.8407614303054807, 3.8671470234508067,\n",
      "        3.892789260714372, 3.9177288817897304, 3.9420033663892897,\n",
      "       3.9656472730442496, 3.9886925350037563,  4.011168719591413,\n",
      "       4.0331032563043365, 4.0545216380691365,   4.07544759935851,\n",
      "        4.095903274289384,  4.115909337343186,  4.135485128951194,\n",
      "        4.154648767857287,  4.173417251894302,   4.19180654857877,\n",
      "                      inf],\n",
      "      dtype='float64')\n",
      "Number of levels: 52\n"
     ]
    }
   ],
   "source": [
    "import pandas as pd\n",
    "\n",
    "# Cast x to a categorical (similar to as.factor(x) in R)\n",
    "x_factor = pd.Categorical(x)\n",
    "\n",
    "# Check the unique levels (categories)\n",
    "levels = x_factor.categories\n",
    "num_levels = len(levels)\n",
    "\n",
    "print(f\"Factor levels: {levels}\")\n",
    "print(f\"Number of levels: {num_levels}\")"
   ]
  },
  {
   "cell_type": "markdown",
   "metadata": {
    "id": "IorrCNzsdnSe"
   },
   "source": [
    "* In Python, using pandas, NaN is not treated as a level in a categorical type by default. Pandas does not allow NaN to be a category. To include NaN as a level, you need to explicitly handle it by filling them with a placeholder value (like \"NaN\" or a specific number) before making the data categorical. Use `categorical` and `isna` from pandas."
   ]
  },
  {
   "cell_type": "code",
   "execution_count": 67,
   "metadata": {
    "colab": {
     "base_uri": "https://localhost:8080/"
    },
    "id": "hSd4wayScFtz",
    "outputId": "02f6d619-363c-49c3-e4e7-edd651a8d2c7"
   },
   "outputs": [
    {
     "name": "stdout",
     "output_type": "stream",
     "text": [
      "Factor levels (including NaN): Index([              -inf, 0.6309297535714574, 1.2618595071429148,\n",
      "       1.6309297535714573,  1.892789260714372,  2.095903274289385,\n",
      "       2.2618595071429146,  2.402173502732879, 2.5237190142858297,\n",
      "        2.630929753571457, 2.7268330278608417, 2.8135880922155954,\n",
      "       2.8927892607143724,   2.96564727304425,  3.033103256304337,\n",
      "       3.0959032742893844,  3.154648767857287, 3.2098316767340234,\n",
      "       3.2618595071429146, 3.3110736128178324,  3.357762781432299,\n",
      "       3.4021735027328797, 3.4445178457870527, 3.4849795837717283,\n",
      "       3.5237190142858297, 3.5608767950073115, 3.5965770266157073,\n",
      "       3.6309297535714573, 3.6640330098757947, 3.6959745056821194,\n",
      "       3.7268330278608417,  3.756679610828472,  3.785578521428744,\n",
      "        3.813588092215595, 3.8407614303054807, 3.8671470234508067,\n",
      "        3.892789260714372, 3.9177288817897304, 3.9420033663892897,\n",
      "       3.9656472730442496, 3.9886925350037563,  4.011168719591413,\n",
      "       4.0331032563043365, 4.0545216380691365,   4.07544759935851,\n",
      "        4.095903274289384,  4.115909337343186,  4.135485128951194,\n",
      "        4.154648767857287,  4.173417251894302,   4.19180654857877,\n",
      "                      inf,              'NaN'],\n",
      "      dtype='object')\n",
      "Number of levels: 53\n"
     ]
    }
   ],
   "source": [
    "# Replace NaN with a placeholder value (e.g., 'NaN')\n",
    "x_filled = [val if not pd.isna(val) else 'NaN' for val in x]\n",
    "\n",
    "# Convert to categorical\n",
    "x_factor = pd.Categorical(x_filled)\n",
    "\n",
    "# Check the unique levels (including 'NaN' as a level)\n",
    "factor_levels = x_factor.categories\n",
    "num_levels = len(factor_levels)\n",
    "\n",
    "print(f\"Factor levels (including NaN): {factor_levels}\")\n",
    "print(f\"Number of levels: {num_levels}\")"
   ]
  },
  {
   "cell_type": "markdown",
   "metadata": {
    "id": "w4o3ULW7eICC"
   },
   "source": [
    "* Cast `x` to integers. Use `where`, `isinfinite` from numpy and `astype` from base python."
   ]
  },
  {
   "cell_type": "code",
   "execution_count": 272,
   "metadata": {
    "colab": {
     "base_uri": "https://localhost:8080/"
    },
    "id": "CHtCOU1wcfld",
    "outputId": "a1aefd63-5ffc-4dfa-9e8b-3c9e00bfaa25"
   },
   "outputs": [
    {
     "name": "stdout",
     "output_type": "stream",
     "text": [
      "[4, 4, 4, 4, 4, 4, 4, 4, 4, 4, 3, 3, 3, 3, 3, 3, 3, 3, 3, 3, 3, 3, 3, 3, 3, 3, 3, 3, 3, 3, 3, 3, 3, 3, 3, 3, 3, 2, 2, 2, 2, 2, 2, 2, 2, 2, 1, 1, 1, 0]\n"
     ]
    }
   ],
   "source": [
    "x_int = [val.astype(int) for val in x if (np.isfinite(val))]\n",
    "\n",
    "print(x_int)"
   ]
  },
  {
   "cell_type": "markdown",
   "metadata": {
    "id": "X3zDD-zgeyRf"
   },
   "source": [
    "* Use `x` to create a new vector `y` containing only the real numbers in x. Use `isnan`, `logical_and`, and `reduce` from numpy"
   ]
  },
  {
   "cell_type": "code",
   "execution_count": 280,
   "metadata": {
    "colab": {
     "base_uri": "https://localhost:8080/"
    },
    "id": "nLNq9Pr8eiHD",
    "outputId": "0c69bf4b-5d73-4a03-dd85-726efe122b63"
   },
   "outputs": [
    {
     "name": "stdout",
     "output_type": "stream",
     "text": [
      "[4.19180654857877, 4.173417251894302, 4.154648767857287, 4.135485128951194, 4.115909337343186, 4.095903274289384, 4.07544759935851, 4.0545216380691365, 4.0331032563043365, 4.011168719591413, 3.9886925350037563, 3.9656472730442496, 3.9420033663892897, 3.9177288817897304, 3.892789260714372, 3.8671470234508067, 3.8407614303054807, 3.813588092215595, 3.785578521428744, 3.756679610828472, 3.7268330278608417, 3.6959745056821194, 3.6640330098757947, 3.6309297535714573, 3.5965770266157073, 3.5608767950073115, 3.5237190142858297, 3.4849795837717283, 3.4445178457870527, 3.4021735027328797, 3.357762781432299, 3.3110736128178324, 3.2618595071429146, 3.2098316767340234, 3.154648767857287, 3.0959032742893844, 3.033103256304337, 2.96564727304425, 2.8927892607143724, 2.8135880922155954, 2.7268330278608417, 2.630929753571457, 2.5237190142858297, 2.402173502732879, 2.2618595071429146, 2.095903274289385, 1.892789260714372, 1.6309297535714573, 1.2618595071429148, 0.6309297535714574]\n",
      "[4.19180655 4.17341725 4.15464877 4.13548513 4.11590934 4.09590327\n",
      " 4.0754476  4.05452164 4.03310326 4.01116872 3.98869254 3.96564727\n",
      " 3.94200337 3.91772888 3.89278926 3.86714702 3.84076143 3.81358809\n",
      " 3.78557852 3.75667961 3.72683303 3.69597451 3.66403301 3.63092975\n",
      " 3.59657703 3.5608768  3.52371901 3.48497958 3.44451785 3.4021735\n",
      " 3.35776278 3.31107361 3.26185951 3.20983168 3.15464877 3.09590327\n",
      " 3.03310326 2.96564727 2.89278926 2.81358809 2.72683303 2.63092975\n",
      " 2.52371901 2.4021735  2.26185951 2.09590327 1.89278926 1.63092975\n",
      " 1.26185951 0.63092975]\n"
     ]
    }
   ],
   "source": [
    "y = [val for val in x if np.logical_and(~np.isnan(val), ~np.isinf(val))]\n",
    "print(y)\n",
    "\n",
    "y = x[np.logical_and.reduce((~np.isnan(x), np.isfinite(x), x > 0))]\n",
    "print(y)"
   ]
  },
  {
   "cell_type": "markdown",
   "metadata": {
    "id": "S8qnxXNqt3JE"
   },
   "source": [
    "* Use the left rectangle method to numerically integrate x^2 from 0 to 1 with rectangle width size 1e-6. Use `arrange` and `sum` from numpy"
   ]
  },
  {
   "cell_type": "code",
   "execution_count": 92,
   "metadata": {
    "colab": {
     "base_uri": "https://localhost:8080/"
    },
    "id": "W3zsckaxt32K",
    "outputId": "461405b1-dfc1-4f46-ed5c-5b4ce2fd3e93"
   },
   "outputs": [
    {
     "name": "stdout",
     "output_type": "stream",
     "text": [
      "0.33333283333349994\n"
     ]
    }
   ],
   "source": [
    "# Define the rectangle width\n",
    "width = 1e-6\n",
    "\n",
    "# Create the sequence for the left endpoints (similar to seq in R)\n",
    "x = np.arange(0, 1, width)\n",
    "\n",
    "# Compute the sum using the left rectangle method\n",
    "approximation = np.sum(x ** 2) * width\n",
    "\n",
    "# Print the result\n",
    "print(approximation)\n"
   ]
  },
  {
   "cell_type": "markdown",
   "metadata": {
    "id": "LFF_X0FKuyD4"
   },
   "source": [
    "* Calculate the average of 100 realizations of standard Bernoullis in one line using the numpy's random.choice function."
   ]
  },
  {
   "cell_type": "code",
   "execution_count": 284,
   "metadata": {
    "colab": {
     "base_uri": "https://localhost:8080/"
    },
    "id": "JdeauzBkuVTr",
    "outputId": "cdfb63d0-43b5-4fa9-e6ad-5f0d5cd9efdd"
   },
   "outputs": [
    {
     "data": {
      "text/plain": [
       "0.46"
      ]
     },
     "execution_count": 284,
     "metadata": {},
     "output_type": "execute_result"
    }
   ],
   "source": [
    "np.mean(np.random.choice([0,1], size = 100, replace = True))"
   ]
  },
  {
   "cell_type": "markdown",
   "metadata": {
    "id": "I9wgl1ycvvTx"
   },
   "source": [
    "* Calculate the average of 500 realizations of Bernoullis with p = 0.9 in one line using the `random.choice` and `mean` functions in numpy."
   ]
  },
  {
   "cell_type": "code",
   "execution_count": 134,
   "metadata": {
    "colab": {
     "base_uri": "https://localhost:8080/"
    },
    "id": "ZcichNlevpph",
    "outputId": "b0b4181a-188d-4813-c5df-e907dac6c3a9"
   },
   "outputs": [
    {
     "data": {
      "text/plain": [
       "0.91"
      ]
     },
     "execution_count": 134,
     "metadata": {},
     "output_type": "execute_result"
    }
   ],
   "source": [
    "np.mean(np.random.choice([0,1], size = 500, replace = True, p = [.1,.9]))"
   ]
  },
  {
   "cell_type": "markdown",
   "metadata": {
    "id": "pr9oLtR0wdqq"
   },
   "source": [
    "* Calculate the average of 1000 realizations of Bernoullis with p = 0.9 in one line using `binom` from scipy.stats."
   ]
  },
  {
   "cell_type": "code",
   "execution_count": 302,
   "metadata": {
    "colab": {
     "base_uri": "https://localhost:8080/"
    },
    "id": "iDMM_OyCwPc1",
    "outputId": "38864a97-d646-4025-952e-24504a7c056c"
   },
   "outputs": [
    {
     "name": "stdout",
     "output_type": "stream",
     "text": [
      "0.912\n"
     ]
    }
   ],
   "source": [
    "from scipy.stats import binom\n",
    "\n",
    "av_bern = binom.rvs(n = 1, p = 0.9, size = 1000).mean()\n",
    "print(av_bern)"
   ]
  },
  {
   "cell_type": "markdown",
   "metadata": {
    "id": "pZuC50jpw35z"
   },
   "source": [
    "* Let `n = 50`. Create a n x n matrix `R` of exactly 50% entries 0's, 25% 1's 25% 2's. These values should be in random locations."
   ]
  },
  {
   "cell_type": "code",
   "execution_count": 17,
   "metadata": {
    "colab": {
     "base_uri": "https://localhost:8080/"
    },
    "id": "YhA5CdjRwzIb",
    "outputId": "b95c17ad-e8af-4edd-cfa7-3f8260d6781c"
   },
   "outputs": [
    {
     "name": "stdout",
     "output_type": "stream",
     "text": [
      "    0   1   2   3   4   5   6   7   8   9   ...  40  41  42  43  44  45  46  \\\n",
      "0    0   0   0   1   0   0   2   1   0   1  ...   0   1   0   0   2   0   0   \n",
      "1    1   0   0   1   0   0   2   2   0   0  ...   2   0   1   2   2   0   2   \n",
      "2    0   0   2   0   2   0   0   2   1   1  ...   2   2   1   1   0   1   0   \n",
      "3    0   0   0   0   0   2   0   0   0   1  ...   0   2   2   2   0   0   0   \n",
      "4    0   2   1   0   0   1   1   2   1   1  ...   1   2   1   0   0   1   1   \n",
      "5    0   2   2   0   0   0   0   1   0   2  ...   2   1   0   1   1   0   0   \n",
      "6    2   1   0   1   0   1   0   0   1   1  ...   0   2   0   0   1   0   2   \n",
      "7    1   0   1   2   2   0   0   0   0   1  ...   1   1   0   0   0   0   2   \n",
      "8    2   2   0   1   1   0   1   0   2   1  ...   2   2   1   0   2   0   1   \n",
      "9    0   1   0   2   1   0   0   0   1   1  ...   0   1   0   0   2   0   0   \n",
      "10   0   1   1   2   2   1   1   0   1   1  ...   2   2   2   2   0   2   1   \n",
      "11   1   1   0   2   1   1   0   0   2   0  ...   0   0   0   0   1   0   0   \n",
      "12   2   0   2   0   1   2   0   1   1   2  ...   1   0   0   2   0   0   0   \n",
      "13   2   0   0   0   2   0   2   0   0   0  ...   0   2   2   0   0   2   0   \n",
      "14   1   0   1   0   1   2   0   0   0   2  ...   1   0   2   0   0   0   1   \n",
      "15   1   2   1   1   0   0   2   1   0   1  ...   0   0   1   1   1   0   0   \n",
      "16   0   0   0   0   2   2   2   1   1   1  ...   0   0   0   0   0   0   2   \n",
      "17   0   0   2   0   2   2   0   1   0   1  ...   0   0   0   2   0   1   1   \n",
      "18   2   0   0   2   1   1   0   2   2   0  ...   1   1   1   2   0   0   2   \n",
      "19   2   2   2   0   2   0   1   1   0   0  ...   0   0   0   2   0   0   1   \n",
      "20   0   0   1   1   2   0   0   2   0   0  ...   0   1   1   0   1   0   0   \n",
      "21   1   1   0   0   1   0   0   0   2   0  ...   0   0   0   2   1   0   1   \n",
      "22   1   2   2   2   1   1   0   2   2   0  ...   0   0   0   1   2   1   1   \n",
      "23   1   1   2   2   0   2   1   0   0   0  ...   2   0   0   2   0   1   0   \n",
      "24   0   2   0   2   0   0   0   0   2   2  ...   0   0   1   0   2   2   1   \n",
      "25   0   0   0   0   1   1   2   0   1   2  ...   0   2   0   0   2   2   1   \n",
      "26   1   2   1   1   1   0   2   0   1   1  ...   2   2   1   1   2   1   2   \n",
      "27   0   2   0   1   0   1   0   2   1   2  ...   2   0   1   2   0   2   0   \n",
      "28   1   2   2   1   2   0   1   2   2   0  ...   0   2   2   1   0   2   0   \n",
      "29   0   0   2   0   0   0   1   0   2   0  ...   1   0   0   0   1   0   0   \n",
      "30   0   0   1   1   0   0   2   2   0   1  ...   2   0   0   0   1   0   0   \n",
      "31   0   0   0   0   2   0   1   1   2   0  ...   2   2   0   1   0   0   0   \n",
      "32   0   0   0   0   0   0   1   0   0   1  ...   2   1   1   1   1   0   0   \n",
      "33   0   0   0   0   2   1   2   1   2   2  ...   0   0   0   0   1   1   1   \n",
      "34   0   0   1   0   2   1   2   1   0   0  ...   0   0   0   0   0   1   0   \n",
      "35   0   1   0   0   0   0   0   0   0   0  ...   0   0   0   1   1   1   1   \n",
      "36   2   0   2   0   1   0   0   1   0   2  ...   0   0   2   1   1   1   0   \n",
      "37   0   0   0   1   2   1   0   1   0   0  ...   0   2   0   0   1   1   2   \n",
      "38   2   1   0   2   0   2   1   1   2   2  ...   1   0   2   0   1   2   1   \n",
      "39   0   0   1   0   0   2   2   2   2   1  ...   0   0   1   0   1   1   0   \n",
      "40   0   0   2   1   2   2   0   1   0   1  ...   0   2   0   0   1   0   1   \n",
      "41   1   2   0   0   1   0   0   0   0   1  ...   1   0   0   1   0   0   0   \n",
      "42   0   2   0   0   2   0   1   0   0   2  ...   0   0   0   0   0   1   1   \n",
      "43   0   1   1   1   0   1   2   2   0   2  ...   1   2   0   1   1   0   0   \n",
      "44   0   2   0   2   1   1   0   1   2   0  ...   0   0   0   0   1   2   1   \n",
      "45   2   1   2   1   0   2   1   0   0   2  ...   0   1   2   1   0   2   0   \n",
      "46   0   1   1   1   1   0   2   2   2   0  ...   0   2   0   2   1   2   2   \n",
      "47   0   1   1   2   2   0   0   0   0   2  ...   0   0   1   2   0   0   0   \n",
      "48   0   2   0   1   2   2   0   0   1   0  ...   0   0   0   0   0   2   1   \n",
      "49   1   0   0   0   2   0   0   0   2   0  ...   0   1   0   2   0   0   0   \n",
      "\n",
      "    47  48  49  \n",
      "0    2   2   2  \n",
      "1    1   0   0  \n",
      "2    1   0   1  \n",
      "3    2   1   1  \n",
      "4    0   2   2  \n",
      "5    0   0   0  \n",
      "6    0   2   0  \n",
      "7    2   0   0  \n",
      "8    2   0   0  \n",
      "9    0   2   0  \n",
      "10   0   1   0  \n",
      "11   2   0   1  \n",
      "12   2   0   0  \n",
      "13   2   2   1  \n",
      "14   2   1   0  \n",
      "15   0   1   1  \n",
      "16   1   2   0  \n",
      "17   0   0   0  \n",
      "18   0   0   0  \n",
      "19   1   0   0  \n",
      "20   2   0   2  \n",
      "21   0   0   0  \n",
      "22   0   1   0  \n",
      "23   0   0   0  \n",
      "24   0   0   1  \n",
      "25   1   1   1  \n",
      "26   0   2   0  \n",
      "27   0   2   0  \n",
      "28   0   0   1  \n",
      "29   1   1   0  \n",
      "30   0   0   2  \n",
      "31   1   1   2  \n",
      "32   0   0   2  \n",
      "33   2   0   2  \n",
      "34   0   0   2  \n",
      "35   1   0   0  \n",
      "36   0   2   2  \n",
      "37   0   1   0  \n",
      "38   2   0   1  \n",
      "39   1   2   1  \n",
      "40   2   0   0  \n",
      "41   0   2   0  \n",
      "42   0   1   2  \n",
      "43   0   0   0  \n",
      "44   2   2   0  \n",
      "45   2   2   0  \n",
      "46   1   2   1  \n",
      "47   0   0   0  \n",
      "48   1   1   0  \n",
      "49   0   0   2  \n",
      "\n",
      "[50 rows x 50 columns]\n"
     ]
    }
   ],
   "source": [
    "import pandas as pd\n",
    "\n",
    "# Set n\n",
    "n = 50\n",
    "\n",
    "# Generate the random values with specified proportions\n",
    "values = np.random.permutation(\n",
    "    np.concatenate([\n",
    "        np.full(int(n * n * 0.5), 0),  # 50% 0's\n",
    "        np.full(int(n * n * 0.25), 1), # 25% 1's\n",
    "        np.full(int(n * n * 0.25), 2)  # 25% 2's\n",
    "    ])\n",
    ")\n",
    "# Reshape the values into an n x n matrix\n",
    "R = values.reshape(n, n)\n",
    "\n",
    "# Convert the matrix into a DataFrame\n",
    "df = pd.DataFrame(R)\n",
    "\n",
    "# Print the DataFrame\n",
    "print(df)"
   ]
  },
  {
   "cell_type": "markdown",
   "metadata": {
    "id": "nP6M8hfrxWUJ"
   },
   "source": [
    "* Randomly punch holes (i.e. `NA`) values in this matrix so that an each entry is missing with probability 30%."
   ]
  },
  {
   "cell_type": "code",
   "execution_count": 310,
   "metadata": {
    "colab": {
     "base_uri": "https://localhost:8080/"
    },
    "id": "ffLrQxVTydX9",
    "outputId": "971f187e-4642-4ae7-d01e-4629b165e40d"
   },
   "outputs": [
    {
     "name": "stdout",
     "output_type": "stream",
     "text": [
      "     0    1    2    3    4    5    6    7    8    9   ...   40   41   42   43  \\\n",
      "0   2.0  2.0  NaN  1.0  0.0  NaN  0.0  0.0  0.0  NaN  ...  0.0  NaN  2.0  0.0   \n",
      "1   0.0  NaN  NaN  2.0  0.0  1.0  2.0  NaN  1.0  2.0  ...  0.0  0.0  0.0  1.0   \n",
      "2   NaN  0.0  NaN  2.0  NaN  NaN  1.0  0.0  NaN  NaN  ...  NaN  2.0  1.0  1.0   \n",
      "3   0.0  NaN  0.0  2.0  1.0  0.0  NaN  0.0  NaN  NaN  ...  2.0  1.0  0.0  0.0   \n",
      "4   0.0  2.0  2.0  NaN  0.0  2.0  NaN  NaN  NaN  0.0  ...  1.0  0.0  0.0  NaN   \n",
      "5   NaN  NaN  0.0  1.0  NaN  NaN  NaN  0.0  0.0  NaN  ...  0.0  1.0  0.0  2.0   \n",
      "6   0.0  NaN  NaN  NaN  NaN  NaN  0.0  NaN  2.0  0.0  ...  0.0  0.0  1.0  NaN   \n",
      "7   0.0  0.0  1.0  0.0  NaN  1.0  1.0  1.0  NaN  NaN  ...  0.0  1.0  2.0  0.0   \n",
      "8   1.0  NaN  0.0  2.0  NaN  NaN  0.0  1.0  0.0  0.0  ...  0.0  1.0  NaN  NaN   \n",
      "9   0.0  0.0  1.0  1.0  0.0  NaN  0.0  1.0  NaN  0.0  ...  2.0  0.0  NaN  0.0   \n",
      "10  NaN  NaN  NaN  1.0  NaN  1.0  0.0  0.0  2.0  1.0  ...  0.0  NaN  0.0  0.0   \n",
      "11  0.0  NaN  0.0  NaN  1.0  NaN  0.0  0.0  0.0  0.0  ...  0.0  NaN  NaN  0.0   \n",
      "12  1.0  2.0  NaN  NaN  NaN  NaN  NaN  NaN  NaN  1.0  ...  0.0  0.0  NaN  1.0   \n",
      "13  1.0  0.0  2.0  0.0  0.0  2.0  0.0  1.0  0.0  0.0  ...  NaN  0.0  0.0  0.0   \n",
      "14  2.0  NaN  0.0  1.0  0.0  NaN  NaN  NaN  2.0  2.0  ...  NaN  0.0  2.0  NaN   \n",
      "15  2.0  0.0  2.0  NaN  0.0  0.0  0.0  NaN  2.0  NaN  ...  2.0  NaN  1.0  1.0   \n",
      "16  1.0  NaN  NaN  0.0  0.0  0.0  0.0  0.0  1.0  2.0  ...  0.0  NaN  2.0  0.0   \n",
      "17  1.0  NaN  1.0  2.0  2.0  NaN  0.0  0.0  0.0  NaN  ...  2.0  1.0  NaN  NaN   \n",
      "18  0.0  NaN  0.0  1.0  NaN  NaN  NaN  0.0  NaN  NaN  ...  2.0  0.0  1.0  1.0   \n",
      "19  0.0  1.0  0.0  0.0  2.0  1.0  2.0  2.0  2.0  0.0  ...  0.0  NaN  NaN  0.0   \n",
      "20  NaN  NaN  0.0  0.0  NaN  0.0  2.0  2.0  0.0  NaN  ...  NaN  1.0  NaN  1.0   \n",
      "21  NaN  0.0  1.0  NaN  NaN  NaN  2.0  NaN  0.0  0.0  ...  0.0  NaN  1.0  2.0   \n",
      "22  0.0  1.0  1.0  NaN  NaN  NaN  NaN  1.0  1.0  0.0  ...  2.0  2.0  0.0  0.0   \n",
      "23  0.0  2.0  NaN  0.0  0.0  2.0  NaN  1.0  2.0  0.0  ...  NaN  1.0  NaN  0.0   \n",
      "24  0.0  NaN  1.0  0.0  NaN  NaN  2.0  1.0  0.0  2.0  ...  0.0  2.0  1.0  0.0   \n",
      "25  1.0  1.0  NaN  2.0  0.0  NaN  NaN  1.0  NaN  NaN  ...  0.0  NaN  2.0  1.0   \n",
      "26  NaN  1.0  0.0  1.0  0.0  1.0  0.0  1.0  NaN  NaN  ...  1.0  0.0  NaN  1.0   \n",
      "27  NaN  NaN  NaN  0.0  2.0  0.0  0.0  NaN  NaN  0.0  ...  2.0  NaN  2.0  0.0   \n",
      "28  1.0  2.0  NaN  1.0  NaN  NaN  1.0  2.0  0.0  NaN  ...  0.0  0.0  1.0  2.0   \n",
      "29  2.0  1.0  2.0  NaN  NaN  2.0  0.0  0.0  0.0  1.0  ...  1.0  NaN  NaN  0.0   \n",
      "30  1.0  1.0  NaN  2.0  NaN  2.0  2.0  0.0  1.0  2.0  ...  NaN  0.0  NaN  NaN   \n",
      "31  0.0  2.0  0.0  0.0  2.0  2.0  NaN  NaN  NaN  1.0  ...  1.0  0.0  NaN  NaN   \n",
      "32  2.0  NaN  0.0  1.0  0.0  2.0  NaN  1.0  NaN  0.0  ...  0.0  1.0  1.0  2.0   \n",
      "33  1.0  2.0  0.0  1.0  1.0  2.0  NaN  1.0  NaN  1.0  ...  NaN  0.0  1.0  0.0   \n",
      "34  1.0  1.0  0.0  1.0  0.0  1.0  1.0  2.0  1.0  NaN  ...  0.0  1.0  1.0  0.0   \n",
      "35  0.0  1.0  1.0  0.0  NaN  1.0  NaN  NaN  0.0  1.0  ...  1.0  NaN  2.0  NaN   \n",
      "36  0.0  NaN  0.0  0.0  0.0  2.0  2.0  2.0  1.0  0.0  ...  NaN  0.0  0.0  NaN   \n",
      "37  2.0  0.0  NaN  NaN  0.0  0.0  NaN  NaN  NaN  1.0  ...  1.0  NaN  0.0  0.0   \n",
      "38  2.0  0.0  0.0  1.0  NaN  2.0  2.0  NaN  1.0  0.0  ...  2.0  NaN  NaN  0.0   \n",
      "39  0.0  0.0  2.0  NaN  1.0  NaN  1.0  NaN  NaN  1.0  ...  NaN  NaN  0.0  0.0   \n",
      "40  2.0  2.0  NaN  NaN  NaN  NaN  NaN  0.0  0.0  2.0  ...  0.0  0.0  NaN  0.0   \n",
      "41  0.0  0.0  NaN  1.0  NaN  1.0  0.0  0.0  0.0  0.0  ...  0.0  NaN  NaN  2.0   \n",
      "42  2.0  1.0  0.0  0.0  0.0  NaN  NaN  1.0  NaN  0.0  ...  1.0  0.0  0.0  0.0   \n",
      "43  NaN  NaN  0.0  NaN  1.0  0.0  NaN  0.0  NaN  2.0  ...  1.0  0.0  2.0  0.0   \n",
      "44  0.0  0.0  2.0  0.0  NaN  0.0  0.0  0.0  0.0  2.0  ...  2.0  0.0  NaN  0.0   \n",
      "45  1.0  0.0  0.0  0.0  2.0  0.0  0.0  0.0  1.0  2.0  ...  0.0  0.0  2.0  NaN   \n",
      "46  NaN  0.0  2.0  1.0  0.0  0.0  2.0  NaN  NaN  0.0  ...  1.0  2.0  NaN  1.0   \n",
      "47  NaN  1.0  NaN  1.0  2.0  0.0  0.0  2.0  1.0  NaN  ...  0.0  NaN  1.0  1.0   \n",
      "48  1.0  NaN  1.0  1.0  NaN  0.0  NaN  1.0  NaN  1.0  ...  0.0  NaN  2.0  0.0   \n",
      "49  0.0  NaN  2.0  NaN  0.0  2.0  2.0  0.0  2.0  2.0  ...  NaN  2.0  0.0  0.0   \n",
      "\n",
      "     44   45   46   47   48   49  \n",
      "0   0.0  0.0  0.0  2.0  2.0  0.0  \n",
      "1   2.0  0.0  1.0  2.0  0.0  2.0  \n",
      "2   0.0  0.0  NaN  2.0  NaN  0.0  \n",
      "3   0.0  2.0  2.0  0.0  0.0  2.0  \n",
      "4   0.0  NaN  1.0  2.0  0.0  NaN  \n",
      "5   0.0  1.0  NaN  1.0  0.0  0.0  \n",
      "6   0.0  NaN  1.0  1.0  2.0  0.0  \n",
      "7   0.0  1.0  2.0  NaN  2.0  0.0  \n",
      "8   2.0  2.0  NaN  NaN  0.0  0.0  \n",
      "9   2.0  NaN  1.0  0.0  NaN  1.0  \n",
      "10  2.0  0.0  NaN  NaN  2.0  0.0  \n",
      "11  0.0  2.0  NaN  2.0  1.0  NaN  \n",
      "12  1.0  0.0  1.0  2.0  2.0  NaN  \n",
      "13  0.0  0.0  NaN  NaN  2.0  NaN  \n",
      "14  1.0  2.0  NaN  0.0  0.0  0.0  \n",
      "15  0.0  1.0  NaN  NaN  NaN  0.0  \n",
      "16  1.0  NaN  NaN  0.0  0.0  0.0  \n",
      "17  1.0  NaN  NaN  NaN  NaN  0.0  \n",
      "18  NaN  2.0  NaN  1.0  0.0  NaN  \n",
      "19  NaN  NaN  1.0  1.0  0.0  NaN  \n",
      "20  2.0  0.0  2.0  0.0  1.0  2.0  \n",
      "21  0.0  2.0  NaN  0.0  0.0  0.0  \n",
      "22  0.0  2.0  1.0  0.0  0.0  0.0  \n",
      "23  2.0  0.0  0.0  0.0  0.0  NaN  \n",
      "24  NaN  1.0  0.0  0.0  1.0  1.0  \n",
      "25  2.0  1.0  NaN  1.0  0.0  0.0  \n",
      "26  NaN  0.0  0.0  NaN  NaN  NaN  \n",
      "27  NaN  NaN  NaN  NaN  1.0  0.0  \n",
      "28  0.0  NaN  0.0  2.0  1.0  0.0  \n",
      "29  0.0  0.0  0.0  0.0  2.0  1.0  \n",
      "30  0.0  NaN  0.0  0.0  NaN  0.0  \n",
      "31  0.0  NaN  0.0  0.0  0.0  1.0  \n",
      "32  2.0  NaN  2.0  0.0  0.0  0.0  \n",
      "33  NaN  1.0  0.0  2.0  0.0  NaN  \n",
      "34  0.0  0.0  0.0  2.0  NaN  0.0  \n",
      "35  0.0  0.0  0.0  0.0  0.0  0.0  \n",
      "36  0.0  0.0  1.0  0.0  0.0  2.0  \n",
      "37  0.0  1.0  0.0  0.0  1.0  0.0  \n",
      "38  1.0  0.0  2.0  NaN  0.0  2.0  \n",
      "39  2.0  0.0  1.0  0.0  NaN  2.0  \n",
      "40  NaN  1.0  0.0  2.0  2.0  NaN  \n",
      "41  NaN  2.0  NaN  0.0  NaN  1.0  \n",
      "42  2.0  NaN  0.0  0.0  0.0  0.0  \n",
      "43  NaN  NaN  0.0  NaN  NaN  NaN  \n",
      "44  1.0  0.0  1.0  0.0  NaN  1.0  \n",
      "45  NaN  0.0  1.0  0.0  1.0  NaN  \n",
      "46  NaN  0.0  2.0  1.0  1.0  NaN  \n",
      "47  NaN  2.0  1.0  NaN  NaN  2.0  \n",
      "48  NaN  NaN  NaN  1.0  NaN  0.0  \n",
      "49  2.0  1.0  0.0  0.0  1.0  0.0  \n",
      "\n",
      "[50 rows x 50 columns]\n"
     ]
    }
   ],
   "source": [
    "# Convert to float to allow NaN\n",
    "df = df.astype(float)\n",
    "\n",
    "# Randomly punch holes with 30% probability\n",
    "mask = np.random.choice([True, False], size=df.shape, p=[0.3, 0.7])\n",
    "df[mask] = np.nan\n",
    "\n",
    "# View the resulting DataFrame\n",
    "print(df)"
   ]
  },
  {
   "cell_type": "code",
   "execution_count": 35,
   "metadata": {
    "colab": {
     "base_uri": "https://localhost:8080/"
    },
    "id": "LaCZ-_c4xPxp",
    "outputId": "198e2ee0-f845-4ec5-ae0d-10fe2ebc0aae"
   },
   "outputs": [
    {
     "name": "stdout",
     "output_type": "stream",
     "text": [
      "     0    1    2    3    4    5    6    7    8    9   ...   40   41   42   43  \\\n",
      "0   0.0  2.0  1.0  NaN  1.0  0.0  1.0  NaN  NaN  2.0  ...  NaN  1.0  0.0  2.0   \n",
      "1   1.0  NaN  NaN  NaN  0.0  0.0  NaN  0.0  1.0  0.0  ...  2.0  0.0  NaN  0.0   \n",
      "2   1.0  0.0  0.0  NaN  0.0  1.0  0.0  NaN  1.0  0.0  ...  NaN  0.0  NaN  2.0   \n",
      "3   1.0  0.0  0.0  0.0  NaN  NaN  0.0  2.0  NaN  2.0  ...  0.0  NaN  0.0  NaN   \n",
      "4   2.0  0.0  NaN  NaN  NaN  NaN  0.0  0.0  1.0  0.0  ...  NaN  0.0  1.0  1.0   \n",
      "5   0.0  2.0  1.0  2.0  0.0  1.0  NaN  0.0  NaN  0.0  ...  1.0  2.0  0.0  1.0   \n",
      "6   1.0  0.0  NaN  0.0  0.0  NaN  0.0  2.0  2.0  0.0  ...  0.0  2.0  1.0  1.0   \n",
      "7   NaN  2.0  NaN  NaN  2.0  0.0  2.0  NaN  NaN  2.0  ...  1.0  0.0  NaN  NaN   \n",
      "8   0.0  0.0  1.0  NaN  2.0  NaN  2.0  0.0  0.0  NaN  ...  NaN  0.0  2.0  NaN   \n",
      "9   0.0  1.0  0.0  1.0  NaN  0.0  2.0  1.0  0.0  NaN  ...  1.0  NaN  1.0  1.0   \n",
      "10  NaN  NaN  1.0  1.0  1.0  0.0  0.0  0.0  1.0  2.0  ...  1.0  0.0  0.0  0.0   \n",
      "11  0.0  0.0  0.0  NaN  1.0  0.0  2.0  1.0  NaN  0.0  ...  0.0  1.0  0.0  0.0   \n",
      "12  0.0  NaN  NaN  NaN  2.0  0.0  0.0  2.0  2.0  0.0  ...  NaN  0.0  0.0  0.0   \n",
      "13  0.0  0.0  NaN  0.0  0.0  2.0  1.0  NaN  1.0  NaN  ...  2.0  0.0  1.0  1.0   \n",
      "14  2.0  NaN  0.0  1.0  2.0  NaN  1.0  2.0  2.0  NaN  ...  0.0  0.0  0.0  2.0   \n",
      "15  2.0  0.0  1.0  0.0  2.0  1.0  0.0  0.0  NaN  2.0  ...  NaN  1.0  0.0  0.0   \n",
      "16  2.0  0.0  1.0  NaN  0.0  0.0  2.0  2.0  0.0  0.0  ...  2.0  0.0  0.0  NaN   \n",
      "17  1.0  2.0  2.0  2.0  0.0  2.0  NaN  2.0  0.0  0.0  ...  2.0  0.0  0.0  0.0   \n",
      "18  NaN  NaN  NaN  0.0  1.0  0.0  NaN  0.0  2.0  0.0  ...  NaN  1.0  0.0  1.0   \n",
      "19  NaN  2.0  1.0  NaN  1.0  NaN  0.0  0.0  0.0  NaN  ...  0.0  NaN  2.0  NaN   \n",
      "20  NaN  NaN  NaN  0.0  NaN  0.0  0.0  NaN  1.0  NaN  ...  1.0  2.0  1.0  0.0   \n",
      "21  NaN  NaN  0.0  NaN  NaN  NaN  NaN  1.0  1.0  1.0  ...  0.0  2.0  0.0  0.0   \n",
      "22  0.0  2.0  2.0  2.0  0.0  0.0  0.0  NaN  NaN  NaN  ...  NaN  0.0  NaN  2.0   \n",
      "23  2.0  NaN  0.0  NaN  1.0  2.0  0.0  0.0  NaN  0.0  ...  0.0  0.0  2.0  NaN   \n",
      "24  0.0  0.0  2.0  0.0  0.0  1.0  1.0  1.0  0.0  1.0  ...  1.0  2.0  1.0  NaN   \n",
      "25  2.0  NaN  2.0  0.0  2.0  0.0  0.0  NaN  0.0  2.0  ...  0.0  NaN  1.0  0.0   \n",
      "26  0.0  2.0  0.0  2.0  0.0  NaN  1.0  NaN  0.0  0.0  ...  NaN  1.0  2.0  0.0   \n",
      "27  1.0  0.0  NaN  NaN  2.0  2.0  NaN  0.0  0.0  NaN  ...  0.0  NaN  NaN  0.0   \n",
      "28  NaN  0.0  NaN  0.0  2.0  NaN  1.0  1.0  NaN  1.0  ...  1.0  2.0  0.0  0.0   \n",
      "29  0.0  1.0  NaN  NaN  0.0  2.0  NaN  1.0  0.0  0.0  ...  1.0  0.0  0.0  2.0   \n",
      "30  2.0  2.0  0.0  0.0  2.0  1.0  NaN  1.0  NaN  NaN  ...  1.0  0.0  NaN  NaN   \n",
      "31  0.0  NaN  NaN  2.0  2.0  1.0  2.0  NaN  0.0  0.0  ...  2.0  NaN  1.0  NaN   \n",
      "32  1.0  NaN  0.0  0.0  2.0  0.0  1.0  0.0  0.0  0.0  ...  0.0  2.0  NaN  NaN   \n",
      "33  1.0  NaN  1.0  2.0  0.0  0.0  NaN  0.0  2.0  1.0  ...  0.0  2.0  2.0  NaN   \n",
      "34  0.0  NaN  2.0  0.0  NaN  1.0  2.0  NaN  NaN  NaN  ...  NaN  0.0  1.0  0.0   \n",
      "35  NaN  1.0  NaN  2.0  1.0  1.0  NaN  0.0  2.0  0.0  ...  1.0  1.0  NaN  1.0   \n",
      "36  NaN  0.0  NaN  2.0  1.0  0.0  NaN  0.0  1.0  0.0  ...  NaN  2.0  NaN  0.0   \n",
      "37  0.0  2.0  1.0  0.0  0.0  1.0  NaN  NaN  1.0  NaN  ...  1.0  0.0  NaN  0.0   \n",
      "38  0.0  2.0  0.0  1.0  NaN  0.0  0.0  NaN  1.0  2.0  ...  0.0  1.0  0.0  2.0   \n",
      "39  0.0  0.0  NaN  0.0  1.0  0.0  NaN  0.0  0.0  0.0  ...  1.0  2.0  NaN  NaN   \n",
      "40  NaN  1.0  0.0  NaN  0.0  NaN  0.0  0.0  2.0  0.0  ...  0.0  1.0  NaN  0.0   \n",
      "41  2.0  0.0  0.0  NaN  0.0  NaN  0.0  1.0  NaN  NaN  ...  0.0  0.0  NaN  0.0   \n",
      "42  0.0  NaN  0.0  0.0  2.0  NaN  1.0  2.0  1.0  0.0  ...  1.0  0.0  2.0  0.0   \n",
      "43  1.0  NaN  0.0  NaN  1.0  NaN  2.0  2.0  NaN  2.0  ...  NaN  0.0  1.0  NaN   \n",
      "44  0.0  0.0  NaN  0.0  1.0  0.0  2.0  2.0  NaN  1.0  ...  1.0  NaN  NaN  NaN   \n",
      "45  1.0  NaN  NaN  1.0  0.0  NaN  NaN  2.0  NaN  NaN  ...  1.0  NaN  0.0  0.0   \n",
      "46  1.0  0.0  2.0  NaN  NaN  0.0  1.0  NaN  NaN  1.0  ...  0.0  0.0  NaN  NaN   \n",
      "47  2.0  0.0  2.0  0.0  NaN  NaN  1.0  0.0  1.0  NaN  ...  NaN  1.0  1.0  0.0   \n",
      "48  1.0  2.0  NaN  1.0  2.0  1.0  1.0  2.0  0.0  0.0  ...  NaN  NaN  NaN  2.0   \n",
      "49  0.0  2.0  2.0  2.0  0.0  1.0  NaN  NaN  1.0  1.0  ...  NaN  NaN  0.0  0.0   \n",
      "\n",
      "     44   45   46   47   48   49  \n",
      "0   0.0  2.0  0.0  0.0  NaN  NaN  \n",
      "1   2.0  2.0  NaN  NaN  NaN  0.0  \n",
      "2   2.0  0.0  2.0  0.0  NaN  0.0  \n",
      "3   NaN  1.0  0.0  NaN  NaN  0.0  \n",
      "4   0.0  2.0  NaN  0.0  NaN  2.0  \n",
      "5   NaN  0.0  1.0  0.0  2.0  0.0  \n",
      "6   2.0  NaN  NaN  1.0  0.0  NaN  \n",
      "7   NaN  0.0  NaN  2.0  2.0  2.0  \n",
      "8   1.0  0.0  2.0  2.0  0.0  0.0  \n",
      "9   NaN  NaN  NaN  1.0  2.0  NaN  \n",
      "10  2.0  0.0  0.0  1.0  2.0  1.0  \n",
      "11  2.0  2.0  0.0  2.0  NaN  1.0  \n",
      "12  NaN  0.0  0.0  1.0  0.0  1.0  \n",
      "13  1.0  0.0  1.0  0.0  0.0  2.0  \n",
      "14  NaN  1.0  1.0  1.0  2.0  NaN  \n",
      "15  2.0  0.0  0.0  0.0  0.0  1.0  \n",
      "16  1.0  2.0  0.0  0.0  2.0  NaN  \n",
      "17  1.0  0.0  0.0  NaN  2.0  NaN  \n",
      "18  0.0  0.0  2.0  NaN  0.0  0.0  \n",
      "19  NaN  2.0  NaN  1.0  1.0  NaN  \n",
      "20  0.0  2.0  1.0  0.0  0.0  0.0  \n",
      "21  NaN  0.0  1.0  2.0  1.0  1.0  \n",
      "22  NaN  NaN  NaN  0.0  NaN  NaN  \n",
      "23  0.0  NaN  0.0  NaN  1.0  NaN  \n",
      "24  NaN  NaN  2.0  2.0  NaN  0.0  \n",
      "25  NaN  0.0  2.0  0.0  NaN  1.0  \n",
      "26  1.0  NaN  2.0  NaN  1.0  0.0  \n",
      "27  2.0  0.0  NaN  1.0  0.0  2.0  \n",
      "28  2.0  NaN  2.0  0.0  1.0  2.0  \n",
      "29  0.0  NaN  NaN  0.0  2.0  2.0  \n",
      "30  1.0  2.0  0.0  NaN  NaN  2.0  \n",
      "31  2.0  2.0  0.0  NaN  1.0  NaN  \n",
      "32  2.0  1.0  2.0  2.0  1.0  NaN  \n",
      "33  1.0  0.0  0.0  2.0  1.0  2.0  \n",
      "34  0.0  0.0  1.0  0.0  1.0  2.0  \n",
      "35  NaN  NaN  0.0  2.0  0.0  1.0  \n",
      "36  0.0  0.0  2.0  1.0  1.0  2.0  \n",
      "37  1.0  NaN  0.0  NaN  2.0  NaN  \n",
      "38  1.0  0.0  0.0  2.0  0.0  1.0  \n",
      "39  0.0  0.0  1.0  NaN  0.0  0.0  \n",
      "40  2.0  0.0  NaN  0.0  2.0  1.0  \n",
      "41  0.0  NaN  NaN  NaN  1.0  NaN  \n",
      "42  2.0  0.0  NaN  NaN  NaN  1.0  \n",
      "43  0.0  0.0  2.0  NaN  0.0  NaN  \n",
      "44  1.0  2.0  NaN  NaN  NaN  NaN  \n",
      "45  1.0  0.0  0.0  1.0  0.0  2.0  \n",
      "46  0.0  0.0  0.0  NaN  NaN  0.0  \n",
      "47  2.0  1.0  2.0  1.0  0.0  NaN  \n",
      "48  NaN  NaN  0.0  NaN  NaN  1.0  \n",
      "49  2.0  0.0  0.0  0.0  NaN  NaN  \n",
      "\n",
      "[50 rows x 50 columns]\n"
     ]
    }
   ],
   "source": [
    "import numpy as np\n",
    "import pandas as pd\n",
    "\n",
    "# Set matrix dimensions and proportions\n",
    "n = 50\n",
    "values = np.random.permutation(\n",
    "    np.concatenate([\n",
    "        np.full(int(n * n * 0.5), 0),  # 50% 0's\n",
    "        np.full(int(n * n * 0.25), 1), # 25% 1's\n",
    "        np.full(int(n * n * 0.25), 2)  # 25% 2's\n",
    "    ])\n",
    ")\n",
    "\n",
    "# Reshape the matrix\n",
    "R = values.reshape(n, n)\n",
    "\n",
    "# Create a mask for punching holes with a 30% probability\n",
    "random_holes = np.random.choice([True, False], size=(n, n), p=[0.3, 0.7])\n",
    "\n",
    "# Assign NaN to the corresponding positions\n",
    "R = R.astype(float)  # Convert to float to support NaN\n",
    "R[random_holes] = np.nan\n",
    "\n",
    "# Convert to DataFrame\n",
    "df = pd.DataFrame(R)\n",
    "\n",
    "\n",
    "print(df)\n"
   ]
  },
  {
   "cell_type": "markdown",
   "metadata": {
    "id": "trL0Ltu4yp9m"
   },
   "source": [
    "* Sort the rows in matrix `R` by the largest row sum to lowest. Be careful about the NA's!"
   ]
  },
  {
   "cell_type": "code",
   "execution_count": 9,
   "metadata": {
    "colab": {
     "base_uri": "https://localhost:8080/"
    },
    "id": "QGPEL3Ba1ana",
    "outputId": "5fed490c-5567-42dd-f607-495500c373ed"
   },
   "outputs": [
    {
     "name": "stdout",
     "output_type": "stream",
     "text": [
      "[12 17 46 28 14  5  9 49 36 47 19 40 41 37 32 30 16 18 39 42 23 24 44 34\n",
      " 22  6  7  8 11 31  0 35 33 26  2 27 38  3 10 20 15 25  4  1 48 13 21 43\n",
      " 45 29]\n"
     ]
    }
   ],
   "source": [
    "#compute row sums, ignoring nan values\n",
    "\n",
    "row_sum = np.nansum(R, axis = 1)\n",
    "#print(row_sum)\n",
    "\n",
    "#get the row indices sorted by largest row sum to smallest\n",
    "row_sorted = np.argsort(-row_sum)\n",
    "print(row_sorted)"
   ]
  },
  {
   "cell_type": "markdown",
   "metadata": {
    "id": "1T_tkkym9FIP"
   },
   "source": [
    "* Python does not have an apply function. Instead use the nanstd function in numpy to calculate the standard devation of each column. Print them and combine then into a dataframe."
   ]
  },
  {
   "cell_type": "code",
   "execution_count": 11,
   "metadata": {
    "colab": {
     "base_uri": "https://localhost:8080/"
    },
    "id": "hc55J-CX0Jx-",
    "outputId": "086da3d7-5d85-4ea7-ee97-f565fcbc4987"
   },
   "outputs": [
    {
     "name": "stdout",
     "output_type": "stream",
     "text": [
      "[0.7772268862134539, 0.7323470351758078, 0.7817359599705717, 0.7907630001770314, 0.7310507928372617, 0.9040262963743211, 0.8439143072757395, 0.8156132131683558, 0.8475655413823614, 0.8022459821756386, 0.7680128579652817, 0.8475655413823614, 0.8620067027323833, 0.8142441722754183, 0.8119604537127112, 0.7181259597614283, 0.8559031717046193, 0.8710403975109247, 0.8188787787861144, 0.9131223741405675, 0.8076779989575054, 0.7284313590846835, 0.8198880662670216, 0.8331955809010617, 0.8324100998873475, 0.7634508123364221, 0.75, 0.7941176470588236, 0.9524870371192485, 0.6845227743263395, 0.81967981553775, 0.739985036788772, 0.855235974119758, 0.7908513752537735, 0.8339053308400819, 0.74535599249993, 0.8511022265274601, 0.8359957469322967, 0.7561741254224965, 0.7870038119348597, 0.7752936520529369, 0.8103306747674901, 0.8332682266233364, 0.7082096258096823, 0.8764508485736082, 0.7742615635934225, 0.8569883696666745, 0.8660254037844386, 0.7426364150465379, 0.8177316926151673]\n",
      "[0.8670237042931574, 0.8529411764705881, 0.6959705453537527, 0.823529411764706, 0.9270248108869579, 0.6933752452815364, 0.856780031373669, 0.939061200082295, 0.82915619758885, 0.767793053393625, 0.7981974151633214, 0.7796775957738549, 0.7751905875810755, 0.8648648648648647, 0.7000000000000001, 0.7935090949136862, 0.7949493345141213, 0.8998269729869619, 0.8816709987291178, 0.7180219742846007, 0.8314794192830982, 0.7399850367887721, 0.7633914067562574, 0.6428243465332248, 0.8198880662670217, 0.873678207046196, 0.7261843774138906, 0.8275862068965516, 0.7496555682941201, 0.8050858744917355, 0.7703832193844444, 0.8637671850678283, 0.7053367989832943, 0.8750743131344495, 0.8998269729869619, 0.8798826901281197, 0.7272229214634437, 0.9310966733315953, 0.7015658728963774, 0.8129561996720247, 0.7777308147745181, 0.8265564664839912, 0.729284550555317, 0.7971482689676306, 0.8216777476527246, 0.8439143072757395, 0.8101398216433041, 0.784544583871199, 0.7698396334461418, 0.7752936520529368]\n"
     ]
    }
   ],
   "source": [
    "#compute row wise and columb wise that standard deviation\n",
    "\n",
    "row_sd = np.nanstd(R, axis = 1)\n",
    "col_sd = np.nanstd(R, axis = 0)\n",
    "\n",
    "#combine the results into a dictionary\n",
    "\n",
    "result = {\"row_sd\": row_sd.tolist(), \"col_sd\": col_sd.tolist()}\n",
    "\n",
    "print(result[\"row_sd\"])\n",
    "print(result[\"col_sd\"])"
   ]
  },
  {
   "cell_type": "markdown",
   "metadata": {},
   "source": [
    "* combine the results from the previous cell into a dataframe"
   ]
  },
  {
   "cell_type": "code",
   "execution_count": 13,
   "metadata": {
    "colab": {
     "base_uri": "https://localhost:8080/",
     "height": 1000
    },
    "id": "ZT3Gzrcm5pR2",
    "outputId": "89a7707e-c0e9-45be-cf24-8d7193609bae"
   },
   "outputs": [
    {
     "data": {
      "text/html": [
       "<div>\n",
       "<style scoped>\n",
       "    .dataframe tbody tr th:only-of-type {\n",
       "        vertical-align: middle;\n",
       "    }\n",
       "\n",
       "    .dataframe tbody tr th {\n",
       "        vertical-align: top;\n",
       "    }\n",
       "\n",
       "    .dataframe thead th {\n",
       "        text-align: right;\n",
       "    }\n",
       "</style>\n",
       "<table border=\"1\" class=\"dataframe\">\n",
       "  <thead>\n",
       "    <tr style=\"text-align: right;\">\n",
       "      <th></th>\n",
       "      <th>row_sd</th>\n",
       "      <th>col_sd</th>\n",
       "    </tr>\n",
       "  </thead>\n",
       "  <tbody>\n",
       "    <tr>\n",
       "      <th>0</th>\n",
       "      <td>0.777227</td>\n",
       "      <td>0.867024</td>\n",
       "    </tr>\n",
       "    <tr>\n",
       "      <th>1</th>\n",
       "      <td>0.732347</td>\n",
       "      <td>0.852941</td>\n",
       "    </tr>\n",
       "    <tr>\n",
       "      <th>2</th>\n",
       "      <td>0.781736</td>\n",
       "      <td>0.695971</td>\n",
       "    </tr>\n",
       "    <tr>\n",
       "      <th>3</th>\n",
       "      <td>0.790763</td>\n",
       "      <td>0.823529</td>\n",
       "    </tr>\n",
       "    <tr>\n",
       "      <th>4</th>\n",
       "      <td>0.731051</td>\n",
       "      <td>0.927025</td>\n",
       "    </tr>\n",
       "    <tr>\n",
       "      <th>5</th>\n",
       "      <td>0.904026</td>\n",
       "      <td>0.693375</td>\n",
       "    </tr>\n",
       "    <tr>\n",
       "      <th>6</th>\n",
       "      <td>0.843914</td>\n",
       "      <td>0.856780</td>\n",
       "    </tr>\n",
       "    <tr>\n",
       "      <th>7</th>\n",
       "      <td>0.815613</td>\n",
       "      <td>0.939061</td>\n",
       "    </tr>\n",
       "    <tr>\n",
       "      <th>8</th>\n",
       "      <td>0.847566</td>\n",
       "      <td>0.829156</td>\n",
       "    </tr>\n",
       "    <tr>\n",
       "      <th>9</th>\n",
       "      <td>0.802246</td>\n",
       "      <td>0.767793</td>\n",
       "    </tr>\n",
       "    <tr>\n",
       "      <th>10</th>\n",
       "      <td>0.768013</td>\n",
       "      <td>0.798197</td>\n",
       "    </tr>\n",
       "    <tr>\n",
       "      <th>11</th>\n",
       "      <td>0.847566</td>\n",
       "      <td>0.779678</td>\n",
       "    </tr>\n",
       "    <tr>\n",
       "      <th>12</th>\n",
       "      <td>0.862007</td>\n",
       "      <td>0.775191</td>\n",
       "    </tr>\n",
       "    <tr>\n",
       "      <th>13</th>\n",
       "      <td>0.814244</td>\n",
       "      <td>0.864865</td>\n",
       "    </tr>\n",
       "    <tr>\n",
       "      <th>14</th>\n",
       "      <td>0.811960</td>\n",
       "      <td>0.700000</td>\n",
       "    </tr>\n",
       "    <tr>\n",
       "      <th>15</th>\n",
       "      <td>0.718126</td>\n",
       "      <td>0.793509</td>\n",
       "    </tr>\n",
       "    <tr>\n",
       "      <th>16</th>\n",
       "      <td>0.855903</td>\n",
       "      <td>0.794949</td>\n",
       "    </tr>\n",
       "    <tr>\n",
       "      <th>17</th>\n",
       "      <td>0.871040</td>\n",
       "      <td>0.899827</td>\n",
       "    </tr>\n",
       "    <tr>\n",
       "      <th>18</th>\n",
       "      <td>0.818879</td>\n",
       "      <td>0.881671</td>\n",
       "    </tr>\n",
       "    <tr>\n",
       "      <th>19</th>\n",
       "      <td>0.913122</td>\n",
       "      <td>0.718022</td>\n",
       "    </tr>\n",
       "    <tr>\n",
       "      <th>20</th>\n",
       "      <td>0.807678</td>\n",
       "      <td>0.831479</td>\n",
       "    </tr>\n",
       "    <tr>\n",
       "      <th>21</th>\n",
       "      <td>0.728431</td>\n",
       "      <td>0.739985</td>\n",
       "    </tr>\n",
       "    <tr>\n",
       "      <th>22</th>\n",
       "      <td>0.819888</td>\n",
       "      <td>0.763391</td>\n",
       "    </tr>\n",
       "    <tr>\n",
       "      <th>23</th>\n",
       "      <td>0.833196</td>\n",
       "      <td>0.642824</td>\n",
       "    </tr>\n",
       "    <tr>\n",
       "      <th>24</th>\n",
       "      <td>0.832410</td>\n",
       "      <td>0.819888</td>\n",
       "    </tr>\n",
       "    <tr>\n",
       "      <th>25</th>\n",
       "      <td>0.763451</td>\n",
       "      <td>0.873678</td>\n",
       "    </tr>\n",
       "    <tr>\n",
       "      <th>26</th>\n",
       "      <td>0.750000</td>\n",
       "      <td>0.726184</td>\n",
       "    </tr>\n",
       "    <tr>\n",
       "      <th>27</th>\n",
       "      <td>0.794118</td>\n",
       "      <td>0.827586</td>\n",
       "    </tr>\n",
       "    <tr>\n",
       "      <th>28</th>\n",
       "      <td>0.952487</td>\n",
       "      <td>0.749656</td>\n",
       "    </tr>\n",
       "    <tr>\n",
       "      <th>29</th>\n",
       "      <td>0.684523</td>\n",
       "      <td>0.805086</td>\n",
       "    </tr>\n",
       "    <tr>\n",
       "      <th>30</th>\n",
       "      <td>0.819680</td>\n",
       "      <td>0.770383</td>\n",
       "    </tr>\n",
       "    <tr>\n",
       "      <th>31</th>\n",
       "      <td>0.739985</td>\n",
       "      <td>0.863767</td>\n",
       "    </tr>\n",
       "    <tr>\n",
       "      <th>32</th>\n",
       "      <td>0.855236</td>\n",
       "      <td>0.705337</td>\n",
       "    </tr>\n",
       "    <tr>\n",
       "      <th>33</th>\n",
       "      <td>0.790851</td>\n",
       "      <td>0.875074</td>\n",
       "    </tr>\n",
       "    <tr>\n",
       "      <th>34</th>\n",
       "      <td>0.833905</td>\n",
       "      <td>0.899827</td>\n",
       "    </tr>\n",
       "    <tr>\n",
       "      <th>35</th>\n",
       "      <td>0.745356</td>\n",
       "      <td>0.879883</td>\n",
       "    </tr>\n",
       "    <tr>\n",
       "      <th>36</th>\n",
       "      <td>0.851102</td>\n",
       "      <td>0.727223</td>\n",
       "    </tr>\n",
       "    <tr>\n",
       "      <th>37</th>\n",
       "      <td>0.835996</td>\n",
       "      <td>0.931097</td>\n",
       "    </tr>\n",
       "    <tr>\n",
       "      <th>38</th>\n",
       "      <td>0.756174</td>\n",
       "      <td>0.701566</td>\n",
       "    </tr>\n",
       "    <tr>\n",
       "      <th>39</th>\n",
       "      <td>0.787004</td>\n",
       "      <td>0.812956</td>\n",
       "    </tr>\n",
       "    <tr>\n",
       "      <th>40</th>\n",
       "      <td>0.775294</td>\n",
       "      <td>0.777731</td>\n",
       "    </tr>\n",
       "    <tr>\n",
       "      <th>41</th>\n",
       "      <td>0.810331</td>\n",
       "      <td>0.826556</td>\n",
       "    </tr>\n",
       "    <tr>\n",
       "      <th>42</th>\n",
       "      <td>0.833268</td>\n",
       "      <td>0.729285</td>\n",
       "    </tr>\n",
       "    <tr>\n",
       "      <th>43</th>\n",
       "      <td>0.708210</td>\n",
       "      <td>0.797148</td>\n",
       "    </tr>\n",
       "    <tr>\n",
       "      <th>44</th>\n",
       "      <td>0.876451</td>\n",
       "      <td>0.821678</td>\n",
       "    </tr>\n",
       "    <tr>\n",
       "      <th>45</th>\n",
       "      <td>0.774262</td>\n",
       "      <td>0.843914</td>\n",
       "    </tr>\n",
       "    <tr>\n",
       "      <th>46</th>\n",
       "      <td>0.856988</td>\n",
       "      <td>0.810140</td>\n",
       "    </tr>\n",
       "    <tr>\n",
       "      <th>47</th>\n",
       "      <td>0.866025</td>\n",
       "      <td>0.784545</td>\n",
       "    </tr>\n",
       "    <tr>\n",
       "      <th>48</th>\n",
       "      <td>0.742636</td>\n",
       "      <td>0.769840</td>\n",
       "    </tr>\n",
       "    <tr>\n",
       "      <th>49</th>\n",
       "      <td>0.817732</td>\n",
       "      <td>0.775294</td>\n",
       "    </tr>\n",
       "  </tbody>\n",
       "</table>\n",
       "</div>"
      ],
      "text/plain": [
       "      row_sd    col_sd\n",
       "0   0.777227  0.867024\n",
       "1   0.732347  0.852941\n",
       "2   0.781736  0.695971\n",
       "3   0.790763  0.823529\n",
       "4   0.731051  0.927025\n",
       "5   0.904026  0.693375\n",
       "6   0.843914  0.856780\n",
       "7   0.815613  0.939061\n",
       "8   0.847566  0.829156\n",
       "9   0.802246  0.767793\n",
       "10  0.768013  0.798197\n",
       "11  0.847566  0.779678\n",
       "12  0.862007  0.775191\n",
       "13  0.814244  0.864865\n",
       "14  0.811960  0.700000\n",
       "15  0.718126  0.793509\n",
       "16  0.855903  0.794949\n",
       "17  0.871040  0.899827\n",
       "18  0.818879  0.881671\n",
       "19  0.913122  0.718022\n",
       "20  0.807678  0.831479\n",
       "21  0.728431  0.739985\n",
       "22  0.819888  0.763391\n",
       "23  0.833196  0.642824\n",
       "24  0.832410  0.819888\n",
       "25  0.763451  0.873678\n",
       "26  0.750000  0.726184\n",
       "27  0.794118  0.827586\n",
       "28  0.952487  0.749656\n",
       "29  0.684523  0.805086\n",
       "30  0.819680  0.770383\n",
       "31  0.739985  0.863767\n",
       "32  0.855236  0.705337\n",
       "33  0.790851  0.875074\n",
       "34  0.833905  0.899827\n",
       "35  0.745356  0.879883\n",
       "36  0.851102  0.727223\n",
       "37  0.835996  0.931097\n",
       "38  0.756174  0.701566\n",
       "39  0.787004  0.812956\n",
       "40  0.775294  0.777731\n",
       "41  0.810331  0.826556\n",
       "42  0.833268  0.729285\n",
       "43  0.708210  0.797148\n",
       "44  0.876451  0.821678\n",
       "45  0.774262  0.843914\n",
       "46  0.856988  0.810140\n",
       "47  0.866025  0.784545\n",
       "48  0.742636  0.769840\n",
       "49  0.817732  0.775294"
      ]
     },
     "execution_count": 13,
     "metadata": {},
     "output_type": "execute_result"
    }
   ],
   "source": [
    "sd_df = pd.DataFrame({\"row_sd\": row_sd.tolist(), \"col_sd\": col_sd.tolist()})\n",
    "sd_df"
   ]
  },
  {
   "cell_type": "markdown",
   "metadata": {
    "id": "L-A7Cfa98DDg"
   },
   "source": [
    "* Use the Pandas apply function to compute a vector whose entries are the count of entries that are 1 or 2 in each column"
   ]
  },
  {
   "cell_type": "code",
   "execution_count": 53,
   "metadata": {
    "colab": {
     "base_uri": "https://localhost:8080/"
    },
    "id": "54XfftmJ77oY",
    "outputId": "8baa21e3-58dc-4348-d205-288750a36dd2"
   },
   "outputs": [
    {
     "name": "stdout",
     "output_type": "stream",
     "text": [
      "0     21\n",
      "1     16\n",
      "2     17\n",
      "3     15\n",
      "4     24\n",
      "5     16\n",
      "6     20\n",
      "7     19\n",
      "8     20\n",
      "9     15\n",
      "10    18\n",
      "11    15\n",
      "12    14\n",
      "13    13\n",
      "14    14\n",
      "15    17\n",
      "16    17\n",
      "17    15\n",
      "18    19\n",
      "19    17\n",
      "20    23\n",
      "21    14\n",
      "22    15\n",
      "23    14\n",
      "24    25\n",
      "25    17\n",
      "26    17\n",
      "27    14\n",
      "28    18\n",
      "29    22\n",
      "30    17\n",
      "31    20\n",
      "32    20\n",
      "33    21\n",
      "34    16\n",
      "35    14\n",
      "36    10\n",
      "37    18\n",
      "38    20\n",
      "39    15\n",
      "40    20\n",
      "41    19\n",
      "42    17\n",
      "43    14\n",
      "44    25\n",
      "45    14\n",
      "46    18\n",
      "47    19\n",
      "48    21\n",
      "49    22\n",
      "dtype: int64\n"
     ]
    }
   ],
   "source": [
    "print(df.fillna(0).apply(np.count_nonzero, axis = 0))\n",
    "#print(df[df.columns[23]])"
   ]
  },
  {
   "cell_type": "markdown",
   "metadata": {
    "id": "YGsPbNYnGw7b"
   },
   "source": [
    "Since we just switched between Pandas dataframes and Numpy arrays. Here are some handy ways to check to see if you are working with a Pandas dataframe or a Numpy array"
   ]
  },
  {
   "cell_type": "code",
   "execution_count": 109,
   "metadata": {
    "colab": {
     "base_uri": "https://localhost:8080/"
    },
    "id": "XIaPkMlqHaN4",
    "outputId": "a1564ca8-68a0-4696-ac53-d7283a2bd919"
   },
   "outputs": [
    {
     "name": "stdout",
     "output_type": "stream",
     "text": [
      "R is a NumPy array\n"
     ]
    }
   ],
   "source": [
    "# Check type directly\n",
    "if type(R) == pd.DataFrame:\n",
    "    print(\"R is a Pandas DataFrame\")\n",
    "\n",
    "if type(R) == np.ndarray:\n",
    "    print(\"R is a NumPy array\")"
   ]
  },
  {
   "cell_type": "code",
   "execution_count": 111,
   "metadata": {
    "colab": {
     "base_uri": "https://localhost:8080/"
    },
    "id": "TbnwGrJzGAjI",
    "outputId": "54de6748-d7e4-420e-fb7e-3719496a1c90"
   },
   "outputs": [
    {
     "name": "stdout",
     "output_type": "stream",
     "text": [
      "NumPy array\n"
     ]
    }
   ],
   "source": [
    "# isinstance(object, classinfo): This function checks if an object is an instance of a specified class or subclass.\n",
    "# function utilizing this function to check\n",
    "def check_type(R):\n",
    "    if isinstance(R, pd.DataFrame):\n",
    "        return \"Pandas DataFrame\"\n",
    "    elif isinstance(R, np.ndarray):\n",
    "        return \"NumPy array\"\n",
    "    else:\n",
    "        return \"Unknown type\"\n",
    "\n",
    "# Test the function\n",
    "print(check_type(R))  # Output: Pandas DataFrame"
   ]
  },
  {
   "cell_type": "markdown",
   "metadata": {
    "id": "ys-3fJhOHrIq"
   },
   "source": [
    "* Create a list whose keys are the column number and values are the vector of the columns."
   ]
  },
  {
   "cell_type": "code",
   "execution_count": 75,
   "metadata": {
    "colab": {
     "base_uri": "https://localhost:8080/"
    },
    "id": "lbqjigOmGZe7",
    "outputId": "a34b842b-1010-407e-e732-603af3be95b5"
   },
   "outputs": [
    {
     "name": "stdout",
     "output_type": "stream",
     "text": [
      "0     2.0\n",
      "1     NaN\n",
      "2     0.0\n",
      "3     0.0\n",
      "4     0.0\n",
      "5     2.0\n",
      "6     0.0\n",
      "7     2.0\n",
      "8     0.0\n",
      "9     1.0\n",
      "10    NaN\n",
      "11    0.0\n",
      "12    NaN\n",
      "13    0.0\n",
      "14    NaN\n",
      "15    0.0\n",
      "16    0.0\n",
      "17    2.0\n",
      "18    NaN\n",
      "19    2.0\n",
      "20    NaN\n",
      "21    NaN\n",
      "22    2.0\n",
      "23    NaN\n",
      "24    0.0\n",
      "25    NaN\n",
      "26    2.0\n",
      "27    0.0\n",
      "28    0.0\n",
      "29    1.0\n",
      "30    2.0\n",
      "31    NaN\n",
      "32    NaN\n",
      "33    NaN\n",
      "34    NaN\n",
      "35    1.0\n",
      "36    0.0\n",
      "37    2.0\n",
      "38    2.0\n",
      "39    0.0\n",
      "40    1.0\n",
      "41    0.0\n",
      "42    NaN\n",
      "43    NaN\n",
      "44    0.0\n",
      "45    NaN\n",
      "46    0.0\n",
      "47    0.0\n",
      "48    2.0\n",
      "49    2.0\n",
      "Name: 1, dtype: float64\n"
     ]
    }
   ],
   "source": [
    "#key_list = {i : df[df.columns[i]] for i in range(0, 50)}\n",
    "#print(key_list)\n",
    "key_list = {i: df[col] for i, col in enumerate(df.columns)}\n",
    "print(key_list[1])"
   ]
  },
  {
   "cell_type": "markdown",
   "metadata": {
    "id": "9nv5y7PcIjmO"
   },
   "source": [
    "* Create a list whose keys are the column number and values are themselves a list with keys: \"min\" whose value is the minimum of the column, \"max\" whose value is the maximum of the column, \"pct_missing\" is the proportion of missingness in the column and \"first_NA\" whose value is the row number of the first time the NA appears. In R this was accomplished using lappy. In Python we will use dictionary comprehension in tandem with Numpy and Pandas operations."
   ]
  },
  {
   "cell_type": "code",
   "execution_count": 77,
   "metadata": {
    "colab": {
     "base_uri": "https://localhost:8080/"
    },
    "id": "PA9Y8De_JBKy",
    "outputId": "b2414bb1-aba9-4798-9213-1be8cf957deb"
   },
   "outputs": [
    {
     "name": "stdout",
     "output_type": "stream",
     "text": [
      "              0     1     2     3     4    5    6     7     8     9   ...  \\\n",
      "min          0.0  0.00  0.00  0.00  0.00  0.0  0.0  0.00  0.00  0.00  ...   \n",
      "max          2.0  2.00  2.00  2.00  2.00  2.0  2.0  2.00  2.00  2.00  ...   \n",
      "pct_missing  0.2  0.32  0.36  0.36  0.18  0.3  0.3  0.28  0.32  0.28  ...   \n",
      "first_NA     7.0  1.00  1.00  0.00  3.00  3.0  1.0  0.00  0.00  8.00  ...   \n",
      "\n",
      "              40   41    42   43    44    45    46    47   48    49  \n",
      "min          0.0  0.0  0.00  0.0  0.00  0.00  0.00  0.00  0.0  0.00  \n",
      "max          2.0  2.0  2.00  2.0  2.00  2.00  2.00  2.00  2.0  2.00  \n",
      "pct_missing  0.3  0.2  0.32  0.3  0.26  0.24  0.26  0.32  0.3  0.34  \n",
      "first_NA     0.0  3.0  1.00  3.0  3.00  6.00  1.00  1.00  0.0  0.00  \n",
      "\n",
      "[4 rows x 50 columns]\n"
     ]
    }
   ],
   "source": [
    "sp_list = {i : {'min' : df[col][np.argmin(df[col].fillna(3))], \n",
    "               'max' : df[col][np.argmax(df[col].fillna(-1))], \n",
    "               'pct_missing' : np.mean(np.isnan(df[col])), \n",
    "               'first_NA' : np.where(np.isnan(df[col]))[0][0]} for i,col in enumerate(df.columns)}\n",
    "\n",
    "sp_df = pd.DataFrame(sp_list)\n",
    "print(sp_df)"
   ]
  },
  {
   "cell_type": "markdown",
   "metadata": {
    "id": "ODDPcnZkJ5NC"
   },
   "source": [
    "* Set a seed and then create a vector `v` consisting of a sample of 1,000 iid normal realizations with mean -10 and variance 100."
   ]
  },
  {
   "cell_type": "code",
   "execution_count": 81,
   "metadata": {
    "colab": {
     "base_uri": "https://localhost:8080/"
    },
    "id": "nw2iaLlhJQqZ",
    "outputId": "f93873f8-979a-40c2-c95a-3d84a98fef3c"
   },
   "outputs": [],
   "source": [
    "np.random.seed(1)\n",
    "\n",
    "v = np.random.normal(loc = -10, scale = 10, size = 1000)"
   ]
  },
  {
   "cell_type": "markdown",
   "metadata": {
    "id": "tnKYRW5AKI7I"
   },
   "source": [
    "* Repeat this exercise by resetting the seed to ensure you obtain the same results. You can use the random module built in python or random.seed from numpy."
   ]
  },
  {
   "cell_type": "code",
   "execution_count": 87,
   "metadata": {
    "colab": {
     "base_uri": "https://localhost:8080/"
    },
    "id": "1QHAam3_KCdD",
    "outputId": "9dd29024-89b8-4ab5-d150-0999b39876ae"
   },
   "outputs": [],
   "source": [
    "v = np.random.normal(loc = -10, scale = 10, size = 1000)"
   ]
  },
  {
   "cell_type": "markdown",
   "metadata": {
    "id": "RH1j1mgNKnc1"
   },
   "source": [
    "* Find the average of `v` and the standard error of `v`."
   ]
  },
  {
   "cell_type": "code",
   "execution_count": 89,
   "metadata": {
    "colab": {
     "base_uri": "https://localhost:8080/"
    },
    "id": "HWJZzmV3KPww",
    "outputId": "72de329e-cfa0-485a-f99f-afd0714804ef"
   },
   "outputs": [
    {
     "name": "stdout",
     "output_type": "stream",
     "text": [
      "Mean: -10.221685716021334, Std: 9.716231299281457\n"
     ]
    }
   ],
   "source": [
    "ave_v = np.mean(v)\n",
    "sd_v = np.std(v)\n",
    "\n",
    "print(f\"Mean: {ave_v}, Std: {sd_v}\")"
   ]
  },
  {
   "cell_type": "markdown",
   "metadata": {
    "id": "rH-Sf7vqLBxz"
   },
   "source": [
    "* Find the 5%ile of `v` and use the `norm` function from scipy.stats to compute what it theoretically should be. Is the estimate about what is expected by theory?"
   ]
  },
  {
   "cell_type": "code",
   "execution_count": 93,
   "metadata": {
    "colab": {
     "base_uri": "https://localhost:8080/"
    },
    "id": "aBMMfyNBLAzS",
    "outputId": "644d6a5c-9cea-4d4b-b7b2-a21b82c6a347"
   },
   "outputs": [
    {
     "name": "stdout",
     "output_type": "stream",
     "text": [
      "Actual percentile: -25.81653045935669, theoretical percentile: -26.44853626951473\n"
     ]
    }
   ],
   "source": [
    "from scipy.stats import norm\n",
    "\n",
    "real_ile = np.percentile(v, q = 5)\n",
    "theo_ile = norm.ppf(q = 0.05, loc = -10, scale = 10)\n",
    "\n",
    "print(f\"Actual percentile: {real_ile}, theoretical percentile: {theo_ile}\")"
   ]
  },
  {
   "cell_type": "markdown",
   "metadata": {
    "id": "8R9DHC_yLq57"
   },
   "source": [
    "* What is the percentile of `v` that corresponds to the value 0? What should it be theoretically? Is the estimate about what is expected by theory?"
   ]
  },
  {
   "cell_type": "code",
   "execution_count": 97,
   "metadata": {
    "colab": {
     "base_uri": "https://localhost:8080/"
    },
    "id": "zf-4WAiKLefJ",
    "outputId": "e131bf75-069c-42ba-b577-7b119d641679"
   },
   "outputs": [
    {
     "name": "stdout",
     "output_type": "stream",
     "text": [
      "Actual percentile: 0.855, theoretical percentile: 0.8413447460685429\n"
     ]
    }
   ],
   "source": [
    "real_am = np.mean(v < 0)\n",
    "theo_am = norm.cdf(x = 0, loc = -10, scale = 10)\n",
    "\n",
    "print(f\"Actual percentile: {real_am}, theoretical percentile: {theo_am}\")"
   ]
  },
  {
   "cell_type": "markdown",
   "metadata": {
    "id": "494OABRdM6CZ"
   },
   "source": [
    "* Create a function `my_reverse` which takes as required input a vector `v` and returns the vector in reverse where the first entry is the last entry, etc. No function calls are allowed inside your function otherwise that would defeat the purpose of the exercise! (Yes, there is a base R function that does this called `rev`). "
   ]
  },
  {
   "cell_type": "code",
   "execution_count": 137,
   "metadata": {
    "colab": {
     "base_uri": "https://localhost:8080/"
    },
    "id": "FNXIBb6ZM2yq",
    "outputId": "175eaaa6-2a71-46c5-b22c-9fc94d83ef15"
   },
   "outputs": [
    {
     "name": "stdout",
     "output_type": "stream",
     "text": [
      "[49 48 47 46 45 44 43 42 41 40 39 38 37 36 35 34 33 32 31 30 29 28 27 26\n",
      " 25 24 23 22 21 20 19 18 17 16 15 14 13 12 11 10  9  8  7  6  5  4  3  2\n",
      "  1  0]\n"
     ]
    }
   ],
   "source": [
    "def my_reverse(v: list):\n",
    "    return v[::-1]\n",
    "\n",
    "print(my_reverse(np.arange(0,50)))"
   ]
  },
  {
   "cell_type": "markdown",
   "metadata": {
    "id": "lCutgH2kOMDd"
   },
   "source": [
    " * Built in methods in python to reverse a list."
   ]
  },
  {
   "cell_type": "code",
   "execution_count": 135,
   "metadata": {
    "colab": {
     "base_uri": "https://localhost:8080/"
    },
    "id": "_F67NrC8N5nl",
    "outputId": "38ec40dc-3f57-4ada-d253-045c1b4bf985"
   },
   "outputs": [
    {
     "name": "stdout",
     "output_type": "stream",
     "text": [
      "[5, 4, 3, 2, 1]\n",
      "[5, 4, 3, 2, 1]\n"
     ]
    }
   ],
   "source": [
    "#reverse using slicing\n",
    "v = [1, 2, 3, 4, 5]\n",
    "v_reversed = v[::-1]\n",
    "print(v_reversed)\n",
    "\n",
    "#using the .reverse method\n",
    "v = [1, 2, 3, 4, 5]\n",
    "v.reverse()\n",
    "print(v)"
   ]
  },
  {
   "cell_type": "markdown",
   "metadata": {
    "id": "4VZDnJUFNp9d"
   },
   "source": [
    "* Create a function `flip_matrix` which takes as required input a matrix, an argument `dim_to_rev` that returns the matrix with the rows in reverse order or the columns in reverse order depending on the `dim_to_rev` argument. Let the default be the dimension of the matrix that is greater."
   ]
  },
  {
   "cell_type": "code",
   "execution_count": 181,
   "metadata": {
    "colab": {
     "base_uri": "https://localhost:8080/"
    },
    "id": "KJzPP76INONa",
    "outputId": "44dd9b1f-9e5b-48ed-edcb-37be5f026df9"
   },
   "outputs": [
    {
     "name": "stdout",
     "output_type": "stream",
     "text": [
      "1) \n",
      " [[ 0.  2.  1. ...  0. nan nan]\n",
      " [ 1. nan nan ... nan nan  0.]\n",
      " [ 1.  0.  0. ...  0. nan  0.]\n",
      " ...\n",
      " [ 2.  0.  2. ...  1.  0. nan]\n",
      " [ 1.  2. nan ... nan nan  1.]\n",
      " [ 0.  2.  2. ...  0. nan nan]]\n",
      "2) \n",
      " [[nan nan  0. ...  1.  2.  0.]\n",
      " [ 0. nan nan ... nan nan  1.]\n",
      " [ 0. nan  0. ...  0.  0.  1.]\n",
      " ...\n",
      " [nan  0.  1. ...  2.  0.  2.]\n",
      " [ 1. nan nan ... nan  2.  1.]\n",
      " [nan nan  0. ...  2.  2.  0.]]\n"
     ]
    }
   ],
   "source": [
    "def flip_matrix(R):\n",
    "    return np.flip(R, axis = 1)\n",
    "\n",
    "print(\"1) \\n\", R)\n",
    "print(\"2) \\n\", flip_matrix(R))"
   ]
  },
  {
   "cell_type": "markdown",
   "metadata": {
    "id": "1n-VzTJTPpoU"
   },
   "source": [
    "* Create a list named `my_list` with keys \"A\", \"B\", ... where the entries are arrays of size 1, 2 x 2, 3 x 3 x 3, etc. Fill the array with the numbers 1, 2, 3, etc. Make 8 entries according to this sequence."
   ]
  },
  {
   "cell_type": "code",
   "execution_count": 238,
   "metadata": {
    "colab": {
     "base_uri": "https://localhost:8080/"
    },
    "id": "vGYjxbVcPNLN",
    "outputId": "165888fb-2728-4a4c-daf3-5183e6e1c66b"
   },
   "outputs": [
    {
     "name": "stdout",
     "output_type": "stream",
     "text": [
      "[[[3 3 3]\n",
      "  [3 3 3]\n",
      "  [3 3 3]]\n",
      "\n",
      " [[3 3 3]\n",
      "  [3 3 3]\n",
      "  [3 3 3]]\n",
      "\n",
      " [[3 3 3]\n",
      "  [3 3 3]\n",
      "  [3 3 3]]]\n"
     ]
    }
   ],
   "source": [
    "my_list = {chr(i + 64): np.full(np.repeat(i,i), fill_value = i) for i in range(1,9)}\n",
    "\n",
    "print(my_list[\"C\"])"
   ]
  },
  {
   "cell_type": "markdown",
   "metadata": {
    "id": "mZExH8G6Qr-s"
   },
   "source": [
    "* Run the following code:"
   ]
  },
  {
   "cell_type": "code",
   "execution_count": 240,
   "metadata": {
    "colab": {
     "base_uri": "https://localhost:8080/"
    },
    "id": "iV2anQ8cQBw_",
    "outputId": "c9bf96a4-5f98-41f8-9ef6-2b95f9ccfeb9"
   },
   "outputs": [
    {
     "name": "stdout",
     "output_type": "stream",
     "text": [
      "Key: A, Size: 116 bytes\n",
      "Key: B, Size: 144 bytes\n",
      "Key: C, Size: 252 bytes\n",
      "Key: D, Size: 1184 bytes\n",
      "Key: E, Size: 12676 bytes\n",
      "Key: F, Size: 186816 bytes\n",
      "Key: G, Size: 3294380 bytes\n",
      "Key: H, Size: 67109088 bytes\n"
     ]
    }
   ],
   "source": [
    "import sys\n",
    "\n",
    "sizes = {key: sys.getsizeof(value) for key, value in my_list.items()}\n",
    "\n",
    "\n",
    "# Print the sizes\n",
    "for key, size in sizes.items():\n",
    "    print(f\"Key: {key}, Size: {size} bytes\")"
   ]
  },
  {
   "cell_type": "markdown",
   "metadata": {
    "id": "GG32YkXnSxqM"
   },
   "source": [
    "* Create vector `v` consisting of all numbers from -100 to 100 and test using the second line of code"
   ]
  },
  {
   "cell_type": "code",
   "execution_count": 244,
   "metadata": {
    "colab": {
     "base_uri": "https://localhost:8080/"
    },
    "id": "LnkySK_uSSlb",
    "outputId": "b0de8d3e-cc41-4123-f08c-0a03e395b3d5"
   },
   "outputs": [
    {
     "name": "stdout",
     "output_type": "stream",
     "text": [
      "[-100  -99  -98  -97  -96  -95  -94  -93  -92  -91  -90  -89  -88  -87\n",
      "  -86  -85  -84  -83  -82  -81  -80  -79  -78  -77  -76  -75  -74  -73\n",
      "  -72  -71  -70  -69  -68  -67  -66  -65  -64  -63  -62  -61  -60  -59\n",
      "  -58  -57  -56  -55  -54  -53  -52  -51  -50  -49  -48  -47  -46  -45\n",
      "  -44  -43  -42  -41  -40  -39  -38  -37  -36  -35  -34  -33  -32  -31\n",
      "  -30  -29  -28  -27  -26  -25  -24  -23  -22  -21  -20  -19  -18  -17\n",
      "  -16  -15  -14  -13  -12  -11  -10   -9   -8   -7   -6   -5   -4   -3\n",
      "   -2   -1    0    1    2    3    4    5    6    7    8    9   10   11\n",
      "   12   13   14   15   16   17   18   19   20   21   22   23   24   25\n",
      "   26   27   28   29   30   31   32   33   34   35   36   37   38   39\n",
      "   40   41   42   43   44   45   46   47   48   49   50   51   52   53\n",
      "   54   55   56   57   58   59   60   61   62   63   64   65   66   67\n",
      "   68   69   70   71   72   73   74   75   76   77   78   79   80   81\n",
      "   82   83   84   85   86   87   88   89   90   91   92   93   94   95\n",
      "   96   97   98   99  100]\n"
     ]
    }
   ],
   "source": [
    "v = np.arange(-100,101)\n",
    "print(v)"
   ]
  },
  {
   "cell_type": "markdown",
   "metadata": {
    "id": "dH4AjtFUVphe"
   },
   "source": [
    "* Test the `my_reverse` function using the following code:"
   ]
  },
  {
   "cell_type": "code",
   "execution_count": 246,
   "metadata": {
    "colab": {
     "base_uri": "https://localhost:8080/"
    },
    "id": "zAJAaua1SbqD",
    "outputId": "f1922dde-f8d2-47a8-edd5-f0d70144d9c2"
   },
   "outputs": [
    {
     "name": "stdout",
     "output_type": "stream",
     "text": [
      "[1, 2, 3, 4, 5, 6, 7, 8, 9, 10]\n",
      "[10, 9, 8, 7, 6, 5, 4, 3, 2, 1]\n"
     ]
    }
   ],
   "source": [
    "# Test the function\n",
    "v = list(range(1, 11))\n",
    "v_reversed = my_reverse(v)\n",
    "print(v)\n",
    "print(v_reversed)\n",
    "type(v_reversed)\n",
    "\n",
    "assert my_reverse(v) == v[::-1], \"my_reverse failed for numerical vector\"\n",
    "\n",
    " # Test with character vector\n",
    "v_char = [\"A\", \"B\", \"C\"]\n",
    "assert my_reverse(v_char) == v_char[::-1], \"my_reverse failed for character vector\""
   ]
  },
  {
   "cell_type": "raw",
   "metadata": {
    "id": "B4ch5SmkVzfz"
   },
   "source": [
    "## A little about strings\n",
    "\n",
    "* Use the `re.split` function by importing the re module and `random` from the random module to put the sentences in the string `lorem` below in random order. You will also need to manipulate the output of `re.split` which is a list. You may need to learn basic concepts of regular expressions."
   ]
  },
  {
   "cell_type": "code",
   "execution_count": 188,
   "metadata": {
    "colab": {
     "base_uri": "https://localhost:8080/"
    },
    "id": "tVRqWzFCVzAX",
    "outputId": "c58a0650-9033-4ef6-d02e-4f3f6ee21251"
   },
   "outputs": [
    {
     "name": "stdout",
     "output_type": "stream",
     "text": [
      "Donec vehicula sagittis nisi non semper. Donec at tempor erat. Morbi posuere varius volutpat. Morbi faucibus ligula id massa ultricies viverra. Cras suscipit id nibh lacinia elementum. Curabitur est augue, congue eget quam in, scelerisque semper magna. Aenean nulla ante, iaculis sed vehicula ac, finibus vel arcu. Mauris at sodales augue. Integer dapibus mi lectus, eu posuere arcu ultricies in. Lorem ipsum dolor sit amet, consectetur adipiscing elit.\n"
     ]
    }
   ],
   "source": [
    "import re\n",
    "import random\n",
    "\n",
    "lorem = \"\"\"Lorem ipsum dolor sit amet, consectetur adipiscing elit.\n",
    "Morbi posuere varius volutpat. Morbi faucibus ligula id massa ultricies viverra.\n",
    "Donec vehicula sagittis nisi non semper. Donec at tempor erat.\n",
    "Integer dapibus mi lectus, eu posuere arcu ultricies in.\n",
    "Cras suscipit id nibh lacinia elementum. Curabitur est augue, congue eget quam in, scelerisque semper magna.\n",
    "Aenean nulla ante, iaculis sed vehicula ac, finibus vel arcu. Mauris at sodales augue.\"\"\"\n",
    "\n",
    "t = re.split(pattern = \"\\n\", string = lorem)\n",
    "random.shuffle(t)\n",
    "print(\" \".join(t))\n"
   ]
  },
  {
   "cell_type": "markdown",
   "metadata": {
    "id": "40eoQu9LWrBo"
   },
   "source": [
    "* You have a set of names divided by gender (M / F) and generation (Boomer / GenX / Millenial):\n",
    "\n",
    "M / Boomer      \"Theodore, Bernard, Gene, Herbert, Ray, Tom, Lee, Alfred, Leroy, Eddie\"\n",
    "\n",
    "M / GenX        \"Marc, Jamie, Greg, Darryl, Tim, Dean, Jon, Chris, Troy, Jeff\"\n",
    "\n",
    "M / Millennial  \"Zachary, Dylan, Christian, Wesley, Seth, Austin, Gabriel, Evan, Casey, Luis\"\n",
    "\n",
    "F / Boomer      \"Gloria, Joan, Dorothy, Shirley, Betty, Dianne, Kay, Marjorie, Lorraine, Mildred\"\n",
    "\n",
    "F / GenX        \"Tracy, Dawn, Tina, Tammy, Melinda, Tamara, Tracey, Colleen, Sherri, Heidi\"\n",
    "\n",
    "F / Millennial  \"Samantha, Alexis, Brittany, Lauren, Taylor, Bethany, Latoya, Candice, Brittney, Cheyenne\"\n",
    "\n",
    "Create python dictionary to store this data.\n"
   ]
  },
  {
   "cell_type": "code",
   "execution_count": 196,
   "metadata": {
    "colab": {
     "base_uri": "https://localhost:8080/"
    },
    "id": "KMpxbhglWYoA",
    "outputId": "334af4d7-a902-4c79-c3fe-03988d6654ab"
   },
   "outputs": [
    {
     "name": "stdout",
     "output_type": "stream",
     "text": [
      "{'M': {'Boomer': ['Theodore', 'Bernard', 'Gene', 'Herbert', 'Ray', 'Tom', 'Lee', 'Alfred', 'Leroy', 'Eddie'], 'GenX': ['Marc', 'Jamie', 'Greg', 'Darryl', 'Tim', 'Dean', 'Jon', 'Chris', 'Troy', 'Jeff'], 'Millennial': ['Zachary', 'Dylan', 'Christian', 'Wesley', 'Seth', 'Austin', 'Gabriel', 'Evan', 'Casey', 'Luis']}, 'F': {'Boomer': ['Gloria', 'Joan', 'Dorothy', 'Shirley', 'Betty', 'Dianne', 'Kay', 'Marjorie', 'Lorraine', 'Mildred'], 'GenX': ['Tracy', 'Dawn', 'Tina', 'Tammy', 'Melinda', 'Tamara', 'Tracey', 'Colleen', 'Sherri', 'Heidi'], 'Millennial': ['Samantha', 'Alexis', 'Brittany', 'Lauren', 'Taylor', 'Bethany', 'Latoya', 'Candice', 'Brittney', 'Cheyenne']}}\n"
     ]
    }
   ],
   "source": [
    "re.split(pattern = \", \", string = \"Theodore, Bernard, Gene, Herbert, Ray, Tom, Lee, Alfred, Leroy, Eddie\")\n",
    "\n",
    "names = {\"M\": {\"Boomer\": re.split(pattern = \", \", string = \"Theodore, Bernard, Gene, Herbert, Ray, Tom, Lee, Alfred, Leroy, Eddie\"),\n",
    "              \"GenX\" : re.split(pattern = \", \", string = \"Marc, Jamie, Greg, Darryl, Tim, Dean, Jon, Chris, Troy, Jeff\"),\n",
    "              \"Millennial\": re.split(pattern = \", \", string = \"Zachary, Dylan, Christian, Wesley, Seth, Austin, Gabriel, Evan, Casey, Luis\")}, \n",
    "         \"F\": {\"Boomer\": re.split(pattern = \", \", string = \"Gloria, Joan, Dorothy, Shirley, Betty, Dianne, Kay, Marjorie, Lorraine, Mildred\"),\n",
    "              \"GenX\" : re.split(pattern = \", \", string = \"Tracy, Dawn, Tina, Tammy, Melinda, Tamara, Tracey, Colleen, Sherri, Heidi\"),\n",
    "              \"Millennial\": re.split(pattern = \", \", string = \"Samantha, Alexis, Brittany, Lauren, Taylor, Bethany, Latoya, Candice, Brittney, Cheyenne\")}}\n",
    "\n",
    "print(names)\n",
    "import pandas as pd"
   ]
  },
  {
   "cell_type": "markdown",
   "metadata": {
    "id": "mE0YVNtiWzC2"
   },
   "source": [
    "* Now cleanup the namespace by deleting all stored objects and functions:"
   ]
  },
  {
   "cell_type": "code",
   "execution_count": 204,
   "metadata": {
    "colab": {
     "base_uri": "https://localhost:8080/"
    },
    "id": "cqUJBY1uWzty",
    "outputId": "7a5eae8c-2613-4e44-a460-25d06818e769"
   },
   "outputs": [
    {
     "name": "stdout",
     "output_type": "stream",
     "text": [
      "['__builtins__']\n"
     ]
    }
   ],
   "source": [
    "for name in dir():\n",
    "    del globals()[name]\n",
    "\n",
    "del globals()[\"name\"]\n",
    "print(dir())\n"
   ]
  }
 ],
 "metadata": {
  "colab": {
   "provenance": []
  },
  "kernelspec": {
   "display_name": "Python [conda env:base] *",
   "language": "python",
   "name": "conda-base-py"
  },
  "language_info": {
   "codemirror_mode": {
    "name": "ipython",
    "version": 3
   },
   "file_extension": ".py",
   "mimetype": "text/x-python",
   "name": "python",
   "nbconvert_exporter": "python",
   "pygments_lexer": "ipython3",
   "version": "3.12.7"
  }
 },
 "nbformat": 4,
 "nbformat_minor": 4
}
