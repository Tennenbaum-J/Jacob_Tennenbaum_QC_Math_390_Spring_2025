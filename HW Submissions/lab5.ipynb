{
 "cells": [
  {
   "cell_type": "markdown",
   "id": "2b1538b0-f92b-48b9-be07-e9527576bc8b",
   "metadata": {},
   "source": [
    "## Course Assignment Instructions\n",
    "You should have Python (version 3.8 or later) and Jupyter Notebook installed to complete this assignment. You will write code in the empty cell/cells below the problem. While most of this will be a programming assignment, some questions will ask you to \"write a few sentences\" in markdown cells. \n",
    "\n",
    "Submission Instructions:\n",
    "\n",
    "Create a labs directory in your personal class repository (e.g., located in your home directory)\n",
    "Clone the class repository\n",
    "Copy this Jupyter notebook file (.ipynb) into your repo/labs directory\n",
    "Make your edits, commit changes, and push to your repository\n",
    "All submissions must be pushed before the due date to avoid late penalties. \n",
    "\n",
    "Labs are graded out of a 100 pts. Each day late is -10. For a max penalty of -50 after 5 days. From there you may submit the lab anytime before the semester ends for a max score of 50.  \n",
    "\n",
    "Lab 5 is due on 3/17/25"
   ]
  },
  {
   "cell_type": "markdown",
   "id": "baa0e89f-550b-4278-90c1-5b4d73c3d088",
   "metadata": {},
   "source": [
    "Write a function spec'd as follows:"
   ]
  },
  {
   "cell_type": "code",
   "execution_count": 1,
   "id": "80200021-19e2-4bd1-bd14-705326161aee",
   "metadata": {},
   "outputs": [],
   "source": [
    "import numpy as np\n",
    "\n",
    "def norm_vec(x):\n",
    "    \"\"\"Compute the Euclidean norm of a vector.\"\"\"\n",
    "    return np.sqrt(np.sum(x**2))\n",
    "\n",
    "def orthogonal_projection(a, v):\n",
    "    \"\"\"\n",
    "    Projects vector a onto vector v.\n",
    "    \n",
    "    Parameters:\n",
    "        a (numpy.ndarray): The vector to project.\n",
    "        v (numpy.ndarray): The vector to project onto.\n",
    "    \n",
    "    Returns:\n",
    "        dict: A dictionary with keys:\n",
    "            'a_parallel': the projection of a onto v,\n",
    "            'a_perpendicular': the residual component of a orthogonal to v.\n",
    "    \"\"\"\n",
    "    # Ensure that a and v are numpy arrays\n",
    "    a = np.asarray(a)\n",
    "    v = np.asarray(v)\n",
    "    \n",
    "    # Compute the squared norm of v\n",
    "    v_norm_sq = norm_vec(v)**2\n",
    "    \n",
    "    # Create the projection matrix using the outer product of v\n",
    "    H = np.outer(v, v) / v_norm_sq\n",
    "    \n",
    "    # Compute the parallel component of a\n",
    "    a_parallel = H @ a\n",
    "    \n",
    "    # Compute the orthogonal (perpendicular) component\n",
    "    a_perpendicular = a - a_parallel\n",
    "    \n",
    "    return {'a_parallel': a_parallel, 'a_perpendicular': a_perpendicular}\n"
   ]
  },
  {
   "cell_type": "markdown",
   "id": "923afa28-a1f6-46e8-bb9c-b51c427752b3",
   "metadata": {},
   "source": [
    "Provide predictions for each of these computations and then run them to make sure you're correct."
   ]
  },
  {
   "cell_type": "code",
   "execution_count": 3,
   "id": "2bf93752-a0a0-42e0-975a-43f01e967011",
   "metadata": {},
   "outputs": [
    {
     "name": "stdout",
     "output_type": "stream",
     "text": [
      "Test 1: orthogonal_projection([1,2,3,4], [1,2,3,4])\n",
      "a_parallel:\n",
      "[1. 2. 3. 4.]\n",
      "a_perpendicular:\n",
      "[0. 0. 0. 0.]\n",
      "\n",
      "Test 2: orthogonal_projection([1,2,3,4], [0,2,0,-1])\n",
      "a_parallel:\n",
      "[0. 0. 0. 0.]\n",
      "a_perpendicular:\n",
      "[1. 2. 3. 4.]\n",
      "\n",
      "Test 3: result = orthogonal_projection([2,6,7,3], [1,3,5,7]*37)\n",
      "Dot product (should be near 0): -5.329070518200751e-15\n",
      "Sum (should equal original vector [2,6,7,3]):\n",
      "[2. 6. 7. 3.]\n",
      "a_parallel divided by ([1,3,5,7]*37) (percentage of projection):\n",
      "[0.02445302 0.02445302 0.02445302 0.02445302]\n"
     ]
    }
   ],
   "source": [
    "# Test 1:\n",
    "print(\"Test 1: orthogonal_projection([1,2,3,4], [1,2,3,4])\")\n",
    "result1 = orthogonal_projection([1,2,3,4], [1,2,3,4])\n",
    "print(\"a_parallel:\")\n",
    "print(result1['a_parallel'])        # Expected: [1, 2, 3, 4]\n",
    "print(\"a_perpendicular:\")\n",
    "print(result1['a_perpendicular'])     # Expected: [0, 0, 0, 0]\n",
    "\n",
    "# Test 2:\n",
    "print(\"\\nTest 2: orthogonal_projection([1,2,3,4], [0,2,0,-1])\")\n",
    "result2 = orthogonal_projection([1,2,3,4], [0,2,0,-1])\n",
    "print(\"a_parallel:\")\n",
    "print(result2['a_parallel'])          # Expected: [0, 0, 0, 0]\n",
    "print(\"a_perpendicular:\")\n",
    "print(result2['a_perpendicular'])       # Expected: [1, 2, 3, 4]\n",
    "\n",
    "# Test 3:\n",
    "print(\"\\nTest 3: result = orthogonal_projection([2,6,7,3], [1,3,5,7]*37)\")\n",
    "# Multiply [1,3,5,7] by 37 and project\n",
    "v3 = np.array([1,3,5,7]) * 37\n",
    "result3 = orthogonal_projection([2,6,7,3], v3)\n",
    "\n",
    "# Compute dot product between a_parallel and a_perpendicular (should be near 0)\n",
    "dot_product = np.dot(result3['a_parallel'], result3['a_perpendicular'])\n",
    "print(\"Dot product (should be near 0):\", dot_product)\n",
    "\n",
    "# Sum of parallel and perpendicular components should return the original vector.\n",
    "sum_vector = result3['a_parallel'] + result3['a_perpendicular']\n",
    "print(\"Sum (should equal original vector [2,6,7,3]):\")\n",
    "print(sum_vector)\n",
    "\n",
    "# Compute the \"percentage\" of the projection relative to v3.\n",
    "percentage = result3['a_parallel'] / v3\n",
    "print(\"a_parallel divided by ([1,3,5,7]*37) (percentage of projection):\")\n",
    "print(percentage)\n"
   ]
  },
  {
   "cell_type": "markdown",
   "id": "998085c4-9b18-402e-a8b4-4a91cc882b46",
   "metadata": {},
   "source": [
    "Create a vector y by simulating n = 100 standard iid normals. Create a matrix of size 100 x 2 and populate the first column by all ones (for the intercept) and the second column by 100 standard iid normals. Find the R^2 of an OLS regression of `y ~ X`. Use matrix algebra."
   ]
  },
  {
   "cell_type": "code",
   "execution_count": 5,
   "id": "1f1779d5-c6e5-4670-832a-a47634752b35",
   "metadata": {},
   "outputs": [
    {
     "name": "stdout",
     "output_type": "stream",
     "text": [
      "SSR: 127.24524905012579\n",
      "SST: 127.2926559224331\n",
      "R^2: 0.0003724242531022437\n"
     ]
    }
   ],
   "source": [
    "import numpy as np\n",
    "\n",
    "# Set seed for reproducibility\n",
    "np.random.seed(123)\n",
    "\n",
    "# Simulate data\n",
    "n = 100\n",
    "y = np.random.randn(n, 1)  # y as a column vector (100 x 1)\n",
    "X = np.hstack((np.ones((n, 1)), np.random.randn(n, 1)))  # X as 100 x 2 matrix\n",
    "\n",
    "# Compute OLS coefficients: beta_hat = (X'X)^{-1} X'y\n",
    "beta_hat = np.linalg.inv(X.T @ X) @ X.T @ y\n",
    "\n",
    "# Compute the hat matrix H = X (X'X)^{-1} X'\n",
    "H = X @ np.linalg.inv(X.T @ X) @ X.T\n",
    "\n",
    "# Identity matrix of size n\n",
    "I = np.eye(n)\n",
    "\n",
    "# Compute SSR (Residual Sum of Squares) using matrix algebra: SSR = y' (I - H) y\n",
    "SSR = (y.T @ (I - H) @ y).item() #.item() will grab the value out of the array \n",
    "\n",
    "# Define the centering matrix: M = I - (1/n) * 11'\n",
    "M = I - (1/n) * np.ones((n, n))\n",
    "\n",
    "# Compute SST (Total Sum of Squares) using matrix algebra: SST = y' M y\n",
    "SST = (y.T @ M @ y).item() \n",
    "\n",
    "# Calculate R-squared\n",
    "R2 = 1 - SSR / SST\n",
    "\n",
    "# Print the results\n",
    "print(\"SSR:\", SSR)\n",
    "print(\"SST:\", SST)\n",
    "print(\"R^2:\", R2)"
   ]
  },
  {
   "cell_type": "markdown",
   "id": "59b19394-0558-4670-86e0-2d9295ae1243",
   "metadata": {},
   "source": [
    "Write a for loop to each time bind a new column of 100 standard iid normals to the matrix X and find the R^2 each time until the number of columns is 100. Create a vector to save all R^2's. What happened??"
   ]
  },
  {
   "cell_type": "code",
   "execution_count": 7,
   "id": "736b27a0-df6f-447c-8e78-f3c443e2e3a4",
   "metadata": {},
   "outputs": [
    {
     "name": "stdout",
     "output_type": "stream",
     "text": [
      "R^2 values for models with 1 to 100 columns:\n",
      "[0.0, 0.00037242425310191063, 0.0039534712234703395, 0.015515917195883744, 0.0160129569554901, 0.060483757420479844, 0.0604856345047039, 0.06791713923101828, 0.11552054867820061, 0.11598543147994111, 0.16253199145134212, 0.16324852246361643, 0.1653058735950539, 0.16726405487373375, 0.16959752126125305, 0.1867916546549011, 0.18680390934298907, 0.19280704730131815, 0.19656454956494718, 0.20676806135980885, 0.2067805910051016, 0.21297298468610126, 0.21413227261249568, 0.22344231007274185, 0.2644021621922207, 0.2688518991099367, 0.290450808990139, 0.29132140616382174, 0.2940661523691508, 0.29505341769528637, 0.3224612676383529, 0.34069205476632747, 0.34966372664455914, 0.36519299490256085, 0.36609673260436104, 0.38741665786176294, 0.4030608157085439, 0.40637996512050323, 0.4084185281712275, 0.4086532629450572, 0.4087302243058517, 0.4122560226143147, 0.4199723297044975, 0.45296272233899937, 0.45435748259751674, 0.4583895135974029, 0.4584411626637773, 0.4587105682059598, 0.45982371981347814, 0.4600827673875302, 0.4642155772010269, 0.46568539273667275, 0.4740253125991649, 0.4759792162552864, 0.4767914615445271, 0.478609966753774, 0.48384856587282143, 0.4841312500428515, 0.4861020907809164, 0.48632682326221566, 0.48719767430164596, 0.4872726576033761, 0.48810957144301814, 0.49143361543092023, 0.5026734179392028, 0.5218393708002693, 0.5226854273997588, 0.5306612598397727, 0.5400117729727334, 0.5758618965548252, 0.5794672894601182, 0.5825674203353446, 0.5833897760854554, 0.597785586429479, 0.6020719460622731, 0.6329237023727556, 0.6428928919050505, 0.6792167766016535, 0.6804377097045043, 0.6836940953170598, 0.6877262170318659, 0.6958153024269473, 0.6959141060332985, 0.8269638581828747, 0.8269642644890395, 0.8421062351150496, 0.8511300271839719, 0.8526653897465581, 0.8912768916579414, 0.8935047892458806, 0.9170216179578101, 0.9194927487245198, 0.919861978582901, 0.9290091629043679, 0.9358374484878511, 0.9528344080343919, 0.9694364196414711, 0.9746421719572972, 0.998360377510893, 1.0]\n"
     ]
    }
   ],
   "source": [
    "import numpy as np\n",
    "\n",
    "# Set seed for reproducibility\n",
    "np.random.seed(123)\n",
    "\n",
    "# Simulate data\n",
    "n = 100\n",
    "y = np.random.randn(n)  # response vector (100,)\n",
    "\n",
    "# Start with an intercept-only matrix X (100 x 1)\n",
    "X = np.ones((n, 1))\n",
    "\n",
    "# Pre-allocate a list to save R^2 values (one for each model size)\n",
    "R2_list = []\n",
    "\n",
    "# Loop until the number of columns in X is 100\n",
    "# First iteration: intercept only; then add one new column per iteration.\n",
    "for i in range(100):\n",
    "    # For iterations after the first, bind a new column of iid normals.\n",
    "    if i > 0:\n",
    "        new_column = np.random.randn(n, 1)\n",
    "        X = np.hstack((X, new_column))\n",
    "    \n",
    "    # Compute OLS coefficients using the normal equation: beta_hat = (X'X)^{-1} X'y\n",
    "    beta_hat = np.linalg.inv(X.T @ X) @ (X.T @ y)\n",
    "    \n",
    "    # Compute fitted values\n",
    "    y_hat = X @ beta_hat\n",
    "    \n",
    "    # Compute Total Sum of Squares (SST) and Residual Sum of Squares (SSR)\n",
    "    SST = np.sum((y - np.mean(y))**2)\n",
    "    SSR = np.sum((y - y_hat)**2)\n",
    "    \n",
    "    # Calculate R-squared and store it\n",
    "    R2 = 1 - SSR / SST\n",
    "    R2_list.append(R2)\n",
    "\n",
    "# Print the vector of R^2 values\n",
    "print(\"R^2 values for models with 1 to 100 columns:\")\n",
    "print(R2_list)"
   ]
  },
  {
   "cell_type": "markdown",
   "id": "81287175-3680-42bb-9125-67b175c53424",
   "metadata": {},
   "source": [
    "What happened? As more predictors are added, even if they are just noise, the R2 generally increases, relfecting that the model is overfitting the data.\n",
    "\n",
    "We are adding more linearly independant cols, so the dimention we are projecting on is increading, and Rsq is increasing in tandome. One the rank[x] = nrow[x] we are projecting y into its own saapce, so Rsq is 1."
   ]
  },
  {
   "cell_type": "markdown",
   "id": "1e99824f-7049-4057-bfa8-5659a13e3aa4",
   "metadata": {},
   "source": [
    "Test that the projection matrix onto this X is the same as I_n."
   ]
  },
  {
   "cell_type": "code",
   "execution_count": 9,
   "id": "50f24d3f-c93d-4104-937d-e4ec12a072e0",
   "metadata": {},
   "outputs": [
    {
     "name": "stdout",
     "output_type": "stream",
     "text": [
      "Projection matrix P equals the identity matrix I_n.\n"
     ]
    }
   ],
   "source": [
    "# Compute the projection matrix: P = X (X'X)^{-1} X'\n",
    "P = X @ np.linalg.inv(X.T @ X) @ X.T\n",
    "\n",
    "# Define the 100 x 100 identity matrix\n",
    "I_n = np.eye(n)\n",
    "\n",
    "# Test that the projection matrix P equals the identity matrix.\n",
    "if np.allclose(P, I_n, rtol = 1e-10):\n",
    "    print(\"Projection matrix P equals the identity matrix I_n.\")\n",
    "else:\n",
    "    print(\"Projection matrix P does NOT equal the identity matrix I_n.\")\n",
    "\n",
    "# Alternatively, use an assertion to ensure they are equal\n",
    "assert np.allclose(P, I_n, rtol = 1e-10), \"Projection matrix does not equal identity matrix!\""
   ]
  },
  {
   "cell_type": "markdown",
   "id": "0877001c-87e9-46f6-ae2f-29a265b9ba43",
   "metadata": {},
   "source": [
    "Add one final column to X to bring the number of columns to 101. Then try to compute R^2. What happens? "
   ]
  },
  {
   "cell_type": "code",
   "execution_count": 11,
   "id": "eb942568-2bf2-4960-99dc-37a2c39d5a97",
   "metadata": {},
   "outputs": [
    {
     "name": "stdout",
     "output_type": "stream",
     "text": [
      "R^2: 0.329982598006896\n"
     ]
    }
   ],
   "source": [
    "# Now add one final column to bring the number of columns to 101.\n",
    "extra_col = np.random.randn(n, 1)\n",
    "X_new = np.hstack((X, extra_col))  # X_new is 100 x 101\n",
    "\n",
    "# Try to compute OLS coefficients; catch the error if X.T @ X is singular.\n",
    "try:\n",
    "    beta_hat = np.linalg.inv(X_new.T @ X_new) @ (X_new.T @ y)\n",
    "    y_hat = X_new @ beta_hat\n",
    "    SST = np.sum((y - np.mean(y))**2)\n",
    "    SSR = np.sum((y - y_hat)**2)\n",
    "    R2 = 1 - SSR / SST\n",
    "    print(\"R^2:\", R2)\n",
    "except np.linalg.LinAlgError as e:\n",
    "    print(\"Error in computing beta_hat:\", e)\n",
    "    print(\"Could not compute R^2 because X'X is singular.\")"
   ]
  },
  {
   "cell_type": "markdown",
   "id": "f2564094-7ac8-4061-adea-fbdaa1a79a82",
   "metadata": {},
   "source": [
    "Why does this make sense?"
   ]
  },
  {
   "cell_type": "markdown",
   "id": "cc6b14cc-d0b1-4d19-9633-1cdff50bf579",
   "metadata": {},
   "source": [
    "linearly dependant col"
   ]
  },
  {
   "cell_type": "markdown",
   "id": "c73d693a-5e8d-4efd-8dd7-ee5b840584b9",
   "metadata": {},
   "source": [
    "Let's use the Boston Housing Data for the following exercises"
   ]
  },
  {
   "cell_type": "code",
   "execution_count": 13,
   "id": "0f9e3875-f26e-4e36-addb-dc79442a6fb2",
   "metadata": {},
   "outputs": [
    {
     "name": "stdout",
     "output_type": "stream",
     "text": [
      "Number of predictors (including intercept): 14\n",
      "Number of observations: 506\n"
     ]
    }
   ],
   "source": [
    "import pandas as pd\n",
    "import numpy as np\n",
    "import statsmodels.api as sm\n",
    "\n",
    "# Load the Boston housing data from the provided URL\n",
    "data_url = \"http://lib.stat.cmu.edu/datasets/boston\"\n",
    "raw_df = pd.read_csv(data_url, sep=r\"\\s+\", skiprows=22, header=None)\n",
    "\n",
    "# The dataset from this URL is arranged so that every two rows correspond to one observation:\n",
    "# - The first row of each pair contains the 13 predictors.\n",
    "# - The second row contains (among other entries) the response (medv) in the third column.\n",
    "# Also, the first two columns of the second row are duplicates of the last two predictors.\n",
    "#\n",
    "# To mimic R’s model.matrix(medv ~ ., MASS::Boston), we construct the predictors by:\n",
    "# 1. Taking all 13 predictors from the first row of each pair.\n",
    "# 2. Appending the first two entries from the second row (which complete the predictors).\n",
    "#\n",
    "# This creates a full set of predictors for each observation.\n",
    "X_data = np.hstack([raw_df.values[::2, :], raw_df.values[1::2, :2]])\n",
    "\n",
    "# The response y is stored in the third column of the second row of each pair.\n",
    "y = raw_df.values[1::2, 2]\n",
    "\n",
    "# Add an intercept column (like R's model.matrix does automatically)\n",
    "X = sm.add_constant(X_data)\n",
    "\n",
    "# p_plus_one is the number of columns in X (predictors plus intercept)\n",
    "p_plus_one = X.shape[1]\n",
    "# n is the number of observations (rows in X)\n",
    "n = X.shape[0]\n",
    "\n",
    "print(\"Number of predictors (including intercept):\", p_plus_one)\n",
    "print(\"Number of observations:\", n)\n"
   ]
  },
  {
   "cell_type": "markdown",
   "id": "6f7c1a4b-da46-4b6d-a118-6d555303ef15",
   "metadata": {},
   "source": [
    "Using your function `orthogonal_projection` orthogonally project onto the column space of X by projecting y on each vector of X individually and adding up the projections and call the sum `yhat_naive`."
   ]
  },
  {
   "cell_type": "code",
   "execution_count": 15,
   "id": "d6877ea9-b7b7-45a0-a7aa-e3eea9911088",
   "metadata": {},
   "outputs": [],
   "source": [
    "# Initialize yhat_naive as a zero vector (same shape as y)\n",
    "yhat_naive = np.zeros_like(y, dtype = float)\n",
    "\n",
    "# For each column in X, project y onto that column and add the projection.\n",
    "for j in range(p_plus_one):\n",
    "    # Note: X[:, j] is a 1D array of length n.\n",
    "    proj = orthogonal_projection(y, X[:, j])\n",
    "    yhat_naive += proj['a_parallel']"
   ]
  },
  {
   "cell_type": "markdown",
   "id": "0f46e13e-3846-4cae-904e-05db448815fb",
   "metadata": {},
   "source": [
    "How much double counting occurred? Measure the magnitude relative to the true LS orthogonal projection"
   ]
  },
  {
   "cell_type": "code",
   "execution_count": 17,
   "id": "4b81a208-d76e-4b52-9df6-d828148b6f26",
   "metadata": {},
   "outputs": [
    {
     "name": "stdout",
     "output_type": "stream",
     "text": [
      "Magnitude ratio (sqrt(sum(yhat_naive^2))/sqrt(sum(yhat^2))): 8.997117717661743\n"
     ]
    }
   ],
   "source": [
    "import statsmodels.api as sm\n",
    "\n",
    "# Fit the OLS model using statsmodels\n",
    "model = sm.OLS(y, X).fit()\n",
    "\n",
    "# Extract the fitted values (equivalent to lm(medv ~ ., MASS::Boston)$fitted.values in R)\n",
    "yhat = model.fittedvalues\n",
    "mag_ratio = np.sqrt(np.sum(yhat_naive**2)) / np.sqrt(np.sum(yhat**2))\n",
    "print(\"Magnitude ratio (sqrt(sum(yhat_naive^2))/sqrt(sum(yhat^2))):\", mag_ratio)"
   ]
  },
  {
   "cell_type": "markdown",
   "id": "db340f11-194f-4236-9eb4-b02385a62027",
   "metadata": {},
   "source": [
    "Is this ratio expected? Why or why not?\n",
    "\n",
    "It is expected becasue the cols of X are not orthognial. "
   ]
  },
  {
   "cell_type": "markdown",
   "id": "bf111525-6ff3-4f23-a2b0-ee48e8fdba59",
   "metadata": {},
   "source": [
    "In summary, the ratio is expected to deviate from 1 because the sum of individual (non-orthogonal) projections overestimates the overall projection onto the column space, leading to a larger magnitude for the naive projection compared to the true LS projection."
   ]
  },
  {
   "cell_type": "markdown",
   "id": "3c61bf97-44ee-41ac-a3bb-ccbebb3c3dd5",
   "metadata": {},
   "source": [
    "Convert X into V where V has the same column space as X but has orthogonal columns. You can use the function `orthogonal_projection`. This is the Gram-Schmidt orthogonalization algorithm (part A)."
   ]
  },
  {
   "cell_type": "code",
   "execution_count": 19,
   "id": "e7c953a6-710b-4565-83b2-08c651f92490",
   "metadata": {},
   "outputs": [],
   "source": [
    "# Initialize V to hold the orthogonalized columns; same shape as X.\n",
    "V = np.empty_like(X)\n",
    "\n",
    "# The first column of V is just the first column of X.\n",
    "V[:, 0] = X[:, 0]\n",
    "\n",
    "# For each subsequent column of X, subtract the projections onto all previous V columns.\n",
    "for j in range(1, X.shape[1]):\n",
    "    # Start with the original column from X.\n",
    "    V[:, j] = X[:, j].copy()\n",
    "    for k in range(j):\n",
    "        proj = orthogonal_projection(X[:, j], V[:, k])['a_parallel']\n",
    "        V[:, j] = V[:, j] - proj\n"
   ]
  },
  {
   "cell_type": "markdown",
   "id": "f26ba41e-ec46-4966-9ae2-30b95dcd322b",
   "metadata": {},
   "source": [
    "Convert V into Q whose columns are the same except normalized. This is the Gram-Schmidt orthogonalization algorithm (part B)."
   ]
  },
  {
   "cell_type": "code",
   "execution_count": 21,
   "id": "9f9bbc2e-bacb-4106-856a-74013615c745",
   "metadata": {},
   "outputs": [],
   "source": [
    "# Assume V is already defined with shape (n, p_plus_one)\n",
    "Q = np.empty_like(V)\n",
    "for j in range(V.shape[1]):\n",
    "    Q[:, j] = V[:, j] / np.sqrt(np.sum(V[:, j]**2))\n",
    "\n",
    "# Optionally, remove V if you no longer need it.\n",
    "del V"
   ]
  },
  {
   "cell_type": "markdown",
   "id": "c587a626-aae5-4295-81a4-c014d55a0441",
   "metadata": {},
   "source": [
    "Verify Q^T Q is I_{p+1} i.e. Q is an orthonormal matrix."
   ]
  },
  {
   "cell_type": "code",
   "execution_count": 25,
   "id": "5c70bb05-8afa-4f6d-9e6e-6c365a113ad7",
   "metadata": {},
   "outputs": [
    {
     "name": "stdout",
     "output_type": "stream",
     "text": [
      "Q^T Q equals the identity matrix, Q is orthonormal.\n"
     ]
    }
   ],
   "source": [
    "# Verify that Q^T Q is the identity matrix of size p_plus_one\n",
    "p_plus_one = Q.shape[1]\n",
    "\n",
    "assert np.allclose(Q.T @ Q, np.eye(p_plus_one), rtol = 1e-7)\n",
    "\n",
    "print(\"Q^T Q equals the identity matrix, Q is orthonormal.\")"
   ]
  },
  {
   "cell_type": "markdown",
   "id": "ad012fab-f233-4a7d-b8b4-c7d5030b1f97",
   "metadata": {},
   "source": [
    "Is your Q the same as what results from R's built-in QR-decomposition function?"
   ]
  },
  {
   "cell_type": "code",
   "execution_count": 27,
   "id": "26df14a5-db7d-4baf-bf3f-ac11a70521fc",
   "metadata": {},
   "outputs": [
    {
     "name": "stdout",
     "output_type": "stream",
     "text": [
      "Q matches the built-in QR decomposition Q (up to sign differences).\n"
     ]
    }
   ],
   "source": [
    "# Compute the Q matrix using NumPy's QR decomposition.\n",
    "# np.linalg.qr returns (Q, R)\n",
    "Q_from_builtin, x = np.linalg.qr(X)\n",
    "\n",
    "# Because QR decomposition can produce Q whose columns differ by a sign,\n",
    "# we compare the absolute values of Q and Q_from_builtin.\n",
    "if np.allclose(np.abs(Q_from_builtin), np.abs(Q)) :\n",
    "    print(\"Q matches the built-in QR decomposition Q (up to sign differences).\")\n",
    "else:\n",
    "    print(\"Q does not match the built-in QR decomposition Q.\")"
   ]
  },
  {
   "cell_type": "code",
   "execution_count": 29,
   "id": "c2b6ee10-d06e-4f31-9f16-af11a9775dee",
   "metadata": {},
   "outputs": [
    {
     "name": "stdout",
     "output_type": "stream",
     "text": [
      "Q does not match the built-in QR decomposition Q.\n"
     ]
    }
   ],
   "source": [
    "if np.allclose(Q_from_builtin, Q) :\n",
    "    print(\"Q matches the built-in QR decomposition Q (up to sign differences).\")\n",
    "else:\n",
    "    print(\"Q does not match the built-in QR decomposition Q.\")"
   ]
  },
  {
   "cell_type": "markdown",
   "id": "190ac792-5397-437d-9282-6516ae05e7e2",
   "metadata": {},
   "source": [
    "Is this expected? Why did this happen?\n",
    "\n",
    "There are multiple orthono-normal matrices that have the same col space as X. The one we found hapens to be diferent than the one the algorithm found."
   ]
  },
  {
   "cell_type": "markdown",
   "id": "d5ee2c88-f5dc-4c7d-8241-eb9f2295c407",
   "metadata": {},
   "source": [
    "Yes this is expected because there are an infinite number of orthonormal basis of any column space and the likelihood of them being equal is highly unlikely.  \n",
    "There are many different orthonormal basis of any column space. "
   ]
  },
  {
   "cell_type": "markdown",
   "id": "91635448-669c-4f1a-ab75-4fe76c5f339a",
   "metadata": {},
   "source": [
    "Project y onto colsp[Q] and verify it is the same as the OLS fit."
   ]
  },
  {
   "cell_type": "code",
   "execution_count": 31,
   "id": "8a6ddf2c-c1bb-4c6a-8023-e2e7666ad9cf",
   "metadata": {},
   "outputs": [
    {
     "name": "stdout",
     "output_type": "stream",
     "text": [
      "The projection of y onto colsp[Q] equals the OLS fit.\n",
      "Difference: [-6.03961325e-14  9.59232693e-14 -2.48689958e-14  6.75015599e-14\n",
      "  2.13162821e-14  1.84741111e-13  7.10542736e-14  4.97379915e-14\n",
      "  5.32907052e-14  9.59232693e-14 -3.55271368e-15  1.10134124e-13\n",
      " -1.06581410e-14  1.56319402e-13  1.77635684e-13  1.66977543e-13\n",
      "  1.06581410e-13  1.31450406e-13  1.59872116e-13  1.77635684e-13\n",
      "  1.81188398e-13  1.56319402e-13  7.46069873e-14  1.50990331e-13\n",
      "  1.65201186e-13  2.07833750e-13  1.86517468e-13  1.27897692e-13\n",
      "  9.23705556e-14  3.19744231e-14  1.42108547e-13  1.84741111e-13\n",
      "  1.95399252e-14  1.75859327e-13  1.08357767e-13  1.74082970e-13\n",
      "  1.66977543e-13  1.49213975e-13  7.10542736e-14  1.13686838e-13\n",
      "  4.97379915e-14 -5.68434189e-14  6.03961325e-14  2.48689958e-14\n",
      "  1.27897692e-13  1.59872116e-13  9.23705556e-14  1.38555833e-13\n",
      "  1.61648472e-13  2.06057393e-13  1.52766688e-13  2.23820962e-13\n",
      "  7.46069873e-14  1.38555833e-13 -2.07833750e-13  1.66977543e-13\n",
      "  5.68434189e-14  2.06057393e-13  2.45137244e-13  2.87769808e-13\n",
      "  3.44613227e-13  3.55271368e-13  2.80664381e-13  1.31450406e-13\n",
      "  9.94759830e-14 -1.42108547e-14  5.32907052e-14 -6.39488462e-14\n",
      " -1.06581410e-14 -4.97379915e-14 -1.35003120e-13 -3.19744231e-14\n",
      " -4.26325641e-14 -9.94759830e-14 -2.94875235e-13 -2.06057393e-13\n",
      " -1.70530257e-13 -1.98951966e-13 -1.98951966e-13 -1.52766688e-13\n",
      " -3.55271368e-15  1.03028697e-13  6.39488462e-14  1.20792265e-13\n",
      "  4.61852778e-14  5.32907052e-14  6.03961325e-14  1.03028697e-13\n",
      " -4.61852778e-14 -1.10134124e-13 -1.06581410e-14  2.13162821e-14\n",
      "  9.23705556e-14  1.10134124e-13  1.77635684e-13 -6.75015599e-14\n",
      "  3.55271368e-15 -2.84217094e-13 -3.19744231e-13 -2.06057393e-13\n",
      " -1.45661261e-13 -1.49213975e-13 -3.90798505e-14 -4.61852778e-14\n",
      " -4.61852778e-14 -7.10542736e-15 -3.19744231e-14 -6.75015599e-14\n",
      " -8.52651283e-14 -8.52651283e-14 -1.45661261e-13 -2.59348099e-13\n",
      " -1.45661261e-13 -1.81188398e-13 -1.74082970e-13 -1.42108547e-13\n",
      " -1.88293825e-13 -1.13686838e-13 -1.66977543e-13 -1.45661261e-13\n",
      "  3.48165941e-13  3.55271368e-13  3.51718654e-13  2.98427949e-13\n",
      "  3.69482223e-13  3.65929509e-13  3.30402372e-13 -4.61852778e-14\n",
      " -1.77635684e-13 -4.97379915e-14 -1.45661261e-13 -1.17239551e-13\n",
      " -1.03028697e-13 -4.79616347e-14 -3.73034936e-14 -1.52766688e-13\n",
      " -9.94759830e-14 -1.63424829e-13 -1.27897692e-13 -1.56319402e-13\n",
      " -2.30926389e-13 -1.04360964e-13  0.00000000e+00  1.95399252e-14\n",
      "  8.70414851e-14 -1.06581410e-13  1.20792265e-13  7.28306304e-14\n",
      "  3.90798505e-14  4.79616347e-14  1.42108547e-14  1.63424829e-13\n",
      "  2.09610107e-13  1.06581410e-13 -1.77635684e-14 -3.55271368e-15\n",
      "  1.90070182e-13 -1.70530257e-13 -1.06581410e-14  2.48689958e-14\n",
      " -7.81597009e-14 -2.55795385e-13 -3.26849658e-13 -4.61852778e-13\n",
      " -3.55271368e-14 -5.32907052e-14 -3.62376795e-13 -5.68434189e-14\n",
      " -1.06581410e-13 -1.31450406e-13 -4.26325641e-14 -3.19744231e-14\n",
      "  1.52766688e-13  4.61852778e-14  1.03028697e-13 -6.39488462e-14\n",
      "  3.19744231e-14  7.81597009e-14 -3.19744231e-14  9.94759830e-14\n",
      " -1.42108547e-14  2.20268248e-13  1.49213975e-13  2.62900812e-13\n",
      "  3.44613227e-13  1.95399252e-13 -7.10542736e-14 -2.91322522e-13\n",
      " -2.41584530e-13 -3.41060513e-13 -3.19744231e-13 -2.62900812e-13\n",
      " -3.33955086e-13 -1.27897692e-13 -4.97379915e-14 -1.27897692e-13\n",
      " -2.48689958e-13 -2.48689958e-13 -2.62900812e-13 -2.77111667e-13\n",
      " -3.16191517e-13 -6.03961325e-14 -3.76587650e-13 -1.42108547e-14\n",
      " -7.10542736e-14  4.61852778e-14  3.55271368e-14  1.27897692e-13\n",
      "  4.26325641e-14  2.02504680e-13  1.20792265e-13  1.42108547e-13\n",
      "  6.39488462e-14 -3.55271368e-15 -9.23705556e-14  4.97379915e-14\n",
      "  9.94759830e-14  1.06581410e-13  1.35003120e-13  1.38555833e-13\n",
      " -7.10542736e-15  2.84217094e-14 -1.42108547e-14  7.81597009e-14\n",
      " -1.98951966e-13 -2.77111667e-13 -1.13686838e-13  0.00000000e+00\n",
      " -2.41584530e-13 -3.55271368e-15  1.52766688e-13 -2.84217094e-14\n",
      " -1.98951966e-13 -1.98951966e-13  1.42108547e-14  1.10134124e-13\n",
      "  4.61852778e-14 -4.97379915e-14 -7.10542736e-15  1.77635684e-14\n",
      " -6.03961325e-14  1.20792265e-13  6.75015599e-14  1.42108547e-14\n",
      "  2.66453526e-13  1.86517468e-13  8.88178420e-14  1.77635684e-13\n",
      "  6.75015599e-14 -4.26325641e-14 -3.55271368e-15  1.77635684e-14\n",
      " -7.46069873e-14 -3.19744231e-13  5.32907052e-14  3.90798505e-14\n",
      "  7.10542736e-15 -2.48689958e-13  2.13162821e-14  1.27897692e-13\n",
      " -1.42108547e-14 -3.55271368e-14 -1.84741111e-13 -7.10542736e-15\n",
      "  3.55271368e-14  2.52242671e-13 -2.13162821e-14 -2.70006240e-13\n",
      " -9.23705556e-14  1.84741111e-13  1.84741111e-13  1.17239551e-13\n",
      "  1.45661261e-13 -9.23705556e-14  3.55271368e-14  7.81597009e-14\n",
      " -2.84217094e-14  1.42108547e-14  8.88178420e-14  5.68434189e-14\n",
      " -2.84217094e-14  7.10542736e-14 -4.26325641e-14 -1.27897692e-13\n",
      " -1.56319402e-13 -1.13686838e-13  1.56319402e-13  1.38555833e-13\n",
      "  1.59872116e-13  1.77635684e-14  1.49213975e-13  9.23705556e-14\n",
      "  1.70530257e-13 -5.68434189e-14  1.06581410e-14 -9.59232693e-14\n",
      " -3.19744231e-14  4.61852778e-14 -8.88178420e-14 -2.34479103e-13\n",
      " -1.20792265e-13 -6.03961325e-14 -9.23705556e-14 -1.42108547e-13\n",
      "  9.94759830e-14  2.30926389e-13  1.49213975e-13  2.41584530e-13\n",
      "  7.46069873e-14  1.24344979e-13  1.98951966e-13  6.75015599e-14\n",
      "  1.31450406e-13  1.03028697e-13  5.68434189e-14  1.84741111e-13\n",
      "  7.81597009e-14  1.10134124e-13  2.84217094e-14  4.61852778e-14\n",
      "  8.17124146e-14  8.88178420e-14  1.45661261e-13  2.45137244e-13\n",
      "  7.10542736e-14  2.48689958e-14  6.75015599e-14  8.17124146e-14\n",
      " -3.19744231e-13 -3.97903932e-13 -3.19744231e-13 -3.55271368e-14\n",
      " -4.61852778e-14  2.73558953e-13  2.62900812e-13  2.80664381e-13\n",
      "  3.19744231e-13  3.44613227e-13  2.66453526e-13  2.87769808e-13\n",
      "  3.19744231e-13 -1.66977543e-13 -4.01456646e-13 -7.81597009e-14\n",
      " -1.24344979e-13 -7.81597009e-14 -6.57252031e-14  0.00000000e+00\n",
      "  1.13686838e-13 -1.66977543e-13 -6.03961325e-14 -1.31450406e-13\n",
      " -7.81597009e-14  4.58300065e-13  2.52242671e-13  2.23820962e-13\n",
      " -6.03961325e-14 -8.52651283e-14 -2.84217094e-14 -2.13162821e-14\n",
      " -2.13162821e-14 -3.55271368e-14  1.81188398e-13  1.06581410e-14\n",
      " -5.04485342e-13  4.99156272e-13  1.81188398e-13  4.35207426e-13\n",
      "  2.41584530e-13 -1.06581410e-13 -1.63424829e-13 -4.26325641e-14\n",
      "  1.42108547e-14 -3.37507799e-14  1.03028697e-13 -2.41584530e-13\n",
      " -2.41584530e-13 -2.59348099e-13 -1.70530257e-13 -1.27897692e-13\n",
      " -1.95399252e-14 -1.77635684e-13 -2.30926389e-14 -2.84217094e-14\n",
      "  1.55875313e-13 -2.30926389e-14  1.44773082e-13  2.13162821e-14\n",
      "  5.50670620e-14  4.08562073e-14  1.06581410e-14 -1.10134124e-13\n",
      "  5.68434189e-14 -7.81597009e-14 -1.06581410e-14 -1.24344979e-13\n",
      " -1.52766688e-13 -2.84217094e-14  1.42108547e-14 -1.91846539e-13\n",
      " -9.23705556e-14 -1.24344979e-13 -1.49213975e-13  9.59232693e-14\n",
      "  2.22044605e-14  1.50990331e-13  2.62900812e-13  8.88178420e-14\n",
      " -1.17239551e-13 -2.52242671e-13  2.04281037e-13 -1.91846539e-13\n",
      "  6.23945340e-14  1.29674049e-13  1.82964754e-13 -1.79412041e-13\n",
      " -2.59348099e-13  4.26325641e-14  1.86517468e-13 -2.52242671e-13\n",
      " -7.10542736e-14 -2.48689958e-14  1.77635684e-14 -1.49213975e-13\n",
      " -3.19744231e-14 -3.90798505e-14 -9.59232693e-14  3.19744231e-14\n",
      " -1.52766688e-13 -1.63424829e-13 -1.66977543e-13 -2.45137244e-13\n",
      " -1.56319402e-13 -9.59232693e-14 -3.55271368e-15 -1.61648472e-13\n",
      " -6.92779167e-14 -7.81597009e-14 -1.55431223e-13 -1.59872116e-14\n",
      " -1.06581410e-14 -1.20792265e-13 -5.68434189e-14 -1.20792265e-13\n",
      " -3.19744231e-14 -1.38555833e-13 -8.52651283e-14 -4.97379915e-14\n",
      " -7.81597009e-14 -1.27897692e-13 -1.49213975e-13 -1.56319402e-13\n",
      " -1.03028697e-13 -2.84217094e-13 -1.38555833e-13 -1.31450406e-13\n",
      " -3.37507799e-14  5.32907052e-15 -9.59232693e-14 -5.68434189e-14\n",
      " -1.66977543e-13 -1.10134124e-13 -9.94759830e-14 -7.46069873e-14\n",
      " -1.27897692e-13 -9.94759830e-14 -3.90798505e-14 -1.38555833e-13\n",
      " -1.20792265e-13 -9.94759830e-14 -1.49213975e-13 -1.24344979e-13\n",
      " -2.09610107e-13 -2.91322522e-13  7.10542736e-15 -1.98951966e-13\n",
      " -2.13162821e-13 -5.32907052e-15 -1.17239551e-13 -8.88178420e-14\n",
      " -1.70530257e-13 -2.06057393e-13 -2.70006240e-13 -1.38555833e-13\n",
      " -1.52766688e-13 -1.91846539e-13 -1.24344979e-13 -1.31450406e-13\n",
      " -6.43041176e-13 -6.83897383e-13 -6.93223257e-13 -7.46069873e-13\n",
      " -7.38964445e-13 -3.55271368e-14 -1.20792265e-13 -1.38555833e-13\n",
      " -3.55271368e-15 -1.42108547e-14 -7.81597009e-14  3.55271368e-15\n",
      " -4.61852778e-14  1.06581410e-14  1.45661261e-13  4.97379915e-14\n",
      "  7.81597009e-14  1.77635684e-13]\n"
     ]
    }
   ],
   "source": [
    "# Assume y, X, and Q are already defined.\n",
    "# Compute the OLS fitted values using statsmodels (similar to lm(y ~ X) in R)\n",
    "model = sm.OLS(y, X).fit()\n",
    "y_hat = model.fittedvalues\n",
    "# Project y onto the column space of Q: compute Q @ Q.T @ y\n",
    "y_hat_from_Q = Q @ Q.T @ y\n",
    "\n",
    "# Compare the two. Since the values may have slight numerical differences, use np.allclose.\n",
    "if np.allclose(y_hat, y_hat_from_Q):\n",
    "    print(\"The projection of y onto colsp[Q] equals the OLS fit.\")\n",
    "else:\n",
    "    print(\"There is a discrepancy between the projection and the OLS fit.\")\n",
    "\n",
    "# Optionally, you can print the difference:\n",
    "print(\"Difference:\", y_hat - y_hat_from_Q)"
   ]
  },
  {
   "cell_type": "markdown",
   "id": "b33be031-6ec3-4d45-b74c-baf3269d0997",
   "metadata": {},
   "source": [
    "Project y onto colsp[Q] one by one and verify it sums to be the projection onto the whole space."
   ]
  },
  {
   "cell_type": "code",
   "execution_count": 33,
   "id": "17ec740d-6bd8-4155-ad3d-203a277984ba",
   "metadata": {},
   "outputs": [
    {
     "name": "stdout",
     "output_type": "stream",
     "text": [
      "The naive projection equals the full projection.\n",
      "Difference: [1.06581410e-14 1.42108547e-14 2.13162821e-14 1.42108547e-14\n",
      " 1.42108547e-14 1.06581410e-14 2.48689958e-14 2.13162821e-14\n",
      " 1.59872116e-14 1.77635684e-14 1.42108547e-14 1.06581410e-14\n",
      " 2.48689958e-14 1.77635684e-14 1.77635684e-14 2.13162821e-14\n",
      " 1.77635684e-14 1.77635684e-14 1.42108547e-14 1.77635684e-14\n",
      " 2.30926389e-14 1.06581410e-14 1.06581410e-14 1.06581410e-14\n",
      " 8.88178420e-15 1.42108547e-14 7.10542736e-15 1.95399252e-14\n",
      " 1.77635684e-14 0.00000000e+00 1.42108547e-14 1.77635684e-14\n",
      " 1.59872116e-14 1.59872116e-14 1.95399252e-14 1.06581410e-14\n",
      " 1.06581410e-14 1.42108547e-14 1.42108547e-14 1.06581410e-14\n",
      " 2.84217094e-14 1.42108547e-14 2.13162821e-14 7.10542736e-15\n",
      " 1.77635684e-14 3.55271368e-15 1.06581410e-14 1.42108547e-14\n",
      " 5.32907052e-15 2.48689958e-14 1.06581410e-14 1.42108547e-14\n",
      " 1.77635684e-14 1.42108547e-14 1.77635684e-14 1.77635684e-14\n",
      " 1.77635684e-14 1.42108547e-14 2.48689958e-14 1.77635684e-14\n",
      " 2.13162821e-14 1.77635684e-14 1.42108547e-14 1.42108547e-14\n",
      " 1.42108547e-14 7.10542736e-15 2.48689958e-14 1.06581410e-14\n",
      " 1.06581410e-14 1.06581410e-14 3.55271368e-15 1.42108547e-14\n",
      " 1.06581410e-14 1.42108547e-14 1.77635684e-14 1.77635684e-14\n",
      " 1.42108547e-14 1.77635684e-14 1.42108547e-14 1.77635684e-14\n",
      " 1.77635684e-14 2.13162821e-14 1.42108547e-14 1.06581410e-14\n",
      " 2.13162821e-14 2.13162821e-14 1.42108547e-14 2.48689958e-14\n",
      " 7.10542736e-15 1.77635684e-14 3.55271368e-14 2.48689958e-14\n",
      " 7.10542736e-15 2.13162821e-14 2.13162821e-14 1.42108547e-14\n",
      " 2.48689958e-14 7.10542736e-15 2.84217094e-14 2.13162821e-14\n",
      " 2.13162821e-14 1.42108547e-14 1.42108547e-14 1.42108547e-14\n",
      " 2.13162821e-14 2.13162821e-14 2.48689958e-14 2.48689958e-14\n",
      " 1.77635684e-14 1.77635684e-14 1.77635684e-14 1.77635684e-14\n",
      " 1.42108547e-14 1.77635684e-14 2.13162821e-14 1.77635684e-14\n",
      " 2.13162821e-14 2.13162821e-14 1.42108547e-14 7.10542736e-15\n",
      " 2.48689958e-14 1.42108547e-14 1.77635684e-14 2.13162821e-14\n",
      " 2.13162821e-14 2.48689958e-14 2.30926389e-14 2.30926389e-14\n",
      " 1.06581410e-14 1.59872116e-14 1.77635684e-14 1.06581410e-14\n",
      " 2.13162821e-14 1.24344979e-14 1.95399252e-14 1.77635684e-14\n",
      " 1.77635684e-14 1.77635684e-14 1.77635684e-14 1.06581410e-14\n",
      " 1.95399252e-14 1.24344979e-14 1.24344979e-14 1.42108547e-14\n",
      " 1.77635684e-14 2.13162821e-14 1.59872116e-14 1.06581410e-14\n",
      " 1.59872116e-14 1.77635684e-14 1.42108547e-14 1.77635684e-14\n",
      " 2.48689958e-14 1.77635684e-14 1.77635684e-14 2.13162821e-14\n",
      " 1.42108547e-14 1.42108547e-14 2.13162821e-14 1.77635684e-14\n",
      " 2.13162821e-14 1.42108547e-14 1.42108547e-14 2.84217094e-14\n",
      " 2.13162821e-14 1.77635684e-14 0.00000000e+00 2.48689958e-14\n",
      " 1.77635684e-14 1.77635684e-14 1.77635684e-14 2.13162821e-14\n",
      " 1.42108547e-14 1.77635684e-14 2.48689958e-14 2.13162821e-14\n",
      " 1.77635684e-14 2.48689958e-14 2.48689958e-14 2.13162821e-14\n",
      " 2.13162821e-14 7.10542736e-15 1.42108547e-14 1.77635684e-14\n",
      " 1.77635684e-14 1.77635684e-14 1.42108547e-14 2.13162821e-14\n",
      " 2.84217094e-14 3.55271368e-14 1.77635684e-14 1.77635684e-14\n",
      " 2.13162821e-14 1.42108547e-14 2.48689958e-14 0.00000000e+00\n",
      " 1.42108547e-14 7.10542736e-15 1.42108547e-14 2.13162821e-14\n",
      " 1.06581410e-14 2.13162821e-14 7.10542736e-15 1.42108547e-14\n",
      " 7.10542736e-15 2.13162821e-14 1.77635684e-14 1.42108547e-14\n",
      " 2.13162821e-14 2.48689958e-14 2.84217094e-14 1.77635684e-14\n",
      " 1.06581410e-14 1.77635684e-14 2.13162821e-14 2.48689958e-14\n",
      " 1.42108547e-14 1.42108547e-14 1.77635684e-14 1.77635684e-14\n",
      " 2.84217094e-14 1.77635684e-14 7.10542736e-15 7.10542736e-15\n",
      " 1.42108547e-14 2.84217094e-14 2.84217094e-14 1.42108547e-14\n",
      " 7.10542736e-15 1.77635684e-14 1.77635684e-14 7.10542736e-15\n",
      " 1.42108547e-14 7.10542736e-15 1.06581410e-14 1.77635684e-14\n",
      " 1.77635684e-14 0.00000000e+00 1.77635684e-14 1.42108547e-14\n",
      " 1.77635684e-14 2.13162821e-14 1.42108547e-14 2.48689958e-14\n",
      " 1.77635684e-14 1.24344979e-14 1.77635684e-14 1.42108547e-14\n",
      " 1.77635684e-14 2.13162821e-14 2.48689958e-14 2.13162821e-14\n",
      " 1.77635684e-14 1.42108547e-14 2.13162821e-14 2.13162821e-14\n",
      " 2.13162821e-14 4.26325641e-14 1.42108547e-14 1.42108547e-14\n",
      " 1.42108547e-14 2.13162821e-14 7.10542736e-15 2.13162821e-14\n",
      " 2.84217094e-14 1.42108547e-14 7.10542736e-15 2.13162821e-14\n",
      " 1.42108547e-14 2.13162821e-14 2.13162821e-14 1.77635684e-14\n",
      " 1.77635684e-14 2.13162821e-14 2.84217094e-14 7.10542736e-15\n",
      " 1.42108547e-14 2.13162821e-14 2.13162821e-14 1.42108547e-14\n",
      " 2.84217094e-14 2.84217094e-14 2.84217094e-14 7.10542736e-15\n",
      " 7.10542736e-15 2.13162821e-14 1.42108547e-14 2.48689958e-14\n",
      " 2.48689958e-14 1.06581410e-14 1.42108547e-14 2.84217094e-14\n",
      " 3.19744231e-14 1.42108547e-14 1.42108547e-14 1.06581410e-14\n",
      " 2.13162821e-14 7.10542736e-15 3.55271368e-15 3.55271368e-15\n",
      " 1.42108547e-14 2.48689958e-14 1.77635684e-14 1.42108547e-14\n",
      " 7.10542736e-15 1.77635684e-14 2.84217094e-14 1.42108547e-14\n",
      " 1.77635684e-14 1.42108547e-14 2.13162821e-14 1.42108547e-14\n",
      " 2.13162821e-14 1.06581410e-14 2.13162821e-14 1.77635684e-14\n",
      " 2.13162821e-14 1.06581410e-14 1.77635684e-14 1.77635684e-14\n",
      " 2.48689958e-14 1.06581410e-14 2.48689958e-14 2.48689958e-14\n",
      " 1.77635684e-14 1.42108547e-14 1.06581410e-14 2.13162821e-14\n",
      " 1.77635684e-14 2.13162821e-14 2.13162821e-14 7.10542736e-15\n",
      " 1.77635684e-14 1.77635684e-14 1.06581410e-14 7.10542736e-15\n",
      " 1.77635684e-14 2.48689958e-14 1.77635684e-14 1.42108547e-14\n",
      " 7.10542736e-15 2.13162821e-14 1.42108547e-14 3.55271368e-15\n",
      " 2.48689958e-14 1.77635684e-14 1.06581410e-14 1.42108547e-14\n",
      " 1.42108547e-14 1.42108547e-14 1.42108547e-14 2.13162821e-14\n",
      " 1.06581410e-14 1.77635684e-14 2.13162821e-14 1.77635684e-14\n",
      " 1.42108547e-14 1.77635684e-14 7.10542736e-15 1.42108547e-14\n",
      " 2.13162821e-14 2.13162821e-14 2.13162821e-14 1.42108547e-14\n",
      " 3.55271368e-14 1.77635684e-14 1.24344979e-14 1.24344979e-14\n",
      " 1.42108547e-14 1.42108547e-14 7.10542736e-15 1.77635684e-14\n",
      " 2.13162821e-14 8.88178420e-15 1.42108547e-14 1.42108547e-14\n",
      " 1.06581410e-14 2.13162821e-14 1.42108547e-14 1.77635684e-14\n",
      " 2.13162821e-14 1.42108547e-14 1.42108547e-14 2.13162821e-14\n",
      " 1.33226763e-14 1.42108547e-14 1.59872116e-14 1.33226763e-14\n",
      " 1.59872116e-14 1.59872116e-14 2.48689958e-14 1.77635684e-14\n",
      " 1.59872116e-14 2.13162821e-14 2.13162821e-14 2.13162821e-14\n",
      " 2.13162821e-14 1.77635684e-14 1.33226763e-14 1.95399252e-14\n",
      " 1.59872116e-14 2.48689958e-14 1.06581410e-14 1.77635684e-14\n",
      " 7.10542736e-15 1.06581410e-14 1.77635684e-14 1.77635684e-14\n",
      " 1.77635684e-14 3.55271368e-15 8.88178420e-15 1.42108547e-14\n",
      " 1.59872116e-14 1.77635684e-14 1.06581410e-14 1.42108547e-14\n",
      " 1.59872116e-14 1.68753900e-14 1.95399252e-14 8.88178420e-15\n",
      " 2.13162821e-14 1.42108547e-14 1.77635684e-14 1.95399252e-14\n",
      " 1.59872116e-14 1.77635684e-14 7.10542736e-15 7.10542736e-15\n",
      " 1.77635684e-14 8.88178420e-15 1.06581410e-14 1.77635684e-14\n",
      " 2.13162821e-14 2.13162821e-14 8.88178420e-15 1.59872116e-14\n",
      " 2.13162821e-14 2.13162821e-14 1.33226763e-14 1.77635684e-14\n",
      " 1.77635684e-14 1.77635684e-14 2.13162821e-14 1.77635684e-14\n",
      " 1.42108547e-14 1.24344979e-14 1.42108547e-14 1.77635684e-14\n",
      " 1.42108547e-14 1.77635684e-14 2.13162821e-14 1.77635684e-14\n",
      " 1.42108547e-14 1.42108547e-14 1.77635684e-14 1.59872116e-14\n",
      " 1.24344979e-14 1.95399252e-14 1.06581410e-14 1.42108547e-14\n",
      " 1.77635684e-14 1.77635684e-14 1.42108547e-14 1.42108547e-14\n",
      " 2.48689958e-14 1.77635684e-14 1.77635684e-14 1.06581410e-14\n",
      " 1.77635684e-14 1.77635684e-14 1.42108547e-14 2.48689958e-14\n",
      " 1.42108547e-14 1.42108547e-14 1.77635684e-14 1.77635684e-14\n",
      " 1.77635684e-14 2.30926389e-14 1.77635684e-14 1.42108547e-14\n",
      " 1.06581410e-14 2.13162821e-14 1.06581410e-14 2.13162821e-14\n",
      " 2.48689958e-14 2.13162821e-14 1.77635684e-14 7.10542736e-15\n",
      " 2.48689958e-14 1.95399252e-14 1.42108547e-14 8.88178420e-15\n",
      " 1.24344979e-14 2.48689958e-14 1.42108547e-14 2.13162821e-14\n",
      " 1.77635684e-14 1.06581410e-14 1.42108547e-14 1.42108547e-14\n",
      " 1.77635684e-14 1.06581410e-14 1.42108547e-14 2.48689958e-14\n",
      " 1.77635684e-14 1.06581410e-14]\n"
     ]
    }
   ],
   "source": [
    "# Compute the naive projection: project y onto each column of Q and sum.\n",
    "yhat_naive = np.zeros_like(y)\n",
    "\n",
    "for j in range(p_plus_one):\n",
    "    proj = orthogonal_projection(y, Q[:, j])['a_parallel']\n",
    "    yhat_naive = yhat_naive + proj\n",
    "              \n",
    "# Compute the full projection using the projection matrix H.\n",
    "# Since Q is orthonormal, Q.T @ Q equals the identity matrix.\n",
    "H = Q @ Q.T  # Equivalent to Q @ np.linalg.inv(Q.T @ Q) @ Q.T\n",
    "\n",
    "# Verify that H @ y is the same as yhat_naive.\n",
    "if np.allclose(yhat_naive, H @ y):\n",
    "    print(\"The naive projection equals the full projection.\")\n",
    "else:\n",
    "    print(\"There is a discrepancy between the projections.\")\n",
    "\n",
    "# Optionally, to mimic R's expect_equal with unname:\n",
    "print(\"Difference:\", yhat_naive - H @ y)"
   ]
  },
  {
   "cell_type": "markdown",
   "id": "00bbb76d-1108-40bf-99c1-8eaf8ab3ba38",
   "metadata": {},
   "source": [
    "Split the Boston Housing Data into a training set and a test set where the training set is 80% of the observations. Do so at random."
   ]
  },
  {
   "cell_type": "code",
   "execution_count": 35,
   "id": "59951734-a620-484b-9902-8bdd49d8c1c4",
   "metadata": {},
   "outputs": [
    {
     "name": "stdout",
     "output_type": "stream",
     "text": [
      "X_train shape: (405, 14)\n",
      "X_test shape: (101, 14)\n",
      "y_train length: 405\n",
      "y_test length: 101\n"
     ]
    }
   ],
   "source": [
    "# Assume n, X, and y are already defined. For example:\n",
    "# n = X.shape[0]\n",
    "# (Make sure X is a NumPy array and y is a 1D array or similar.)\n",
    "k = 5\n",
    "n_test = round(n * 1 / k)\n",
    "n_train = n - n_test\n",
    "\n",
    "#Create an array of all indices (0 indexed in python)\n",
    "all_indices = np.arange(n)\n",
    "#randomly ample n_test indices for the test ser (without replacement)\n",
    "test_indices = np.random.choice(all_indices, size = n_test, replace = False)\n",
    "#train indices are wheat is not in the test indices\n",
    "train_indices = np.setdiff1d(all_indices, test_indices)\n",
    "\n",
    "X_train = X[train_indices, :]\n",
    "y_train = y[train_indices]\n",
    "X_test = X[test_indices, :]\n",
    "y_test = y[test_indices]\n",
    "\n",
    "\n",
    "print(\"X_train shape:\", X_train.shape)\n",
    "print(\"X_test shape:\", X_test.shape)\n",
    "print(\"y_train length:\", len(y_train))\n",
    "print(\"y_test length:\", len(y_test))\n"
   ]
  },
  {
   "cell_type": "markdown",
   "id": "d3e2cf23-efeb-430e-a04f-c361cde984f5",
   "metadata": {},
   "source": [
    "Fit an OLS model. Find the s_e in sample and out of sample. Which one is greater? Note: we are now using s_e and not RMSE since RMSE has the n-(p + 1) in the denominator not n-1 which attempts to de-bias the error estimate by inflating the estimate when overfitting in high p. Again, we're just using `sd(e)`, the sample standard deviation of the residuals."
   ]
  },
  {
   "cell_type": "code",
   "execution_count": 37,
   "id": "80db879f-35ca-4023-9a30-7fa09ff1bcb6",
   "metadata": {},
   "outputs": [
    {
     "name": "stdout",
     "output_type": "stream",
     "text": [
      "In-sample s_e (sample SD of residuals): 4.75573414563032\n",
      "Out-of-sample s_e (sample SD of residuals): 4.534163064894879\n"
     ]
    }
   ],
   "source": [
    "# Fit the OLS model on the training set.\n",
    "# (Assume X_train and y_train have already been defined,\n",
    "# and that X_train already includes a constant column if needed.)\n",
    "model = sm.OLS(y_train, X_train).fit()\n",
    "\n",
    "# in sample standard error\n",
    "in_sample_se = np.std(model.resid, ddof = 1)\n",
    "# out of sample predictions and residuals\n",
    "y_pred_test = model.predict(X_test)\n",
    "out_sample_resid = y_test - y_pred_test\n",
    "out_sample_se = np.std(out_sample_resid, ddof = 1)\n",
    "\n",
    "print(\"In-sample s_e (sample SD of residuals):\", in_sample_se)\n",
    "print(\"Out-of-sample s_e (sample SD of residuals):\", out_sample_se)\n",
    "\n",
    "# Typically, the out-of-sample s_e will be greater than the in-sample s_e."
   ]
  },
  {
   "cell_type": "markdown",
   "id": "2f02f4a0-209b-466c-ab17-ec7474bcb2f4",
   "metadata": {},
   "source": [
    "Do these two exercises `Nsim = 1000` times and find the average difference between s_e and ooss_e."
   ]
  },
  {
   "cell_type": "code",
   "execution_count": 39,
   "id": "a50414fb-9dc6-4c73-a540-534699b1df68",
   "metadata": {},
   "outputs": [
    {
     "name": "stdout",
     "output_type": "stream",
     "text": [
      "Average difference (s_e - ooss_e): -0.21774141991249799\n"
     ]
    }
   ],
   "source": [
    "# Assume n, X, and y are already defined.\n",
    "# Here, n is the total number of observations.\n",
    "# X is the design matrix and y is the response vector.\n",
    "# For consistency with the R code (which uses '+0'), we will fit the model without a constant.\n",
    "# If X already has a constant column, you might need to remove it; here we assume X does NOT include one.\n",
    "k = 5\n",
    "n_test = round(n * 1 / k)\n",
    "n_train = n - n_test\n",
    "Nsim = 1000\n",
    "\n",
    "oosSSE_array = np.empty(Nsim)\n",
    "s_e_array = np.empty(Nsim)\n",
    "\n",
    "for i in range(Nsim):\n",
    "    all_indices = np.arange(n)\n",
    "    test_indices = np.random.choice(all_indices, size = n_test, replace = False)\n",
    "    train_indices = np.setdiff1d(all_indices, test_indices)\n",
    "\n",
    "    X_train = X[train_indices, :]\n",
    "    y_train = y[train_indices]\n",
    "    X_test = X[test_indices, :]\n",
    "    y_test = y[test_indices]\n",
    "\n",
    "    model = sm.OLS(y_train, X_train).fit()\n",
    "    # Predict on the test set\n",
    "    y_hat_test = model.predict(X_test)\n",
    "    \n",
    "    # Compute out-of-sample standard error (sample standard deviation of test residuals)\n",
    "    oosSSE_array[i] = np.std(y_test - y_hat_test, ddof = 1)\n",
    "    # Compute in-sample standard error (sample standard deviation of residuals from the training fit)\n",
    "    s_e_array[i] = np.std(model.resid, ddof = 1)\n",
    "\n",
    "# Compute the average difference between in-sample and out-of-sample s_e\n",
    "mean_diff = np.mean(s_e_array - oosSSE_array)\n",
    "print(\"Average difference (s_e - ooss_e):\", mean_diff)\n"
   ]
  },
  {
   "cell_type": "markdown",
   "id": "c2aafa5f-d4c5-4fdb-a139-98e3a6154f86",
   "metadata": {},
   "source": [
    "We'll now add random junk to the data so that `p_plus_one = n_train` and create a new data matrix `X_with_junk.`"
   ]
  },
  {
   "cell_type": "code",
   "execution_count": 41,
   "id": "b2b38a88-f31a-46e9-aedd-d2eec495f47d",
   "metadata": {},
   "outputs": [
    {
     "name": "stdout",
     "output_type": "stream",
     "text": [
      "X shape: (506, 14)\n",
      "X_with_junk shape: (506, 405)\n"
     ]
    }
   ],
   "source": [
    "# Assume X, n, n_train, and p_plus_one are already defined.\n",
    "# Create the junk matrix: with n rows and (n_train - p_plus_one) columns.\n",
    "junk = np.random.randn(n, n_train - p_plus_one)\n",
    "\n",
    "# Concatenate X and the junk matrix horizontally\n",
    "X_with_junk = np.hstack((X, junk))\n",
    "\n",
    "# Print dimensions\n",
    "print(\"X shape:\", X.shape)\n",
    "print(\"X_with_junk shape:\", X_with_junk.shape)"
   ]
  },
  {
   "cell_type": "markdown",
   "id": "acafda18-b5bc-4911-aea4-90a2d1d27e3d",
   "metadata": {},
   "source": [
    "Repeat the exercise above measuring the average s_e and ooss_e but this time record these metrics by number of features used. That is, do it for the first column of `X_with_junk` (the intercept column), then do it for the first and second columns, then the first three columns, etc until you do it for all columns of `X_with_junk`. Save these in `s_e_by_p` and `ooss_e_by_p`."
   ]
  },
  {
   "cell_type": "code",
   "execution_count": 43,
   "id": "2ef7cef0-29a4-48fe-81e8-7808dd9e011d",
   "metadata": {},
   "outputs": [
    {
     "name": "stdout",
     "output_type": "stream",
     "text": [
      "Average out-of-sample s_e by number of features:\n",
      "[  9.30368717   8.41068739   8.19576393   8.1322536    7.3495703\n",
      "   7.57064828   6.0492417    6.04580818   5.68821112   5.58478548\n",
      "   5.53437121   5.65670261   5.19819067   4.90976751   5.02887989\n",
      "   4.95685517   4.79495585   5.00582816   4.99343681   4.71621479\n",
      "   4.88751389   5.15694699   4.80008918   4.72708536   4.94070399\n",
      "   4.8819765    4.75205187   4.87502364   4.82689987   4.87284506\n",
      "   4.92219484   5.03175082   5.20002699   4.87667297   4.96170918\n",
      "   4.90622311   4.9719373    5.1661185    5.06183512   5.05775726\n",
      "   5.03037845   5.40661783   5.1397493    5.47506476   4.99781388\n",
      "   5.23892649   5.02945712   4.99866276   5.17653893   5.06849331\n",
      "   5.23732273   5.3869959    5.28269291   4.7875097    5.23745131\n",
      "   5.28571399   5.10176321   4.88893068   5.31576886   5.0108902\n",
      "   4.97643876   4.92402718   5.27122373   4.85767424   4.93774587\n",
      "   5.01792397   5.52271023   5.0731092    4.89835278   4.99333347\n",
      "   5.28553078   5.07992021   5.29103466   5.24918217   5.11880346\n",
      "   5.37490209   5.51959447   5.43851541   5.31516867   5.28394921\n",
      "   5.19850085   5.32569853   5.23513849   5.02561812   5.14969359\n",
      "   5.28350505   5.29780497   5.63378035   5.37106954   5.92440765\n",
      "   5.27522476   5.80164771   5.16925916   5.50204139   5.72654128\n",
      "   5.57583266   5.33870066   5.53709316   5.63367241   5.50332914\n",
      "   5.37963239   5.13573673   5.20217881   5.79245701   5.79821883\n",
      "   5.2954277    5.42078435   5.64575712   5.52360123   5.87262577\n",
      "   5.40297294   5.60096316   5.61980675   5.65533616   5.51473941\n",
      "   5.4682251    5.61606798   5.49890208   5.25141329   5.4350896\n",
      "   5.93336188   5.54332312   5.65435204   5.55419758   5.95875321\n",
      "   5.73924709   5.79836465   5.74931281   5.52570051   5.74756186\n",
      "   5.71652733   5.72418226   5.7153719    5.46562784   5.66564377\n",
      "   5.73574727   6.08102491   5.94191755   5.82069751   5.87143081\n",
      "   5.73926366   5.75913263   5.72809346   6.09387114   5.77572944\n",
      "   5.8555484    5.93513947   6.06353603   5.89680022   5.81613881\n",
      "   6.27439271   6.07249044   6.07289188   5.93301223   6.18570578\n",
      "   5.99564181   5.89616011   5.96529885   5.86622781   6.20785449\n",
      "   5.99102408   6.09446856   6.00046066   6.16728001   6.19954038\n",
      "   6.0703452    5.92120655   5.89239641   6.29569951   6.26622532\n",
      "   6.2638173    6.47678381   6.23860739   6.27707187   6.22528695\n",
      "   6.04218623   6.18843748   6.30518288   6.3513579    6.5016546\n",
      "   6.06041589   6.30637216   6.20927095   6.45068436   6.37438978\n",
      "   6.47439093   6.53169955   6.26455724   6.25921616   6.42644983\n",
      "   6.59860973   6.6479022    6.67234223   6.60799842   6.31940005\n",
      "   6.48841986   6.76626331   6.38227062   6.58448528   6.72742923\n",
      "   6.51657078   6.62341725   6.62488543   6.55749349   6.43998631\n",
      "   6.44806824   6.47038414   6.68933253   6.90432495   6.87366542\n",
      "   6.48136097   6.64415186   6.68644374   6.7774835    6.83990531\n",
      "   6.60756331   7.10346386   6.70880212   7.0379525    7.04217999\n",
      "   6.72780951   6.9711969    6.73514419   6.91001263   6.57955826\n",
      "   7.26327559   6.88866882   7.05437157   7.02218026   6.93631829\n",
      "   7.23151559   7.04340432   7.22993811   7.23725416   7.31514852\n",
      "   7.18620219   7.29658893   7.26119447   7.75722785   7.28959779\n",
      "   7.53232805   7.40014672   7.78058499   7.55974359   7.82204486\n",
      "   7.2901421    7.47897673   7.72244362   7.82141193   7.8418028\n",
      "   7.43588529   7.53953      8.12484839   7.49053441   7.87410176\n",
      "   7.66758709   8.09672463   7.79939739   8.18159239   7.98502484\n",
      "   7.92841696   8.15662381   7.63894422   8.07368385   8.3385356\n",
      "   7.97281923   8.56291148   8.23935751   8.10451213   8.33179481\n",
      "   8.33591089   8.46615847   8.1595197    8.52788204   8.23247702\n",
      "   8.46529596   8.67710579   8.65362144   8.79362775   8.82524015\n",
      "   8.51516703   8.88469228   8.07967977   8.39064886   8.39405011\n",
      "   8.83976203   8.63518316   9.08910262   8.9058689    8.73564758\n",
      "   8.5747766    8.70095181   9.07899668   8.51714472   9.28416707\n",
      "   8.47450868   8.76489428   8.82976421   9.05079037   9.02330334\n",
      "   8.76997767   9.39599384   8.94622868   9.16513808   9.51643217\n",
      "   9.00895038   9.29359838   9.65853505  10.15522979   9.42913458\n",
      "   9.41561178  10.39061432  10.23582686   9.63137481  10.13533082\n",
      "  10.26562965  10.39478326  10.13373392  10.78755751  10.64657425\n",
      "  10.28353554  10.14689442  10.00683972  10.25754875  10.93625738\n",
      "  10.07563395  10.67070917  10.20726742  10.61764024  10.67358882\n",
      "  10.59591947  11.21208585  11.25531645  11.13589403  11.43746327\n",
      "  12.06464939  11.21185737  11.57938311  11.43506028  11.74936457\n",
      "  11.96970007  11.65247069  12.15631009  11.78713034  11.80545092\n",
      "  12.42077208  12.60215342  12.79857369  13.54150734  13.38818766\n",
      "  13.52509179  13.6069716   12.77133121  13.9071689   13.38578659\n",
      "  13.04253894  13.36476945  14.2897254   14.0254906   14.42463202\n",
      "  14.5090458   14.93426829  15.16141492  14.7234733   15.25402497\n",
      "  16.15604236  14.17170512  15.30475333  16.37721087  17.38057047\n",
      "  15.84444732  16.56694204  16.46653535  16.81255393  17.14303847\n",
      "  17.68661912  17.76606754  17.07008987  17.53104312  18.9040335\n",
      "  18.3753521   19.88891806  21.20129741  20.75312386  22.63091702\n",
      "  20.30565012  20.86501598  21.64456612  22.60765657  22.82810047\n",
      "  27.06913334  27.62235589  28.38401631  26.5282053   26.74548061\n",
      "  32.61957078  34.92747085  32.08221922  42.96273498  43.77265252\n",
      "  44.06359112  53.71140195  77.0069724  175.42759596 231.72967192]\n",
      "Average in-sample s_e by number of features:\n",
      "[9.17090270e+00 8.47679246e+00 8.01118903e+00 7.60256816e+00\n",
      " 7.58304609e+00 7.51267708e+00 5.88348896e+00 5.86563595e+00\n",
      " 5.58072234e+00 5.57261895e+00 5.51852789e+00 5.19721809e+00\n",
      " 5.17854536e+00 4.65188249e+00 4.61212794e+00 4.62981351e+00\n",
      " 4.66481354e+00 4.58595999e+00 4.58694711e+00 4.65473634e+00\n",
      " 4.61516969e+00 4.53920077e+00 4.63781037e+00 4.63947459e+00\n",
      " 4.59047249e+00 4.60911926e+00 4.60452246e+00 4.59829423e+00\n",
      " 4.60876049e+00 4.59243463e+00 4.59719345e+00 4.56038326e+00\n",
      " 4.50680236e+00 4.59304070e+00 4.57485694e+00 4.59013886e+00\n",
      " 4.57927832e+00 4.50211066e+00 4.51320926e+00 4.48416528e+00\n",
      " 4.49839240e+00 4.40031785e+00 4.46358856e+00 4.35319839e+00\n",
      " 4.47079945e+00 4.43933789e+00 4.47552816e+00 4.48630679e+00\n",
      " 4.42412383e+00 4.44504135e+00 4.39618113e+00 4.33683287e+00\n",
      " 4.34588928e+00 4.48346387e+00 4.36355492e+00 4.34802308e+00\n",
      " 4.38703928e+00 4.43578183e+00 4.33840781e+00 4.41161362e+00\n",
      " 4.42155323e+00 4.42563918e+00 4.33965916e+00 4.42696278e+00\n",
      " 4.41489233e+00 4.37737987e+00 4.25032883e+00 4.36644605e+00\n",
      " 4.37953879e+00 4.34301138e+00 4.25644428e+00 4.32743572e+00\n",
      " 4.25371918e+00 4.24357561e+00 4.29283152e+00 4.21558731e+00\n",
      " 4.16284995e+00 4.19870332e+00 4.21672464e+00 4.24568341e+00\n",
      " 4.25345509e+00 4.21679135e+00 4.24003074e+00 4.29098057e+00\n",
      " 4.28668957e+00 4.24681381e+00 4.23834211e+00 4.13943136e+00\n",
      " 4.22659030e+00 4.05892950e+00 4.23672768e+00 4.12599202e+00\n",
      " 4.25961765e+00 4.18682168e+00 4.09524156e+00 4.13278986e+00\n",
      " 4.19241148e+00 4.16008482e+00 4.13001213e+00 4.16349395e+00\n",
      " 4.16464490e+00 4.20087600e+00 4.17126529e+00 4.01373035e+00\n",
      " 4.03355518e+00 4.10461278e+00 4.08659644e+00 4.03205096e+00\n",
      " 4.07063525e+00 3.98237619e+00 4.08741745e+00 4.02079044e+00\n",
      " 4.02271503e+00 3.97954369e+00 4.01237518e+00 4.02792541e+00\n",
      " 4.00072092e+00 3.99364977e+00 4.05024924e+00 3.98424569e+00\n",
      " 3.86933519e+00 3.98436231e+00 3.95104513e+00 3.95512887e+00\n",
      " 3.84827817e+00 3.89450105e+00 3.90693035e+00 3.91382561e+00\n",
      " 3.97221033e+00 3.93222711e+00 3.92127007e+00 3.89754351e+00\n",
      " 3.92752634e+00 3.99551658e+00 3.94117952e+00 3.90697379e+00\n",
      " 3.78476780e+00 3.79220878e+00 3.85149115e+00 3.82613081e+00\n",
      " 3.84812004e+00 3.82223572e+00 3.82820248e+00 3.71248538e+00\n",
      " 3.82801395e+00 3.78529521e+00 3.72195909e+00 3.64895574e+00\n",
      " 3.73874595e+00 3.75934592e+00 3.65803055e+00 3.69127541e+00\n",
      " 3.68026871e+00 3.69492260e+00 3.64128176e+00 3.69458113e+00\n",
      " 3.72022383e+00 3.69744886e+00 3.71874114e+00 3.61760241e+00\n",
      " 3.67845122e+00 3.63791207e+00 3.65110415e+00 3.64548273e+00\n",
      " 3.63423096e+00 3.67147199e+00 3.64961738e+00 3.66829345e+00\n",
      " 3.58001495e+00 3.57323479e+00 3.57289027e+00 3.48368939e+00\n",
      " 3.59165061e+00 3.56607376e+00 3.52931173e+00 3.56306204e+00\n",
      " 3.53164928e+00 3.54863649e+00 3.48977791e+00 3.49277826e+00\n",
      " 3.53578468e+00 3.50644521e+00 3.55166307e+00 3.46637622e+00\n",
      " 3.48695630e+00 3.43780531e+00 3.45192063e+00 3.45964442e+00\n",
      " 3.49248017e+00 3.45076143e+00 3.36370343e+00 3.41049913e+00\n",
      " 3.35592057e+00 3.33790215e+00 3.44236849e+00 3.40801295e+00\n",
      " 3.33182882e+00 3.42886246e+00 3.37503701e+00 3.29875001e+00\n",
      " 3.33107268e+00 3.33259479e+00 3.27679636e+00 3.29905799e+00\n",
      " 3.33012436e+00 3.29654194e+00 3.30947067e+00 3.28200957e+00\n",
      " 3.20315637e+00 3.24222305e+00 3.28087696e+00 3.26971306e+00\n",
      " 3.20870288e+00 3.24341182e+00 3.21697537e+00 3.20946509e+00\n",
      " 3.08586172e+00 3.17775745e+00 3.16897926e+00 3.10400890e+00\n",
      " 3.12461312e+00 3.11478531e+00 3.12949722e+00 3.11686670e+00\n",
      " 3.12272120e+00 3.02479039e+00 3.10114366e+00 3.06746142e+00\n",
      " 3.09471261e+00 3.05970685e+00 3.03448523e+00 3.03387473e+00\n",
      " 3.07009416e+00 3.09055056e+00 3.03308908e+00 3.04374172e+00\n",
      " 3.00120937e+00 3.04962269e+00 2.91803829e+00 3.00363901e+00\n",
      " 2.96457015e+00 2.99163457e+00 2.89018586e+00 2.95274217e+00\n",
      " 2.83927183e+00 3.02059337e+00 2.96572442e+00 2.92081044e+00\n",
      " 2.89521316e+00 2.90486096e+00 2.93624128e+00 2.94390215e+00\n",
      " 2.82905032e+00 2.92885291e+00 2.87201461e+00 2.87111015e+00\n",
      " 2.83124231e+00 2.83274722e+00 2.78719774e+00 2.85297124e+00\n",
      " 2.81050176e+00 2.80765486e+00 2.85875322e+00 2.81579951e+00\n",
      " 2.75006162e+00 2.82656303e+00 2.73238977e+00 2.80238304e+00\n",
      " 2.79775690e+00 2.77118935e+00 2.74374937e+00 2.67113551e+00\n",
      " 2.77252927e+00 2.67628809e+00 2.75773385e+00 2.64282701e+00\n",
      " 2.58949862e+00 2.62846150e+00 2.64729330e+00 2.63450197e+00\n",
      " 2.61037209e+00 2.53180981e+00 2.69054942e+00 2.60345243e+00\n",
      " 2.58507239e+00 2.55098928e+00 2.57660152e+00 2.54699542e+00\n",
      " 2.52835836e+00 2.54910212e+00 2.55165079e+00 2.46380944e+00\n",
      " 2.40066441e+00 2.43619277e+00 2.34745346e+00 2.45922775e+00\n",
      " 2.39147580e+00 2.40383316e+00 2.37715505e+00 2.31440014e+00\n",
      " 2.39622846e+00 2.30848559e+00 2.37748708e+00 2.37697863e+00\n",
      " 2.24763614e+00 2.33124676e+00 2.29749449e+00 2.27016555e+00\n",
      " 2.25524612e+00 2.25331209e+00 2.30913221e+00 2.20819160e+00\n",
      " 2.15394821e+00 2.24167162e+00 2.21455061e+00 2.18587728e+00\n",
      " 2.19762392e+00 2.19040915e+00 2.15037305e+00 2.11968162e+00\n",
      " 2.08925404e+00 2.07184248e+00 2.09844503e+00 2.00560240e+00\n",
      " 2.03932871e+00 2.10790234e+00 2.03168136e+00 2.05769967e+00\n",
      " 2.04293040e+00 2.00926017e+00 2.03542718e+00 1.99111303e+00\n",
      " 1.90187618e+00 1.88008743e+00 1.98162591e+00 1.89246181e+00\n",
      " 1.93387832e+00 1.80435195e+00 1.95082384e+00 1.87310536e+00\n",
      " 1.83731628e+00 1.90748853e+00 1.93104447e+00 1.86839292e+00\n",
      " 1.83760197e+00 1.81917966e+00 1.80317215e+00 1.80459537e+00\n",
      " 1.74779748e+00 1.67228723e+00 1.75272466e+00 1.76151991e+00\n",
      " 1.76625779e+00 1.72340492e+00 1.71951162e+00 1.65202504e+00\n",
      " 1.61707854e+00 1.55980215e+00 1.62343774e+00 1.64259444e+00\n",
      " 1.52720326e+00 1.56505486e+00 1.51328530e+00 1.56650403e+00\n",
      " 1.51606362e+00 1.44166783e+00 1.49086400e+00 1.40732895e+00\n",
      " 1.41891120e+00 1.33922342e+00 1.34022286e+00 1.21524953e+00\n",
      " 1.19559324e+00 1.28688930e+00 1.26918031e+00 1.19253826e+00\n",
      " 1.20358233e+00 1.12631865e+00 1.12559818e+00 1.14044983e+00\n",
      " 1.11730329e+00 1.03614580e+00 1.03255384e+00 1.07843291e+00\n",
      " 9.68337330e-01 9.83273408e-01 9.07326875e-01 9.28251625e-01\n",
      " 8.21130613e-01 8.80551567e-01 8.02089381e-01 8.69232384e-01\n",
      " 7.45820501e-01 7.61319304e-01 7.00316954e-01 6.36338047e-01\n",
      " 6.24591840e-01 5.74614922e-01 4.77372317e-01 4.18380672e-01\n",
      " 4.60637040e-01 3.27189771e-01 3.13155770e-01 1.55754034e-01\n",
      " 2.45287910e-11]\n"
     ]
    }
   ],
   "source": [
    "K = 5  # Test set is 1/5 of the data\n",
    "n_test = round(n * 1 / k)\n",
    "n_train = n - n_test\n",
    "Nsim = 10\n",
    "\n",
    "num_features = X_with_junk.shape[1]\n",
    "ooss_e_by_p = np.empty(num_features)\n",
    "s_e_by_p = np.empty(num_features)\n",
    "\n",
    "# Loop over model sizes (using the first j columns of X_with_junk)\n",
    "for j in range(1, num_features + 1):\n",
    "    oosSSE_array = np.empty(Nsim)\n",
    "    s_e_array = np.empty(Nsim)\n",
    "    \n",
    "    for i in range(Nsim):\n",
    "        # Generate random test indices without replacement (0-indexed)\n",
    "        all_indices = np.arange(n)\n",
    "        test_indices = np.random.choice(all_indices, size = n_test, replace = False)\n",
    "        train_indices = np.setdiff1d(all_indices, test_indices)\n",
    "        \n",
    "        # Subset the data using the first j columns\n",
    "        X_train = X_with_junk[train_indices, :j]\n",
    "        y_train = y[train_indices]\n",
    "        X_test = X_with_junk[test_indices, :j]\n",
    "        y_test = y[test_indices]\n",
    "        \n",
    "        # Fit an OLS model with no intercept (like lm(... + 0) in R)\n",
    "        model = sm.OLS(y_train, X_train).fit()\n",
    "        \n",
    "        # Predict on the test set\n",
    "        y_hat_test = model.predict(X_test)\n",
    "        \n",
    "        # Compute the sample standard deviation (ddof=1) of residuals\n",
    "        oosSSE_array[i] = np.std(y_test - y_hat_test, ddof=1)\n",
    "        s_e_array[i] = np.std(model.resid, ddof=1)\n",
    "    \n",
    "    # Record the average errors for model size j\n",
    "    ooss_e_by_p[j-1] = np.mean(oosSSE_array)\n",
    "    s_e_by_p[j-1] = np.mean(s_e_array)\n",
    "\n",
    "print(\"Average out-of-sample s_e by number of features:\")\n",
    "print(ooss_e_by_p)\n",
    "print(\"Average in-sample s_e by number of features:\")\n",
    "print(s_e_by_p)"
   ]
  },
  {
   "cell_type": "markdown",
   "id": "fb20846e-3625-4081-9ea6-74e977e8af8e",
   "metadata": {},
   "source": [
    "You can graph them here:"
   ]
  },
  {
   "cell_type": "code",
   "execution_count": 48,
   "id": "d689dae8-a476-46f0-9540-86cd78005c6e",
   "metadata": {},
   "outputs": [
    {
     "data": {
      "image/png": "[encoded data removed]"
     },
     "metadata": {
      "image/png": {
       "height": 480,
       "width": 640
      }
     },
     "output_type": "display_data"
    }
   ],
   "source": [
    "import pandas as pd\n",
    "from plotnine import ggplot, aes, geom_line, labs, theme_minimal\n",
    "\n",
    "# Create data frames for the in-sample and out-of-sample standard errors.\n",
    "df_in = pd.DataFrame({\n",
    "    's_e': s_e_by_p,\n",
    "    'p': range(1, n_train + 1),\n",
    "    'series': 'in-sample'\n",
    "})\n",
    "df_out = pd.DataFrame({\n",
    "    's_e': ooss_e_by_p,\n",
    "    'p': range(1, n_train + 1),\n",
    "    'series': 'out-sample'\n",
    "})\n",
    "\n",
    "# Combine the two dataframes\n",
    "df = pd.concat([df_in, df_out], ignore_index=True)\n",
    "\n",
    "# Create the plot using plotnine\n",
    "plot = (ggplot(df, aes(x='p', y='s_e', color='series'))\n",
    "        + geom_line()\n",
    "        + labs(x='Number of features (p)',\n",
    "               y='s_e',\n",
    "               title='In-sample vs. Out-of-sample s_e by number of features')\n",
    "        + theme_minimal()\n",
    "       )\n",
    "\n",
    "plot"
   ]
  },
  {
   "cell_type": "markdown",
   "id": "503c5d83-d874-4717-8d94-89324d3537ba",
   "metadata": {},
   "source": [
    "Is this shape expected? Explain."
   ]
  },
  {
   "cell_type": "markdown",
   "id": "623ef063-4883-4258-997c-f017a5123742",
   "metadata": {},
   "source": [
    "Yes this shape is expected because as we add more features the in-sample error will decrease due to the the model fitting the additional features and data. However, the out of sample error will start to get worse due to the over-fitting that is occurring. This will lead to a worse modle that produces worse predictions for data that is out of sample. "
   ]
  },
  {
   "cell_type": "markdown",
   "id": "8229ba1f-a813-467d-8a86-6ac3b9112cd3",
   "metadata": {},
   "source": [
    "Now repeat the exercise above except use 5-fold CV (K=5 cross validation) for each p. The code below will also plot the oos RMSE. This oos RMSE curve should be similar to the curve in the above problem, but now it will be more stable. "
   ]
  },
  {
   "cell_type": "code",
   "execution_count": 48,
   "id": "d8982a0f-39e6-4f35-b675-325ff0798c0d",
   "metadata": {},
   "outputs": [
    {
     "name": "stdout",
     "output_type": "stream",
     "text": [
      "<ggplot: (640 x 480)>\n"
     ]
    }
   ],
   "source": [
    "from plotnine import ggplot, aes, geom_line, labs, theme_minimal\n",
    "# Assume n, y, and X_with_junk are already defined.\n",
    "p_max = X_with_junk.shape[1]  # Total number of features\n",
    "K = 5  # Number of folds\n",
    "\n",
    "# Create a folds array: assign each observation to one of K folds, then shuffle\n",
    "folds = np.repeat(np.arange(K), np.ceil(n / K))[:n]\n",
    "np.random.shuffle(folds)\n",
    "\n",
    "# Initialize a matrix to store RMSE values for each model size and fold\n",
    "ooss_e_by_p_k = np.empty((p_max, K))\n",
    "\n",
    "for j in range(1, p_max + 1):  # Iterate over number of features\n",
    "    for k in range(K):  # Iterate over each fold\n",
    "        test_indices = np.where(folds == k)[0]\n",
    "        train_indices = np.where(folds != k)[0]\n",
    "        \n",
    "        # Subset the data using the first j columns\n",
    "        X_train = X_with_junk[train_indices, :j]\n",
    "        y_train = y[train_indices]\n",
    "        X_test = X_with_junk[test_indices, :j]\n",
    "        y_test = y[test_indices]\n",
    "        \n",
    "        # Fit an OLS model with no intercept\n",
    "        model = sm.OLS(y_train, X_train).fit()\n",
    "        y_hat = model.predict(X_test)\n",
    "        \n",
    "        # Compute RMSE for this fold and model size\n",
    "        ooss_e_by_p_k[j-1, k] = np.sqrt(np.mean((y_test - y_hat) ** 2))\n",
    "\n",
    "# Compute the mean and standard deviation of RMSE over folds\n",
    "mean_rmse_by_p = np.mean(ooss_e_by_p_k, axis=1)\n",
    "sd_rmse_by_p = np.std(ooss_e_by_p_k, axis=1)\n",
    "\n",
    "# Create a DataFrame for plotting\n",
    "df_plot = pd.DataFrame({'p': np.arange(1, p_max + 1), 's_e': sd_rmse_by_p})\n",
    "\n",
    "# Plot using plotnine\n",
    "plot = (\n",
    "    ggplot(df_plot, aes(x='p', y='s_e'))\n",
    "    + geom_line()\n",
    "    + labs(x=\"Number of Features\", y=\"OOS RMSE (sd)\", title=\"5-fold CV OOS RMSE vs. Number of Features\")\n",
    "    + theme_minimal()\n",
    ")\n",
    "\n",
    "print(plot)\n"
   ]
  },
  {
   "cell_type": "markdown",
   "id": "bee2321b-3537-4bb9-8b7e-f24fdf5c4419",
   "metadata": {},
   "source": [
    "Even though the concept of confidence intervals (CIs) will not be on the midterm, construct 95% CIs for each of the oosRMSE measurements by number of features, p. A CI is a real-number interval with a lower bound and upper bound. The formula for the CI is [s_e - 2 * s_s_e, s_e + 2 * s_s_e]."
   ]
  },
  {
   "cell_type": "code",
   "execution_count": 61,
   "id": "06f25d85-53c0-4b1d-b4dc-6edb85664970",
   "metadata": {},
   "outputs": [
    {
     "name": "stdout",
     "output_type": "stream",
     "text": [
      "       p    mean_oos    CI_lower    CI_upper\n",
      "0      1    9.165063    7.535966   10.794160\n",
      "1      2    8.486665    6.423347   10.549982\n",
      "2      3    8.049311    5.885952   10.212670\n",
      "3      4    7.709715    5.598539    9.820890\n",
      "4      5    7.557527    5.646146    9.468907\n",
      "..   ...         ...         ...         ...\n",
      "400  401   48.437818   24.305020   72.570616\n",
      "401  402   48.983965   35.001796   62.966134\n",
      "402  403   53.522323   37.137725   69.906921\n",
      "403  404  125.902926 -101.333290  353.139142\n",
      "404  405  118.102199 -133.745075  369.949473\n",
      "\n",
      "[405 rows x 4 columns]\n"
     ]
    }
   ],
   "source": [
    "# Compute the mean out-of-sample RMSE for each model size (row-wise mean)\n",
    "mean_oos = np.mean(ooss_e_by_p_k)\n",
    "\n",
    "# Compute the sample standard deviation for each model size (across simulations)\n",
    "sd_oos = np.std(ooss_e_by_p_k)\n",
    "\n",
    "# Construct the 95% confidence intervals\n",
    "CI_lower = mean_rmse_by_p - 2 * sd_rmse_by_p\n",
    "CI_upper = mean_rmse_by_p + 2 * sd_rmse_by_p\n",
    "\n",
    "\n",
    "# Create a DataFrame with the number of features and the CI bounds.\n",
    "# Assuming n_train is the number of features (columns in X_with_junk)\n",
    "df_CI = pd.DataFrame({\n",
    "    'p': np.arange(1, p_max + 1),\n",
    "    'mean_oos': mean_rmse_by_p,\n",
    "    'CI_lower': CI_lower,\n",
    "    'CI_upper': CI_upper\n",
    "})\n",
    "\n",
    "\n",
    "print(df_CI)"
   ]
  }
 ],
 "metadata": {
  "kernelspec": {
   "display_name": "Python [conda env:base] *",
   "language": "python",
   "name": "conda-base-py"
  },
  "language_info": {
   "codemirror_mode": {
    "name": "ipython",
    "version": 3
   },
   "file_extension": ".py",
   "mimetype": "text/x-python",
   "name": "python",
   "nbconvert_exporter": "python",
   "pygments_lexer": "ipython3",
   "version": "3.12.7"
  }
 },
 "nbformat": 4,
 "nbformat_minor": 5
}
